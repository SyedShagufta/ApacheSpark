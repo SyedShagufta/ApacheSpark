{
 "cells": [
  {
   "cell_type": "code",
   "execution_count": 1,
   "id": "cb498bf3-a51e-4654-b7c3-8e93730176c3",
   "metadata": {},
   "outputs": [
    {
     "name": "stdout",
     "output_type": "stream",
     "text": [
      "addition =  15\n",
      "subtraction =  5\n",
      "multiplication =  50\n",
      "real division =  2.0\n",
      "int division =  2\n",
      "reminder =  0\n"
     ]
    }
   ],
   "source": [
    "#arithmatic operators\n",
    "a=10\n",
    "b=5\n",
    "print(\"addition = \",a+b)\n",
    "print(\"subtraction = \",a-b)\n",
    "print(\"multiplication = \",a*b)\n",
    "print(\"real division = \",a/b)\n",
    "print(\"int division = \",a//b)\n",
    "print(\"reminder = \",a%b)"
   ]
  },
  {
   "cell_type": "code",
   "execution_count": 4,
   "id": "10e7f061-2e33-42cb-812e-586eae76fcaf",
   "metadata": {},
   "outputs": [
    {
     "name": "stdout",
     "output_type": "stream",
     "text": [
      "square of a =  100\n",
      "cube of a =  1000\n"
     ]
    }
   ],
   "source": [
    "#square and cube\n",
    "print(\"square of a = \",a**2)\n",
    "print(\"cube of a = \",a**3)"
   ]
  },
  {
   "cell_type": "code",
   "execution_count": 4,
   "id": "809a6bb5-2239-4595-8d43-65caad25f812",
   "metadata": {},
   "outputs": [
    {
     "name": "stdout",
     "output_type": "stream",
     "text": [
      "x and y is =  False\n",
      "x or y is =  True\n",
      "not x is =  False\n",
      "not y is =  True\n"
     ]
    }
   ],
   "source": [
    "#logical operators \n",
    "x = True\n",
    "y = False\n",
    "print(\"x and y is = \",x and y)\n",
    "print(\"x or y is = \",x or y)\n",
    "print(\"not x is = \", not x)\n",
    "print(\"not y is = \", not y)"
   ]
  },
  {
   "cell_type": "code",
   "execution_count": 5,
   "id": "2cacfb9e-61ac-4b84-823a-7bbe78c37837",
   "metadata": {},
   "outputs": [
    {
     "name": "stdout",
     "output_type": "stream",
     "text": [
      "m>n is =  False\n",
      "m>=n is =  False\n",
      "m<n is =  True\n",
      "m<=n is =  True\n",
      "m==n is =  False\n",
      "m!=n is =  True\n"
     ]
    }
   ],
   "source": [
    "#comparision operators\n",
    "m=10\n",
    "n=20\n",
    "print(\"m>n is = \",m>n)\n",
    "print(\"m>=n is = \",m>=n)\n",
    "print(\"m<n is = \",m<n)\n",
    "print(\"m<=n is = \",m<=n)\n",
    "print(\"m==n is = \",m==n)\n",
    "print(\"m!=n is = \",m!=n)"
   ]
  },
  {
   "cell_type": "code",
   "execution_count": 5,
   "id": "18a4af64-9fce-4b5c-b0f2-1fc8d8a3a7a2",
   "metadata": {},
   "outputs": [
    {
     "data": {
      "text/plain": [
       "30"
      ]
     },
     "execution_count": 5,
     "metadata": {},
     "output_type": "execute_result"
    }
   ],
   "source": [
    "#assignment operators\n",
    "d=20\n",
    "d+=10 # d = d + 10\n",
    "d"
   ]
  },
  {
   "cell_type": "code",
   "execution_count": 14,
   "id": "d7893bdf-568b-418a-b632-423b8c79f41a",
   "metadata": {},
   "outputs": [
    {
     "data": {
      "text/plain": [
       "30000"
      ]
     },
     "execution_count": 14,
     "metadata": {},
     "output_type": "execute_result"
    }
   ],
   "source": [
    "sn = d\n",
    "sn *= 1000\n",
    "sn"
   ]
  },
  {
   "cell_type": "code",
   "execution_count": 15,
   "id": "6767d7ca-44d2-46eb-956a-c3df95973182",
   "metadata": {},
   "outputs": [
    {
     "name": "stdout",
     "output_type": "stream",
     "text": [
      "7\n"
     ]
    }
   ],
   "source": [
    "#binary values (prefix '0b')\n",
    "print(0b111)"
   ]
  },
  {
   "cell_type": "code",
   "execution_count": 2,
   "id": "ae9d5876-71fb-441e-99dd-128e0c56e7a5",
   "metadata": {},
   "outputs": [
    {
     "name": "stdout",
     "output_type": "stream",
     "text": [
      "1\n",
      "7\n",
      "6\n",
      "-6\n",
      "20\n",
      "2\n"
     ]
    }
   ],
   "source": [
    "#bitwise operator\n",
    "x=5\n",
    "y=3\n",
    "\n",
    "result_and = x & y\n",
    "print(result_and)\n",
    "\n",
    "result_or = x | y\n",
    "print(result_or)\n",
    "\n",
    "result_xor = x ^ y\n",
    "print(result_xor)\n",
    "\n",
    "result_not_x = ~x\n",
    "print(result_not_x)\n",
    "\n",
    "result_left_shift = x << 2\n",
    "print(result_left_shift)\n",
    "\n",
    "result_right_shift = x >> 1\n",
    "print(result_right_shift)"
   ]
  },
  {
   "cell_type": "code",
   "execution_count": 3,
   "id": "f0427035-3e9b-454d-8254-fcdbc4922931",
   "metadata": {},
   "outputs": [
    {
     "name": "stdout",
     "output_type": "stream",
     "text": [
      "True\n",
      "False\n"
     ]
    }
   ],
   "source": [
    "#membership operator\n",
    "\n",
    "food = ['pizza','panipuri','pavbhaji']\n",
    "\n",
    "f1 = 'pizza' in food\n",
    "print(f1)\n",
    "\n",
    "f2 = 'pizza' not in food\n",
    "print(f2)"
   ]
  },
  {
   "cell_type": "code",
   "execution_count": 4,
   "id": "69806156-603d-45d5-9ece-f1bf7ba762aa",
   "metadata": {},
   "outputs": [
    {
     "name": "stdout",
     "output_type": "stream",
     "text": [
      "False\n",
      "True\n",
      "True\n",
      "False\n"
     ]
    }
   ],
   "source": [
    "x = [1,2,3]\n",
    "y = [1,2,3]\n",
    "z = x\n",
    "\n",
    "xy = x is y\n",
    "print(xy)\n",
    "xz = x is z\n",
    "print(xz)\n",
    "\n",
    "xy1 = x is not y\n",
    "print(xy1)\n",
    "xz1 = x is not z\n",
    "print(xz1)"
   ]
  },
  {
   "cell_type": "code",
   "execution_count": 3,
   "id": "ce99b4c5-70e7-4faa-be03-74af8b0951c2",
   "metadata": {},
   "outputs": [
    {
     "name": "stdout",
     "output_type": "stream",
     "text": [
      "0\n"
     ]
    }
   ],
   "source": [
    "a = 10\n",
    "a-=10\n",
    "print(a)"
   ]
  },
  {
   "cell_type": "code",
   "execution_count": null,
   "id": "a816afc7-7dce-41f4-b14d-13142de42c6d",
   "metadata": {},
   "outputs": [],
   "source": []
  }
 ],
 "metadata": {
  "kernelspec": {
   "display_name": "Python 3 (ipykernel)",
   "language": "python",
   "name": "python3"
  },
  "language_info": {
   "codemirror_mode": {
    "name": "ipython",
    "version": 3
   },
   "file_extension": ".py",
   "mimetype": "text/x-python",
   "name": "python",
   "nbconvert_exporter": "python",
   "pygments_lexer": "ipython3",
   "version": "3.12.0"
  }
 },
 "nbformat": 4,
 "nbformat_minor": 5
}
