{
 "cells": [
  {
   "cell_type": "code",
   "execution_count": 10,
   "id": "78a9f7de-f3cb-4d40-900e-1f9108ce68b5",
   "metadata": {},
   "outputs": [
    {
     "data": {
      "text/plain": [
       "30"
      ]
     },
     "execution_count": 10,
     "metadata": {},
     "output_type": "execute_result"
    }
   ],
   "source": [
    "sum = lambda arg1, arg2 : arg1 + arg2   \n",
    "sum(10,20)"
   ]
  },
  {
   "cell_type": "code",
   "execution_count": 11,
   "id": "a343f893-2d32-4694-abe4-f65e795266ae",
   "metadata": {},
   "outputs": [
    {
     "data": {
      "text/plain": [
       "10"
      ]
     },
     "execution_count": 11,
     "metadata": {},
     "output_type": "execute_result"
    }
   ],
   "source": [
    "sum(20,-10)"
   ]
  },
  {
   "cell_type": "code",
   "execution_count": 2,
   "id": "541e4c47-f8af-4515-9d28-9c460917af6c",
   "metadata": {},
   "outputs": [
    {
     "name": "stdout",
     "output_type": "stream",
     "text": [
      "cube is =  8\n"
     ]
    }
   ],
   "source": [
    "cube = lambda a : a**3\n",
    "c=cube(2)\n",
    "print(\"cube is = \",c)"
   ]
  },
  {
   "cell_type": "code",
   "execution_count": 5,
   "id": "72b13915-f6da-496b-9a6a-c50c55c86140",
   "metadata": {},
   "outputs": [
    {
     "name": "stdout",
     "output_type": "stream",
     "text": [
      "is it odd number?  False\n"
     ]
    }
   ],
   "source": [
    "odd = lambda a : a % 2 != 0\n",
    "o=odd(2)\n",
    "print(\"is it odd number? \",o)"
   ]
  },
  {
   "cell_type": "code",
   "execution_count": 7,
   "id": "1945fc5c-f073-452b-a15f-a3834c14256c",
   "metadata": {},
   "outputs": [
    {
     "name": "stdout",
     "output_type": "stream",
     "text": [
      "<function testfunc.<locals>.<lambda> at 0x000001F428053380>\n"
     ]
    }
   ],
   "source": [
    "#another way\n",
    "def testfunc(num) :\n",
    "    return lambda x : x * num\n",
    "\n",
    "res = testfunc(10)\n",
    "print(res)"
   ]
  },
  {
   "cell_type": "code",
   "execution_count": 13,
   "id": "e75c83b7-affb-470c-bde9-fbcd26ee10b6",
   "metadata": {},
   "outputs": [
    {
     "name": "stdout",
     "output_type": "stream",
     "text": [
      "90\n"
     ]
    }
   ],
   "source": [
    "print(res(9))"
   ]
  },
  {
   "cell_type": "code",
   "execution_count": 14,
   "id": "3bd79ce7-3451-4a13-a993-245ce6d6b9be",
   "metadata": {},
   "outputs": [
    {
     "name": "stdout",
     "output_type": "stream",
     "text": [
      "50\n"
     ]
    }
   ],
   "source": [
    "print(res(5))"
   ]
  },
  {
   "cell_type": "code",
   "execution_count": 15,
   "id": "3e77a7af-cc18-4446-ad3a-1d1556002699",
   "metadata": {},
   "outputs": [
    {
     "data": {
      "text/plain": [
       "40"
      ]
     },
     "execution_count": 15,
     "metadata": {},
     "output_type": "execute_result"
    }
   ],
   "source": [
    "res(4)"
   ]
  },
  {
   "cell_type": "code",
   "execution_count": 16,
   "id": "c4cb896c-ac39-4c09-9293-c834c8d294cd",
   "metadata": {},
   "outputs": [
    {
     "data": {
      "text/plain": [
       "30"
      ]
     },
     "execution_count": 16,
     "metadata": {},
     "output_type": "execute_result"
    }
   ],
   "source": [
    "sum(10,20)"
   ]
  },
  {
   "cell_type": "code",
   "execution_count": 2,
   "id": "71588f04-cc2b-4586-aa28-30573331213b",
   "metadata": {},
   "outputs": [
    {
     "name": "stdout",
     "output_type": "stream",
     "text": [
      "(('B', 2), ('A', 1), ('C', 4), ('D', 3))\n",
      "after sorting\n",
      "[('A', 1), ('B', 2), ('C', 4), ('D', 3)]\n"
     ]
    }
   ],
   "source": [
    "nest_tup = (('B',2),('A',1),('C',4),('D',3))\n",
    "sorted_tup = sorted(nest_tup)\n",
    "print(nest_tup)\n",
    "print(\"after sorting\")\n",
    "print(sorted_tup)"
   ]
  },
  {
   "cell_type": "code",
   "execution_count": 4,
   "id": "da318da9-ecfb-448e-ac55-f7a60df5cad3",
   "metadata": {},
   "outputs": [
    {
     "name": "stdout",
     "output_type": "stream",
     "text": [
      "(('B', 2), ('A', 1), ('C', 4), ('D', 3))\n",
      "after sorting\n",
      "[('A', 1), ('B', 2), ('D', 3), ('C', 4)]\n"
     ]
    }
   ],
   "source": [
    "nest_tup = (('B',2),('A',1),('C',4),('D',3))\n",
    "sorted_tup = sorted(nest_tup,key=lambda x:x[1])\n",
    "print(nest_tup)\n",
    "print(\"after sorting\")\n",
    "print(sorted_tup)"
   ]
  },
  {
   "cell_type": "code",
   "execution_count": null,
   "id": "1f9eae4a-8d25-4b9f-aa58-709eadb83465",
   "metadata": {},
   "outputs": [],
   "source": []
  }
 ],
 "metadata": {
  "kernelspec": {
   "display_name": "Python 3 (ipykernel)",
   "language": "python",
   "name": "python3"
  },
  "language_info": {
   "codemirror_mode": {
    "name": "ipython",
    "version": 3
   },
   "file_extension": ".py",
   "mimetype": "text/x-python",
   "name": "python",
   "nbconvert_exporter": "python",
   "pygments_lexer": "ipython3",
   "version": "3.12.0"
  }
 },
 "nbformat": 4,
 "nbformat_minor": 5
}
