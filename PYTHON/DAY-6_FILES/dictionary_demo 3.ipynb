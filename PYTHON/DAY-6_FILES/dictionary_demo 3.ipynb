{
 "cells": [
  {
   "cell_type": "code",
   "execution_count": 1,
   "id": "70fbf8fd-0f61-4031-b3a3-63cc5867448b",
   "metadata": {},
   "outputs": [
    {
     "data": {
      "text/plain": [
       "{}"
      ]
     },
     "execution_count": 1,
     "metadata": {},
     "output_type": "execute_result"
    }
   ],
   "source": [
    "empty_dict={}\n",
    "empty_dict"
   ]
  },
  {
   "cell_type": "code",
   "execution_count": 2,
   "id": "717a691b-ce33-47ac-ae3c-40b265ebaa1f",
   "metadata": {},
   "outputs": [
    {
     "data": {
      "text/plain": [
       "dict"
      ]
     },
     "execution_count": 2,
     "metadata": {},
     "output_type": "execute_result"
    }
   ],
   "source": [
    "type(empty_dict)"
   ]
  },
  {
   "cell_type": "code",
   "execution_count": 3,
   "id": "8ce94a83-38ba-4e90-b1ab-91bcd2e32c34",
   "metadata": {},
   "outputs": [
    {
     "data": {
      "text/plain": [
       "{'empno': 1, 'empname': 'nootan', 'salary': 30000}"
      ]
     },
     "execution_count": 3,
     "metadata": {},
     "output_type": "execute_result"
    }
   ],
   "source": [
    "#dictionary is collection of key - value pairs \n",
    "emp = {'empno' : 1, 'empname':\"nootan\", 'salary':30000}\n",
    "emp"
   ]
  },
  {
   "cell_type": "code",
   "execution_count": 4,
   "id": "3a8fc737-c66d-41d9-9f78-0b492c237aee",
   "metadata": {},
   "outputs": [
    {
     "data": {
      "text/plain": [
       "dict"
      ]
     },
     "execution_count": 4,
     "metadata": {},
     "output_type": "execute_result"
    }
   ],
   "source": [
    "type(emp)"
   ]
  },
  {
   "cell_type": "code",
   "execution_count": 2,
   "id": "09c39283-3e8b-4ba1-a32b-901ff781d316",
   "metadata": {},
   "outputs": [
    {
     "data": {
      "text/plain": [
       "{'empno': 3, 'empname': 'nootan', 'salary': 40000}"
      ]
     },
     "execution_count": 2,
     "metadata": {},
     "output_type": "execute_result"
    }
   ],
   "source": [
    "#key must be unique\n",
    "#It won't give any error - will consider the last assigned value to key\n",
    "emp1 = {'empno':1,'empname':'nootan','salary':40000,'empno':3}\n",
    "emp1"
   ]
  },
  {
   "cell_type": "code",
   "execution_count": 3,
   "id": "90fa003b-b230-4671-a701-c5cef19ee439",
   "metadata": {},
   "outputs": [
    {
     "data": {
      "text/plain": [
       "3"
      ]
     },
     "execution_count": 3,
     "metadata": {},
     "output_type": "execute_result"
    }
   ],
   "source": [
    "emp1[\"empno\"]"
   ]
  },
  {
   "cell_type": "code",
   "execution_count": 4,
   "id": "93d96bc0-34cb-4404-ac5e-e6fd6c6d073b",
   "metadata": {},
   "outputs": [
    {
     "data": {
      "text/plain": [
       "40000"
      ]
     },
     "execution_count": 4,
     "metadata": {},
     "output_type": "execute_result"
    }
   ],
   "source": [
    "emp1[\"salary\"]"
   ]
  },
  {
   "cell_type": "code",
   "execution_count": 5,
   "id": "d568951c-5c2f-4252-8631-d6e7b52604db",
   "metadata": {},
   "outputs": [
    {
     "ename": "KeyError",
     "evalue": "'nootan'",
     "output_type": "error",
     "traceback": [
      "\u001b[1;31m---------------------------------------------------------------------------\u001b[0m",
      "\u001b[1;31mKeyError\u001b[0m                                  Traceback (most recent call last)",
      "Cell \u001b[1;32mIn[5], line 1\u001b[0m\n\u001b[1;32m----> 1\u001b[0m \u001b[43memp1\u001b[49m\u001b[43m[\u001b[49m\u001b[38;5;124;43m'\u001b[39;49m\u001b[38;5;124;43mnootan\u001b[39;49m\u001b[38;5;124;43m'\u001b[39;49m\u001b[43m]\u001b[49m\n",
      "\u001b[1;31mKeyError\u001b[0m: 'nootan'"
     ]
    }
   ],
   "source": [
    "emp1['nootan']"
   ]
  },
  {
   "cell_type": "code",
   "execution_count": 6,
   "id": "7372f112-6cce-40d2-ab2e-823bad5e7428",
   "metadata": {},
   "outputs": [
    {
     "data": {
      "text/plain": [
       "dict_keys(['empno', 'empname', 'salary'])"
      ]
     },
     "execution_count": 6,
     "metadata": {},
     "output_type": "execute_result"
    }
   ],
   "source": [
    "emp1.keys()"
   ]
  },
  {
   "cell_type": "code",
   "execution_count": 7,
   "id": "07be26b0-f751-4b68-9598-45320d0fafd1",
   "metadata": {},
   "outputs": [
    {
     "data": {
      "text/plain": [
       "dict_values([3, 'nootan', 40000])"
      ]
     },
     "execution_count": 7,
     "metadata": {},
     "output_type": "execute_result"
    }
   ],
   "source": [
    "emp1.values()"
   ]
  },
  {
   "cell_type": "code",
   "execution_count": 8,
   "id": "f264f8b9-3a6f-437d-8b35-ad144ae09bc4",
   "metadata": {},
   "outputs": [
    {
     "data": {
      "text/plain": [
       "dict_items([('empno', 3), ('empname', 'nootan'), ('salary', 40000)])"
      ]
     },
     "execution_count": 8,
     "metadata": {},
     "output_type": "execute_result"
    }
   ],
   "source": [
    "emp1.items()"
   ]
  },
  {
   "cell_type": "code",
   "execution_count": 9,
   "id": "3dd02059-ab04-45a0-8665-62824ec50fa2",
   "metadata": {},
   "outputs": [
    {
     "data": {
      "text/plain": [
       "{'empno': 3, 'empname': 'nootan', 'salary': 50000}"
      ]
     },
     "execution_count": 9,
     "metadata": {},
     "output_type": "execute_result"
    }
   ],
   "source": [
    "emp1['salary']=50000\n",
    "emp1"
   ]
  },
  {
   "cell_type": "code",
   "execution_count": 10,
   "id": "bc40a841-3112-4bdd-abc9-802df5ecda54",
   "metadata": {},
   "outputs": [
    {
     "data": {
      "text/plain": [
       "'Mumbai'"
      ]
     },
     "execution_count": 10,
     "metadata": {},
     "output_type": "execute_result"
    }
   ],
   "source": [
    "emp1.get('city','Mumbai')"
   ]
  },
  {
   "cell_type": "code",
   "execution_count": 14,
   "id": "53a406c7-5ff6-43b4-9a09-5546cdf799f1",
   "metadata": {},
   "outputs": [
    {
     "data": {
      "text/plain": [
       "{'empno': 3, 'salary': 50000}"
      ]
     },
     "execution_count": 14,
     "metadata": {},
     "output_type": "execute_result"
    }
   ],
   "source": [
    "del emp1['empname']\n",
    "emp1"
   ]
  },
  {
   "cell_type": "code",
   "execution_count": 15,
   "id": "8463b68b-06fd-4a23-bae0-4dd2f7990a5a",
   "metadata": {},
   "outputs": [],
   "source": [
    "foodPrice = {}"
   ]
  },
  {
   "cell_type": "code",
   "execution_count": 16,
   "id": "ec4b2e20-1a04-4c2d-905d-b06ffe18d869",
   "metadata": {},
   "outputs": [],
   "source": [
    "foodPrice['panipuri']=30\n",
    "foodPrice['pizza']=250\n",
    "foodPrice['sizzler']=500"
   ]
  },
  {
   "cell_type": "code",
   "execution_count": 17,
   "id": "2246f758-121e-4d87-9c50-7a8a68402867",
   "metadata": {},
   "outputs": [
    {
     "data": {
      "text/plain": [
       "{'panipuri': 30, 'pizza': 250, 'sizzler': 500}"
      ]
     },
     "execution_count": 17,
     "metadata": {},
     "output_type": "execute_result"
    }
   ],
   "source": [
    "foodPrice"
   ]
  },
  {
   "cell_type": "code",
   "execution_count": 18,
   "id": "bc0c8ae8-1c1c-4fcd-8b8d-7313c1b4ab24",
   "metadata": {},
   "outputs": [],
   "source": [
    "foodPrice['pavbhaji']=200"
   ]
  },
  {
   "cell_type": "code",
   "execution_count": 19,
   "id": "91125924-392d-48ce-bf82-f35c169c4e24",
   "metadata": {},
   "outputs": [
    {
     "data": {
      "text/plain": [
       "{'panipuri': 30, 'pizza': 250, 'sizzler': 500, 'pavbhaji': 200}"
      ]
     },
     "execution_count": 19,
     "metadata": {},
     "output_type": "execute_result"
    }
   ],
   "source": [
    "foodPrice"
   ]
  },
  {
   "cell_type": "code",
   "execution_count": 20,
   "id": "30e184a4-a0fb-4b9b-9727-c713ae1f864b",
   "metadata": {},
   "outputs": [
    {
     "data": {
      "text/plain": [
       "250"
      ]
     },
     "execution_count": 20,
     "metadata": {},
     "output_type": "execute_result"
    }
   ],
   "source": [
    "foodPrice['pizza']"
   ]
  },
  {
   "cell_type": "code",
   "execution_count": 21,
   "id": "e2e6da3a-be68-48c2-9481-7517dcdafedb",
   "metadata": {},
   "outputs": [
    {
     "ename": "KeyError",
     "evalue": "'brownie'",
     "output_type": "error",
     "traceback": [
      "\u001b[1;31m---------------------------------------------------------------------------\u001b[0m",
      "\u001b[1;31mKeyError\u001b[0m                                  Traceback (most recent call last)",
      "Cell \u001b[1;32mIn[21], line 1\u001b[0m\n\u001b[1;32m----> 1\u001b[0m \u001b[43mfoodPrice\u001b[49m\u001b[43m[\u001b[49m\u001b[38;5;124;43m'\u001b[39;49m\u001b[38;5;124;43mbrownie\u001b[39;49m\u001b[38;5;124;43m'\u001b[39;49m\u001b[43m]\u001b[49m\n",
      "\u001b[1;31mKeyError\u001b[0m: 'brownie'"
     ]
    }
   ],
   "source": [
    "foodPrice['brownie']"
   ]
  },
  {
   "cell_type": "code",
   "execution_count": 22,
   "id": "921c802e-4fc0-4e93-a7cd-cd917c983eb7",
   "metadata": {},
   "outputs": [],
   "source": [
    "foodPrice['brownie']=350"
   ]
  },
  {
   "cell_type": "code",
   "execution_count": 23,
   "id": "f5a08c0a-019c-4728-a3a5-0fac2df7fdf0",
   "metadata": {},
   "outputs": [
    {
     "data": {
      "text/plain": [
       "{'panipuri': 30, 'pizza': 250, 'sizzler': 500, 'pavbhaji': 200, 'brownie': 350}"
      ]
     },
     "execution_count": 23,
     "metadata": {},
     "output_type": "execute_result"
    }
   ],
   "source": [
    "foodPrice"
   ]
  },
  {
   "cell_type": "code",
   "execution_count": 24,
   "id": "a93b8130-b448-4895-a84e-b2e47bc17a8a",
   "metadata": {},
   "outputs": [
    {
     "data": {
      "text/plain": [
       "{'c1': ['soap', 'shampoo'],\n",
       " 'c2': ['salt', 'shampoo'],\n",
       " 'c3': ['soap', 'salt', 'shampoo', 'toothpaste']}"
      ]
     },
     "execution_count": 24,
     "metadata": {},
     "output_type": "execute_result"
    }
   ],
   "source": [
    "cust = {'c1':['soap','shampoo'],\n",
    "        'c2':['salt','shampoo'],\n",
    "        'c3':['soap','salt','shampoo','toothpaste']\n",
    "       }\n",
    "cust"
   ]
  },
  {
   "cell_type": "code",
   "execution_count": 25,
   "id": "9c18bc02-5e69-4374-804d-666f1532ca8f",
   "metadata": {},
   "outputs": [
    {
     "data": {
      "text/plain": [
       "['soap', 'shampoo']"
      ]
     },
     "execution_count": 25,
     "metadata": {},
     "output_type": "execute_result"
    }
   ],
   "source": [
    "cust['c1']"
   ]
  },
  {
   "cell_type": "code",
   "execution_count": 27,
   "id": "7973d3c5-4684-43c1-ad66-d3d363461e18",
   "metadata": {},
   "outputs": [
    {
     "data": {
      "text/plain": [
       "'soap'"
      ]
     },
     "execution_count": 27,
     "metadata": {},
     "output_type": "execute_result"
    }
   ],
   "source": [
    "cust['c1'][0]"
   ]
  },
  {
   "cell_type": "code",
   "execution_count": 29,
   "id": "74ef19c7-fbb6-44c2-999f-fdd18afc0ab1",
   "metadata": {},
   "outputs": [
    {
     "data": {
      "text/plain": [
       "{'c1': ['toothpaste', 'shampoo'],\n",
       " 'c2': ['salt', 'shampoo'],\n",
       " 'c3': ['soap', 'salt', 'shampoo', 'toothpaste']}"
      ]
     },
     "execution_count": 29,
     "metadata": {},
     "output_type": "execute_result"
    }
   ],
   "source": [
    "cust['c1'][0] = 'toothpaste'\n",
    "cust"
   ]
  },
  {
   "cell_type": "code",
   "execution_count": 30,
   "id": "bf703979-e802-4712-a885-4d32205b33cf",
   "metadata": {},
   "outputs": [
    {
     "data": {
      "text/plain": [
       "{'c4': {'monday': 'salt', 'tuesday': 'toothpaste'},\n",
       " 'c5': {'monday': 'shampoo', 'tuesday': 'salt'}}"
      ]
     },
     "execution_count": 30,
     "metadata": {},
     "output_type": "execute_result"
    }
   ],
   "source": [
    "cust = {'c4':{'monday':'salt','tuesday':'toothpaste'},\n",
    "        'c5':{'monday':'shampoo','tuesday':'salt'}\n",
    "       }\n",
    "cust"
   ]
  },
  {
   "cell_type": "code",
   "execution_count": 31,
   "id": "4bc49ce9-de22-4c80-9527-9b00e495da69",
   "metadata": {},
   "outputs": [
    {
     "data": {
      "text/plain": [
       "{'monday': 'salt', 'tuesday': 'toothpaste'}"
      ]
     },
     "execution_count": 31,
     "metadata": {},
     "output_type": "execute_result"
    }
   ],
   "source": [
    "cust['c4']"
   ]
  },
  {
   "cell_type": "code",
   "execution_count": 32,
   "id": "d8a40a45-184a-49a4-922e-7cfcaa1ee6cc",
   "metadata": {},
   "outputs": [
    {
     "data": {
      "text/plain": [
       "'salt'"
      ]
     },
     "execution_count": 32,
     "metadata": {},
     "output_type": "execute_result"
    }
   ],
   "source": [
    "cust['c4']['monday']"
   ]
  },
  {
   "cell_type": "code",
   "execution_count": 33,
   "id": "61f89cae-9247-44fa-bcde-babaa833cf6a",
   "metadata": {},
   "outputs": [
    {
     "ename": "KeyError",
     "evalue": "'sunday'",
     "output_type": "error",
     "traceback": [
      "\u001b[1;31m---------------------------------------------------------------------------\u001b[0m",
      "\u001b[1;31mKeyError\u001b[0m                                  Traceback (most recent call last)",
      "Cell \u001b[1;32mIn[33], line 1\u001b[0m\n\u001b[1;32m----> 1\u001b[0m \u001b[43mcust\u001b[49m\u001b[43m[\u001b[49m\u001b[38;5;124;43m'\u001b[39;49m\u001b[38;5;124;43mc4\u001b[39;49m\u001b[38;5;124;43m'\u001b[39;49m\u001b[43m]\u001b[49m\u001b[43m[\u001b[49m\u001b[38;5;124;43m'\u001b[39;49m\u001b[38;5;124;43msunday\u001b[39;49m\u001b[38;5;124;43m'\u001b[39;49m\u001b[43m]\u001b[49m\n",
      "\u001b[1;31mKeyError\u001b[0m: 'sunday'"
     ]
    }
   ],
   "source": [
    "cust['c4']['sunday']"
   ]
  },
  {
   "cell_type": "code",
   "execution_count": 34,
   "id": "c5ed7576-7601-48c7-8ad2-64705879a28d",
   "metadata": {},
   "outputs": [
    {
     "data": {
      "text/plain": [
       "2"
      ]
     },
     "execution_count": 34,
     "metadata": {},
     "output_type": "execute_result"
    }
   ],
   "source": [
    "len(cust)"
   ]
  },
  {
   "cell_type": "code",
   "execution_count": 35,
   "id": "bc0ee946-5193-408b-ae27-083043207f5b",
   "metadata": {},
   "outputs": [
    {
     "data": {
      "text/plain": [
       "2"
      ]
     },
     "execution_count": 35,
     "metadata": {},
     "output_type": "execute_result"
    }
   ],
   "source": [
    "len(cust.keys())"
   ]
  },
  {
   "cell_type": "code",
   "execution_count": 36,
   "id": "e428461f-b133-4221-af8a-d2370d222d60",
   "metadata": {},
   "outputs": [
    {
     "data": {
      "text/plain": [
       "['c4', 'c5']"
      ]
     },
     "execution_count": 36,
     "metadata": {},
     "output_type": "execute_result"
    }
   ],
   "source": [
    "sorted(cust) #keys in sorted order"
   ]
  },
  {
   "cell_type": "code",
   "execution_count": 37,
   "id": "d862bcb9-36a7-4e61-87b1-3035de85b09d",
   "metadata": {},
   "outputs": [
    {
     "data": {
      "text/plain": [
       "['c5', 'c4']"
      ]
     },
     "execution_count": 37,
     "metadata": {},
     "output_type": "execute_result"
    }
   ],
   "source": [
    "sorted(cust,reverse=True) #reverse order"
   ]
  },
  {
   "cell_type": "code",
   "execution_count": 38,
   "id": "09c65ddf-a5e9-4eaa-9c46-5d3768fab4a8",
   "metadata": {},
   "outputs": [
    {
     "ename": "TypeError",
     "evalue": "'<' not supported between instances of 'dict' and 'dict'",
     "output_type": "error",
     "traceback": [
      "\u001b[1;31m---------------------------------------------------------------------------\u001b[0m",
      "\u001b[1;31mTypeError\u001b[0m                                 Traceback (most recent call last)",
      "Cell \u001b[1;32mIn[38], line 1\u001b[0m\n\u001b[1;32m----> 1\u001b[0m \u001b[38;5;28;43msorted\u001b[39;49m\u001b[43m(\u001b[49m\u001b[43mcust\u001b[49m\u001b[38;5;241;43m.\u001b[39;49m\u001b[43mvalues\u001b[49m\u001b[43m(\u001b[49m\u001b[43m)\u001b[49m\u001b[43m)\u001b[49m\n",
      "\u001b[1;31mTypeError\u001b[0m: '<' not supported between instances of 'dict' and 'dict'"
     ]
    }
   ],
   "source": [
    "sorted(cust.values())"
   ]
  },
  {
   "cell_type": "code",
   "execution_count": 39,
   "id": "36f90c60-9a4c-4f25-8462-7e873626463d",
   "metadata": {},
   "outputs": [
    {
     "data": {
      "text/plain": [
       "dict_items([('c4', {'monday': 'salt', 'tuesday': 'toothpaste'}), ('c5', {'monday': 'shampoo', 'tuesday': 'salt'})])"
      ]
     },
     "execution_count": 39,
     "metadata": {},
     "output_type": "execute_result"
    }
   ],
   "source": [
    "copy_cust = cust.copy()\n",
    "copy_cust.items()"
   ]
  },
  {
   "cell_type": "code",
   "execution_count": 40,
   "id": "ce888e82-e4da-4c72-933c-726cd33191ce",
   "metadata": {},
   "outputs": [
    {
     "data": {
      "text/plain": [
       "{'c4': {'monday': 'salt', 'tuesday': 'toothpaste'}}"
      ]
     },
     "execution_count": 40,
     "metadata": {},
     "output_type": "execute_result"
    }
   ],
   "source": [
    "copy_cust.pop('c5')\n",
    "copy_cust"
   ]
  },
  {
   "cell_type": "code",
   "execution_count": 44,
   "id": "6050baad-1622-4ecf-b683-dd71d2fb5d7f",
   "metadata": {},
   "outputs": [
    {
     "data": {
      "text/plain": [
       "dict_items([('rno', 1), ('name', 'neha'), ('age', 19)])"
      ]
     },
     "execution_count": 44,
     "metadata": {},
     "output_type": "execute_result"
    }
   ],
   "source": [
    "stud1 = {'rno':1,'name':'neha','age':19}\n",
    "stud1.items()"
   ]
  },
  {
   "cell_type": "code",
   "execution_count": 45,
   "id": "865c9575-0093-4edb-a1cb-8c19ca776efb",
   "metadata": {},
   "outputs": [
    {
     "data": {
      "text/plain": [
       "{'rno': 1, 'name': 'neha'}"
      ]
     },
     "execution_count": 45,
     "metadata": {},
     "output_type": "execute_result"
    }
   ],
   "source": [
    "stud1.popitem() #removes last key-value pair\n",
    "stud1"
   ]
  },
  {
   "cell_type": "code",
   "execution_count": 46,
   "id": "0cba9fd2-43a2-4a81-9f1d-222de1d93da6",
   "metadata": {},
   "outputs": [
    {
     "data": {
      "text/plain": [
       "{'a': 22, 'b': 19, 'c': 21}"
      ]
     },
     "execution_count": 46,
     "metadata": {},
     "output_type": "execute_result"
    }
   ],
   "source": [
    "d1 = {'a':20,'b':19}\n",
    "n1 = {'a':22,'c':21}\n",
    "d1.update(n1)\n",
    "d1"
   ]
  },
  {
   "cell_type": "code",
   "execution_count": 47,
   "id": "d49a761d-8c90-497f-a690-deaa5ccb979f",
   "metadata": {},
   "outputs": [
    {
     "data": {
      "text/plain": [
       "{'a': 22, 'c': 21}"
      ]
     },
     "execution_count": 47,
     "metadata": {},
     "output_type": "execute_result"
    }
   ],
   "source": [
    "n1"
   ]
  },
  {
   "cell_type": "code",
   "execution_count": 48,
   "id": "6d3542e5-55fe-4caa-947e-617b10ab5423",
   "metadata": {},
   "outputs": [
    {
     "data": {
      "text/plain": [
       "{}"
      ]
     },
     "execution_count": 48,
     "metadata": {},
     "output_type": "execute_result"
    }
   ],
   "source": [
    "n1.clear()\n",
    "n1"
   ]
  },
  {
   "cell_type": "code",
   "execution_count": 1,
   "id": "34e36e9d-0218-413b-9c98-8ba43cd011bb",
   "metadata": {},
   "outputs": [
    {
     "data": {
      "text/plain": [
       "{'b': 22, 'c': 25, 'd': 23}"
      ]
     },
     "execution_count": 1,
     "metadata": {},
     "output_type": "execute_result"
    }
   ],
   "source": [
    "age = {'b':22,'c':25,'d':23}\n",
    "age"
   ]
  },
  {
   "cell_type": "code",
   "execution_count": 2,
   "id": "4200bf88-acc8-4933-be9c-0a11e004bfb3",
   "metadata": {},
   "outputs": [
    {
     "name": "stdout",
     "output_type": "stream",
     "text": [
      "age of a is 21\n"
     ]
    }
   ],
   "source": [
    "if 'a' in age:\n",
    "    print(\"age of a is\",age['a'])\n",
    "else :\n",
    "    age['a']=21\n",
    "    print(\"age of a is\",age['a'])"
   ]
  },
  {
   "cell_type": "code",
   "execution_count": 52,
   "id": "4960a840-facb-4307-86b6-df85d27ecbe3",
   "metadata": {},
   "outputs": [
    {
     "name": "stdout",
     "output_type": "stream",
     "text": [
      "a\n",
      "b\n",
      "c\n",
      "d\n"
     ]
    }
   ],
   "source": [
    "for i in age.keys():\n",
    "    print(i) #print keys"
   ]
  },
  {
   "cell_type": "code",
   "execution_count": 53,
   "id": "f2e5f280-9c09-45c8-8ba0-c1a2e4bcb01d",
   "metadata": {},
   "outputs": [
    {
     "name": "stdout",
     "output_type": "stream",
     "text": [
      "20\n",
      "22\n",
      "25\n",
      "23\n"
     ]
    }
   ],
   "source": [
    "for i in age.values():\n",
    "    print(i) #print values"
   ]
  },
  {
   "cell_type": "code",
   "execution_count": 54,
   "id": "32c5e550-4d40-4bbc-aa6d-d0b98eab9eba",
   "metadata": {},
   "outputs": [
    {
     "name": "stdout",
     "output_type": "stream",
     "text": [
      "('a', 20)\n",
      "('b', 22)\n",
      "('c', 25)\n",
      "('d', 23)\n"
     ]
    }
   ],
   "source": [
    "for i in age.items():\n",
    "    print(i) #print keys and values"
   ]
  },
  {
   "cell_type": "code",
   "execution_count": 55,
   "id": "f6eae319-cfed-4ae9-8637-3fd57664ce52",
   "metadata": {},
   "outputs": [
    {
     "name": "stdout",
     "output_type": "stream",
     "text": [
      "name =  a  age =  20\n",
      "name =  b  age =  22\n",
      "name =  c  age =  25\n",
      "name =  d  age =  23\n"
     ]
    }
   ],
   "source": [
    "for name,age in age.items():\n",
    "    print(\"name = \",name,\" age = \",age)"
   ]
  },
  {
   "cell_type": "code",
   "execution_count": null,
   "id": "cf68f6a4-f16f-4b5d-b145-869534892f0f",
   "metadata": {},
   "outputs": [],
   "source": []
  }
 ],
 "metadata": {
  "kernelspec": {
   "display_name": "Python 3 (ipykernel)",
   "language": "python",
   "name": "python3"
  },
  "language_info": {
   "codemirror_mode": {
    "name": "ipython",
    "version": 3
   },
   "file_extension": ".py",
   "mimetype": "text/x-python",
   "name": "python",
   "nbconvert_exporter": "python",
   "pygments_lexer": "ipython3",
   "version": "3.12.0"
  }
 },
 "nbformat": 4,
 "nbformat_minor": 5
}
