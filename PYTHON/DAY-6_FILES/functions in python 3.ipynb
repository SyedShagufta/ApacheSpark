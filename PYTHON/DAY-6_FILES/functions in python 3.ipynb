{
 "cells": [
  {
   "cell_type": "code",
   "execution_count": 1,
   "id": "063f6203-4b79-4bcd-a58e-3f9e95d677e2",
   "metadata": {},
   "outputs": [],
   "source": [
    "#defining a function\n",
    "\n",
    "def myintro():\n",
    "    print(\"my name is nootan\")\n",
    "    print(\"I live in Mumbai\")\n",
    "    print(\"I am trainer\")"
   ]
  },
  {
   "cell_type": "code",
   "execution_count": 2,
   "id": "99048b94-bad6-48a1-b142-f1848b47c771",
   "metadata": {},
   "outputs": [
    {
     "name": "stdout",
     "output_type": "stream",
     "text": [
      "my name is nootan\n",
      "I live in Mumbai\n",
      "I am trainer\n"
     ]
    }
   ],
   "source": [
    "#calling or invoking a function\n",
    "\n",
    "myintro()"
   ]
  },
  {
   "cell_type": "code",
   "execution_count": 3,
   "id": "cb85dc93-8db5-4af3-a240-1f386ad4f83e",
   "metadata": {},
   "outputs": [
    {
     "name": "stdout",
     "output_type": "stream",
     "text": [
      "This is outside the function\n"
     ]
    }
   ],
   "source": [
    "def hello():\n",
    "    print(\"welcome\")\n",
    "print(\"This is outside the function\")"
   ]
  },
  {
   "cell_type": "code",
   "execution_count": 5,
   "id": "c3b2f7d9-94f1-4ea2-ba00-21622a72f046",
   "metadata": {},
   "outputs": [
    {
     "name": "stdout",
     "output_type": "stream",
     "text": [
      "welcome\n"
     ]
    }
   ],
   "source": [
    "hello()"
   ]
  },
  {
   "cell_type": "code",
   "execution_count": 6,
   "id": "ac54dd8c-b1ae-4a2a-a1f9-6fc1a8502749",
   "metadata": {},
   "outputs": [
    {
     "ename": "IndentationError",
     "evalue": "expected an indented block after function definition on line 1 (3240709008.py, line 2)",
     "output_type": "error",
     "traceback": [
      "\u001b[1;36m  Cell \u001b[1;32mIn[6], line 2\u001b[1;36m\u001b[0m\n\u001b[1;33m    print(\"wrong indentation\")\u001b[0m\n\u001b[1;37m    ^\u001b[0m\n\u001b[1;31mIndentationError\u001b[0m\u001b[1;31m:\u001b[0m expected an indented block after function definition on line 1\n"
     ]
    }
   ],
   "source": [
    "def will_not_work():\n",
    "print(\"wrong indentation\")"
   ]
  },
  {
   "cell_type": "code",
   "execution_count": 4,
   "id": "219dab34-18d1-45d6-a101-0fc418dc0da1",
   "metadata": {},
   "outputs": [
    {
     "name": "stdout",
     "output_type": "stream",
     "text": [
      "all right\n",
      "20 is greater than 10\n"
     ]
    }
   ],
   "source": [
    "def f1():\n",
    "    print(\"all right\")\n",
    "    if 20>10:\n",
    "        print(\"20 is greater than 10\")\n",
    "\n",
    "f1()"
   ]
  },
  {
   "cell_type": "code",
   "execution_count": 8,
   "id": "7e2e3cb8-629d-4b01-8d3e-7427942b7001",
   "metadata": {},
   "outputs": [
    {
     "name": "stdout",
     "output_type": "stream",
     "text": [
      "all right\n",
      "20 is greater than 10\n"
     ]
    }
   ],
   "source": [
    "f1()"
   ]
  },
  {
   "cell_type": "code",
   "execution_count": 9,
   "id": "57fd891a-befa-441a-8c94-0b297b462673",
   "metadata": {},
   "outputs": [],
   "source": [
    "def comp():\n",
    "    for i in range(10):\n",
    "        print(\"i = \",i)"
   ]
  },
  {
   "cell_type": "code",
   "execution_count": 10,
   "id": "1353cd40-79d5-4482-9f60-602651e20c27",
   "metadata": {},
   "outputs": [
    {
     "name": "stdout",
     "output_type": "stream",
     "text": [
      "i =  0\n",
      "i =  1\n",
      "i =  2\n",
      "i =  3\n",
      "i =  4\n",
      "i =  5\n",
      "i =  6\n",
      "i =  7\n",
      "i =  8\n",
      "i =  9\n"
     ]
    }
   ],
   "source": [
    "comp()"
   ]
  },
  {
   "cell_type": "code",
   "execution_count": 14,
   "id": "b6512dc9-988f-4693-abd9-c5592f8e79b7",
   "metadata": {},
   "outputs": [],
   "source": [
    "#everything in Python are objects, even functions are objects\n",
    "\n",
    "def docu():\n",
    "    \"\"\"This function does something\n",
    "    This function does something....\n",
    "    \n",
    "    \"\"\"\n",
    "    print(\"hello\")"
   ]
  },
  {
   "cell_type": "code",
   "execution_count": 15,
   "id": "d393819a-69c0-4999-bd9b-a5b4025996df",
   "metadata": {},
   "outputs": [
    {
     "name": "stdout",
     "output_type": "stream",
     "text": [
      "hello\n"
     ]
    }
   ],
   "source": [
    "docu()"
   ]
  },
  {
   "cell_type": "code",
   "execution_count": 16,
   "id": "859bf0fa-aa4f-4f5a-a152-41ce757510df",
   "metadata": {},
   "outputs": [
    {
     "data": {
      "text/plain": [
       "<function __main__.docu()>"
      ]
     },
     "execution_count": 16,
     "metadata": {},
     "output_type": "execute_result"
    }
   ],
   "source": [
    "docu #call function without parenthesis"
   ]
  },
  {
   "cell_type": "code",
   "execution_count": 18,
   "id": "f1436d9c-3731-47f8-b153-2a26922eb873",
   "metadata": {},
   "outputs": [
    {
     "name": "stdout",
     "output_type": "stream",
     "text": [
      "This function does something\n",
      "    This function does something....\n",
      "    \n",
      "    \n"
     ]
    }
   ],
   "source": [
    "print(docu.__doc__) #documentation output"
   ]
  },
  {
   "cell_type": "code",
   "execution_count": 15,
   "id": "2994cb66-30c2-4b15-8985-b51f95848e53",
   "metadata": {},
   "outputs": [
    {
     "data": {
      "text/plain": [
       "<function __main__.docu()>"
      ]
     },
     "execution_count": 15,
     "metadata": {},
     "output_type": "execute_result"
    }
   ],
   "source": [
    "af = docu #assigning function to another function\n",
    "af"
   ]
  },
  {
   "cell_type": "code",
   "execution_count": 16,
   "id": "83ea4b8b-33e2-46f0-b250-3e29f8ddd384",
   "metadata": {},
   "outputs": [
    {
     "name": "stdout",
     "output_type": "stream",
     "text": [
      "hello\n"
     ]
    }
   ],
   "source": [
    "af()"
   ]
  },
  {
   "cell_type": "code",
   "execution_count": 19,
   "id": "5f2e9408-19ce-4c03-863f-5df01d873014",
   "metadata": {},
   "outputs": [],
   "source": [
    "#global scope\n",
    "name = \"nootan\"\n",
    "city = \"Mumbai\"\n",
    "def intro():\n",
    "    print(\"My name is \",name)\n",
    "    print(\"My city is \",city)"
   ]
  },
  {
   "cell_type": "code",
   "execution_count": 20,
   "id": "d108a946-c2a3-4f53-8b85-47eb9b90bc4a",
   "metadata": {},
   "outputs": [
    {
     "name": "stdout",
     "output_type": "stream",
     "text": [
      "My name is  nootan\n",
      "My city is  Mumbai\n"
     ]
    }
   ],
   "source": [
    "intro()"
   ]
  },
  {
   "cell_type": "code",
   "execution_count": 21,
   "id": "83c3bab0-3533-4923-a889-b74396e5bada",
   "metadata": {
    "scrolled": true
   },
   "outputs": [
    {
     "name": "stdout",
     "output_type": "stream",
     "text": [
      "My name is  neha\n",
      "My city is  Rajkot\n"
     ]
    }
   ],
   "source": [
    "name = \"neha\"\n",
    "city = \"Rajkot\"\n",
    "\n",
    "intro()"
   ]
  },
  {
   "cell_type": "code",
   "execution_count": 20,
   "id": "60652ef4-ebf9-4f74-9379-ce01fc9fb6d8",
   "metadata": {},
   "outputs": [
    {
     "ename": "TypeError",
     "evalue": "can only concatenate str (not \"int\") to str",
     "output_type": "error",
     "traceback": [
      "\u001b[1;31m---------------------------------------------------------------------------\u001b[0m",
      "\u001b[1;31mTypeError\u001b[0m                                 Traceback (most recent call last)",
      "Cell \u001b[1;32mIn[20], line 1\u001b[0m\n\u001b[1;32m----> 1\u001b[0m \u001b[38;5;124;43m\"\u001b[39;49m\u001b[38;5;124;43ma\u001b[39;49m\u001b[38;5;124;43m\"\u001b[39;49m\u001b[43m \u001b[49m\u001b[38;5;241;43m+\u001b[39;49m\u001b[43m \u001b[49m\u001b[38;5;241;43m2\u001b[39;49m\n",
      "\u001b[1;31mTypeError\u001b[0m: can only concatenate str (not \"int\") to str"
     ]
    }
   ],
   "source": [
    "\"a\" + 2"
   ]
  },
  {
   "cell_type": "code",
   "execution_count": 1,
   "id": "d94b95c7-450d-4970-9ed6-08eef13ca928",
   "metadata": {},
   "outputs": [],
   "source": [
    "def func_with_error():\n",
    "    res = \"a\"+2\n",
    "    print(res)"
   ]
  },
  {
   "cell_type": "code",
   "execution_count": 22,
   "id": "a52864c4-996a-4d8e-a41e-b1263084a6d6",
   "metadata": {},
   "outputs": [],
   "source": [
    "#when we define function, code won't be executed. so won't show error this time"
   ]
  },
  {
   "cell_type": "code",
   "execution_count": 2,
   "id": "0216591e-61a4-4534-9f75-6f8c8d4cceb4",
   "metadata": {},
   "outputs": [
    {
     "ename": "TypeError",
     "evalue": "can only concatenate str (not \"int\") to str",
     "output_type": "error",
     "traceback": [
      "\u001b[1;31m---------------------------------------------------------------------------\u001b[0m",
      "\u001b[1;31mTypeError\u001b[0m                                 Traceback (most recent call last)",
      "Cell \u001b[1;32mIn[2], line 1\u001b[0m\n\u001b[1;32m----> 1\u001b[0m \u001b[43mfunc_with_error\u001b[49m\u001b[43m(\u001b[49m\u001b[43m)\u001b[49m\n",
      "Cell \u001b[1;32mIn[1], line 2\u001b[0m, in \u001b[0;36mfunc_with_error\u001b[1;34m()\u001b[0m\n\u001b[0;32m      1\u001b[0m \u001b[38;5;28;01mdef\u001b[39;00m \u001b[38;5;21mfunc_with_error\u001b[39m():\n\u001b[1;32m----> 2\u001b[0m     res \u001b[38;5;241m=\u001b[39m \u001b[38;5;124;43m\"\u001b[39;49m\u001b[38;5;124;43ma\u001b[39;49m\u001b[38;5;124;43m\"\u001b[39;49m\u001b[38;5;241;43m+\u001b[39;49m\u001b[38;5;241;43m2\u001b[39;49m\n\u001b[0;32m      3\u001b[0m     \u001b[38;5;28mprint\u001b[39m(res)\n",
      "\u001b[1;31mTypeError\u001b[0m: can only concatenate str (not \"int\") to str"
     ]
    }
   ],
   "source": [
    "func_with_error()"
   ]
  },
  {
   "cell_type": "code",
   "execution_count": 6,
   "id": "636fda6e-fa0c-488c-9e2a-6ba2504d254b",
   "metadata": {},
   "outputs": [],
   "source": [
    "#parameters\n",
    "\n",
    "def intro(name):\n",
    "    print(\"My name is \",name)"
   ]
  },
  {
   "cell_type": "code",
   "execution_count": 7,
   "id": "66c01817-9a0c-44e8-b568-8c7740acfa64",
   "metadata": {},
   "outputs": [
    {
     "name": "stdout",
     "output_type": "stream",
     "text": [
      "My name is  nootan\n"
     ]
    }
   ],
   "source": [
    "intro(\"nootan\")"
   ]
  },
  {
   "cell_type": "code",
   "execution_count": 8,
   "id": "624f7edc-d2e2-43cd-b409-ff8a9744c19e",
   "metadata": {},
   "outputs": [
    {
     "ename": "TypeError",
     "evalue": "intro() takes 1 positional argument but 2 were given",
     "output_type": "error",
     "traceback": [
      "\u001b[1;31m---------------------------------------------------------------------------\u001b[0m",
      "\u001b[1;31mTypeError\u001b[0m                                 Traceback (most recent call last)",
      "Cell \u001b[1;32mIn[8], line 1\u001b[0m\n\u001b[1;32m----> 1\u001b[0m \u001b[43mintro\u001b[49m\u001b[43m(\u001b[49m\u001b[38;5;124;43m\"\u001b[39;49m\u001b[38;5;124;43mnootan\u001b[39;49m\u001b[38;5;124;43m\"\u001b[39;49m\u001b[43m,\u001b[49m\u001b[38;5;124;43m\"\u001b[39;49m\u001b[38;5;124;43mmumbai\u001b[39;49m\u001b[38;5;124;43m\"\u001b[39;49m\u001b[43m)\u001b[49m \u001b[38;5;66;03m#error - only one argument\u001b[39;00m\n",
      "\u001b[1;31mTypeError\u001b[0m: intro() takes 1 positional argument but 2 were given"
     ]
    }
   ],
   "source": [
    "intro(\"nootan\",\"mumbai\") #error - only one argument"
   ]
  },
  {
   "cell_type": "code",
   "execution_count": 28,
   "id": "3d1a407c-ac62-4e54-b2af-936caccca508",
   "metadata": {},
   "outputs": [],
   "source": [
    "def sq(x):\n",
    "    print(\"The square of \",x,\" is \",x*x)"
   ]
  },
  {
   "cell_type": "code",
   "execution_count": 29,
   "id": "e0bef554-f21d-4ad6-8cef-cbaa1454df8f",
   "metadata": {},
   "outputs": [
    {
     "name": "stdout",
     "output_type": "stream",
     "text": [
      "The square of  8  is  64\n"
     ]
    }
   ],
   "source": [
    "sq(8)"
   ]
  },
  {
   "cell_type": "code",
   "execution_count": 30,
   "id": "935fbee5-624d-4213-993d-edaf75009da1",
   "metadata": {},
   "outputs": [
    {
     "ename": "TypeError",
     "evalue": "can't multiply sequence by non-int of type 'str'",
     "output_type": "error",
     "traceback": [
      "\u001b[1;31m---------------------------------------------------------------------------\u001b[0m",
      "\u001b[1;31mTypeError\u001b[0m                                 Traceback (most recent call last)",
      "Cell \u001b[1;32mIn[30], line 1\u001b[0m\n\u001b[1;32m----> 1\u001b[0m \u001b[43msq\u001b[49m\u001b[43m(\u001b[49m\u001b[38;5;124;43m\"\u001b[39;49m\u001b[38;5;124;43mnootan\u001b[39;49m\u001b[38;5;124;43m\"\u001b[39;49m\u001b[43m)\u001b[49m\n",
      "Cell \u001b[1;32mIn[28], line 2\u001b[0m, in \u001b[0;36msq\u001b[1;34m(x)\u001b[0m\n\u001b[0;32m      1\u001b[0m \u001b[38;5;28;01mdef\u001b[39;00m \u001b[38;5;21msq\u001b[39m(x):\n\u001b[1;32m----> 2\u001b[0m     \u001b[38;5;28mprint\u001b[39m(\u001b[38;5;124m\"\u001b[39m\u001b[38;5;124mThe square of \u001b[39m\u001b[38;5;124m\"\u001b[39m,x,\u001b[38;5;124m\"\u001b[39m\u001b[38;5;124m is \u001b[39m\u001b[38;5;124m\"\u001b[39m,\u001b[43mx\u001b[49m\u001b[38;5;241;43m*\u001b[39;49m\u001b[43mx\u001b[49m)\n",
      "\u001b[1;31mTypeError\u001b[0m: can't multiply sequence by non-int of type 'str'"
     ]
    }
   ],
   "source": [
    "sq(\"nootan\")"
   ]
  },
  {
   "cell_type": "code",
   "execution_count": 31,
   "id": "e564e529-396e-4106-828c-76d1ef61ebea",
   "metadata": {},
   "outputs": [
    {
     "name": "stdout",
     "output_type": "stream",
     "text": [
      "The square of  25  is  625\n"
     ]
    }
   ],
   "source": [
    "num=25\n",
    "sq(num)"
   ]
  },
  {
   "cell_type": "code",
   "execution_count": 32,
   "id": "33e376bf-41d9-4c13-bba0-f6a581468388",
   "metadata": {},
   "outputs": [],
   "source": [
    "sal=1000\n",
    "exp=300\n",
    "def mysav(a,b):\n",
    "    print(\"saving = \",sal-exp)"
   ]
  },
  {
   "cell_type": "code",
   "execution_count": 33,
   "id": "febafe09-1b32-4ac9-9924-8987737a50ad",
   "metadata": {},
   "outputs": [
    {
     "name": "stdout",
     "output_type": "stream",
     "text": [
      "saving =  700\n"
     ]
    }
   ],
   "source": [
    "mysav(200,50)"
   ]
  },
  {
   "cell_type": "markdown",
   "id": "e73a4e72-1ec0-4351-b2c9-f55ec7b11b88",
   "metadata": {},
   "source": [
    "#because we have taken sal and exp which are global variables inside the function. \n",
    "#we need to take a and b local variables inside the function to have proper value"
   ]
  },
  {
   "cell_type": "code",
   "execution_count": 30,
   "id": "206ef43b-cb8f-4dd0-a741-3f3b08534145",
   "metadata": {},
   "outputs": [],
   "source": [
    "sal=1000\n",
    "exp=300\n",
    "def mysav(a,b):\n",
    "    print(\"saving = \",a-b)"
   ]
  },
  {
   "cell_type": "code",
   "execution_count": 31,
   "id": "7c0b7792-0609-41d3-8b4f-3e884f36f2c6",
   "metadata": {},
   "outputs": [
    {
     "name": "stdout",
     "output_type": "stream",
     "text": [
      "saving =  150\n"
     ]
    }
   ],
   "source": [
    "mysav(200,50)"
   ]
  },
  {
   "cell_type": "code",
   "execution_count": 9,
   "id": "9d32c8f0-43c6-4b18-9841-130f0c797a89",
   "metadata": {},
   "outputs": [
    {
     "name": "stdout",
     "output_type": "stream",
     "text": [
      "150\n"
     ]
    }
   ],
   "source": [
    "sal=1000\n",
    "exp=300\n",
    "def cal(sal,exp):\n",
    "    print(sal-exp)\n",
    "cal(200,50)"
   ]
  },
  {
   "cell_type": "code",
   "execution_count": 45,
   "id": "98786d5f-3730-49bb-9e99-11ca0ff7a523",
   "metadata": {},
   "outputs": [],
   "source": [
    "sal=1000\n",
    "exp=300\n",
    "def cal(sal,exp):\n",
    "    g1 = globals()['sal']\n",
    "    g2 = globals()['exp']\n",
    "    print(g1-g2) #consider global variables - not local variables"
   ]
  },
  {
   "cell_type": "code",
   "execution_count": 47,
   "id": "c240e119-618f-4046-9c8f-fc724fb107a6",
   "metadata": {},
   "outputs": [
    {
     "ename": "TypeError",
     "evalue": "cal() missing 1 required positional argument: 'exp'",
     "output_type": "error",
     "traceback": [
      "\u001b[1;31m---------------------------------------------------------------------------\u001b[0m",
      "\u001b[1;31mTypeError\u001b[0m                                 Traceback (most recent call last)",
      "Cell \u001b[1;32mIn[47], line 1\u001b[0m\n\u001b[1;32m----> 1\u001b[0m \u001b[43mcal\u001b[49m\u001b[43m(\u001b[49m\u001b[38;5;241;43m100\u001b[39;49m\u001b[43m)\u001b[49m\n",
      "\u001b[1;31mTypeError\u001b[0m: cal() missing 1 required positional argument: 'exp'"
     ]
    }
   ],
   "source": [
    "cal(100)"
   ]
  },
  {
   "cell_type": "code",
   "execution_count": 46,
   "id": "980730fe-59fd-41e1-adf4-a84a3b44a13b",
   "metadata": {},
   "outputs": [
    {
     "name": "stdout",
     "output_type": "stream",
     "text": [
      "700\n"
     ]
    }
   ],
   "source": [
    "cal(500,100) "
   ]
  },
  {
   "cell_type": "code",
   "execution_count": 43,
   "id": "864e58c0-e966-4bd1-96ac-0355221b6a00",
   "metadata": {},
   "outputs": [],
   "source": [
    "#no return value\n",
    "def add(a,b):\n",
    "    r = a+b"
   ]
  },
  {
   "cell_type": "code",
   "execution_count": 45,
   "id": "4c85b2f6-03db-44d8-a09f-cc8d52ad2b25",
   "metadata": {},
   "outputs": [],
   "source": [
    "add(10,20) #no output"
   ]
  },
  {
   "cell_type": "code",
   "execution_count": 47,
   "id": "1e1b9aed-4e07-4922-843b-27a6de6afdec",
   "metadata": {},
   "outputs": [
    {
     "name": "stdout",
     "output_type": "stream",
     "text": [
      "None\n"
     ]
    }
   ],
   "source": [
    "r = add(10,20)\n",
    "print(r) #print None because no return statement in function and by default function will return 'None'"
   ]
  },
  {
   "cell_type": "code",
   "execution_count": 48,
   "id": "9f9c13c1-c9f5-411f-abd2-7c955c3457b2",
   "metadata": {},
   "outputs": [
    {
     "data": {
      "text/plain": [
       "NoneType"
      ]
     },
     "execution_count": 48,
     "metadata": {},
     "output_type": "execute_result"
    }
   ],
   "source": [
    "type(r)"
   ]
  },
  {
   "cell_type": "code",
   "execution_count": 49,
   "id": "03b7bcce-46bd-43a6-9675-ac09e4f96221",
   "metadata": {},
   "outputs": [],
   "source": [
    "#with return value\n",
    "def add(a,b):\n",
    "    r = a+b\n",
    "    return r"
   ]
  },
  {
   "cell_type": "code",
   "execution_count": 50,
   "id": "044c7c63-a887-44db-baaf-e960aa0529e1",
   "metadata": {},
   "outputs": [
    {
     "name": "stdout",
     "output_type": "stream",
     "text": [
      "30\n"
     ]
    }
   ],
   "source": [
    "r = add(10,20)\n",
    "print(r)"
   ]
  },
  {
   "cell_type": "code",
   "execution_count": 51,
   "id": "d9f9c346-d5f2-4e5b-9412-dc6b97de90b9",
   "metadata": {},
   "outputs": [],
   "source": [
    "#function with list\n",
    "\n",
    "def findMax(somelist):\n",
    "    m=somelist[0]\n",
    "    l=len(somelist)\n",
    "    for i in range(1,l):\n",
    "        if somelist[i]>m:\n",
    "            m=somelist[i]\n",
    "    return m"
   ]
  },
  {
   "cell_type": "code",
   "execution_count": 52,
   "id": "7d68b30b-1fd8-4ee6-a409-d900cc7fb530",
   "metadata": {},
   "outputs": [
    {
     "name": "stdout",
     "output_type": "stream",
     "text": [
      "30\n"
     ]
    }
   ],
   "source": [
    "num=[20,5,7,30,10]\n",
    "m=findMax(num)\n",
    "print(m)"
   ]
  },
  {
   "cell_type": "code",
   "execution_count": 53,
   "id": "a759f2c8-0878-4c00-9fe7-25147112ac1b",
   "metadata": {},
   "outputs": [
    {
     "name": "stdout",
     "output_type": "stream",
     "text": [
      "50\n"
     ]
    }
   ],
   "source": [
    "num.append(50)\n",
    "m=findMax(num)\n",
    "print(m)"
   ]
  },
  {
   "cell_type": "code",
   "execution_count": 54,
   "id": "a96a6f34-fcda-4031-bfb1-db9abb1ed6fa",
   "metadata": {},
   "outputs": [
    {
     "ename": "IndexError",
     "evalue": "list index out of range",
     "output_type": "error",
     "traceback": [
      "\u001b[1;31m---------------------------------------------------------------------------\u001b[0m",
      "\u001b[1;31mIndexError\u001b[0m                                Traceback (most recent call last)",
      "Cell \u001b[1;32mIn[54], line 2\u001b[0m\n\u001b[0;32m      1\u001b[0m el\u001b[38;5;241m=\u001b[39m[]\n\u001b[1;32m----> 2\u001b[0m \u001b[43mfindMax\u001b[49m\u001b[43m(\u001b[49m\u001b[43mel\u001b[49m\u001b[43m)\u001b[49m\n",
      "Cell \u001b[1;32mIn[51], line 4\u001b[0m, in \u001b[0;36mfindMax\u001b[1;34m(somelist)\u001b[0m\n\u001b[0;32m      3\u001b[0m \u001b[38;5;28;01mdef\u001b[39;00m \u001b[38;5;21mfindMax\u001b[39m(somelist):\n\u001b[1;32m----> 4\u001b[0m     m\u001b[38;5;241m=\u001b[39m\u001b[43msomelist\u001b[49m\u001b[43m[\u001b[49m\u001b[38;5;241;43m0\u001b[39;49m\u001b[43m]\u001b[49m\n\u001b[0;32m      5\u001b[0m     l\u001b[38;5;241m=\u001b[39m\u001b[38;5;28mlen\u001b[39m(somelist)\n\u001b[0;32m      6\u001b[0m     \u001b[38;5;28;01mfor\u001b[39;00m i \u001b[38;5;129;01min\u001b[39;00m \u001b[38;5;28mrange\u001b[39m(\u001b[38;5;241m1\u001b[39m,l):\n",
      "\u001b[1;31mIndexError\u001b[0m: list index out of range"
     ]
    }
   ],
   "source": [
    "el=[]\n",
    "findMax(el)"
   ]
  },
  {
   "cell_type": "code",
   "execution_count": 38,
   "id": "9fee52c0-e413-435d-bfd6-4abf430a36bc",
   "metadata": {},
   "outputs": [],
   "source": [
    "#multiple values return from function\n",
    "\n",
    "def add_sub(x,y):\n",
    "    a = x+y\n",
    "    b = x-y\n",
    "    return a,b"
   ]
  },
  {
   "cell_type": "code",
   "execution_count": 39,
   "id": "9f4df973-9d9a-4ca3-a0b0-19a0e71ce2e3",
   "metadata": {},
   "outputs": [
    {
     "data": {
      "text/plain": [
       "(30, 10)"
      ]
     },
     "execution_count": 39,
     "metadata": {},
     "output_type": "execute_result"
    }
   ],
   "source": [
    "add_sub(20,10)"
   ]
  },
  {
   "cell_type": "code",
   "execution_count": 42,
   "id": "34b34d63-d39e-4f52-992b-d9daf7787b6c",
   "metadata": {},
   "outputs": [
    {
     "data": {
      "text/plain": [
       "20"
      ]
     },
     "execution_count": 42,
     "metadata": {},
     "output_type": "execute_result"
    }
   ],
   "source": [
    "r = add_sub(30,10)\n",
    "r[1]"
   ]
  },
  {
   "cell_type": "code",
   "execution_count": 58,
   "id": "9cbc84a2-c4a4-4bcb-891b-4390b9287ffc",
   "metadata": {},
   "outputs": [
    {
     "name": "stdout",
     "output_type": "stream",
     "text": [
      "addition =  60\n",
      "subtraction =  20\n"
     ]
    }
   ],
   "source": [
    "r1,r2 = add_sub(40,20)\n",
    "print(\"addition = \",r1)\n",
    "print(\"subtraction = \",r2)"
   ]
  },
  {
   "cell_type": "code",
   "execution_count": 59,
   "id": "147783cb-eb06-4977-b2d6-c6ec37902247",
   "metadata": {},
   "outputs": [
    {
     "name": "stdout",
     "output_type": "stream",
     "text": [
      "30\n"
     ]
    }
   ],
   "source": [
    "r1,_=add_sub(20,10)\n",
    "print(r1) #use _ if you want only one result and ignore another one"
   ]
  },
  {
   "cell_type": "code",
   "execution_count": 60,
   "id": "5dec4f5e-80eb-46f6-9f3f-d6c5dfb75b51",
   "metadata": {},
   "outputs": [
    {
     "name": "stdout",
     "output_type": "stream",
     "text": [
      "10\n"
     ]
    }
   ],
   "source": [
    "_,r2=add_sub(20,10)\n",
    "print(r2)"
   ]
  },
  {
   "cell_type": "code",
   "execution_count": 52,
   "id": "2f9fe971-d571-4d8f-8504-5293a62bb7f5",
   "metadata": {},
   "outputs": [
    {
     "name": "stdout",
     "output_type": "stream",
     "text": [
      "outside function 1000\n",
      "inside function 1005\n",
      "outside function after calling function 1005\n"
     ]
    }
   ],
   "source": [
    "val = 1000\n",
    "def global_local():\n",
    "    global val #global variable\n",
    "    val += 5\n",
    "    print(\"inside function\",val)\n",
    "\n",
    "print(\"outside function\",val)\n",
    "global_local()\n",
    "print(\"outside function after calling function\",val)\n",
    "    "
   ]
  },
  {
   "cell_type": "code",
   "execution_count": 53,
   "id": "ae29ec19-46f3-439c-aaef-0ac35035c20f",
   "metadata": {},
   "outputs": [
    {
     "name": "stdout",
     "output_type": "stream",
     "text": [
      "outside function 1000\n",
      "inside function 5\n",
      "outside function after calling function 1000\n"
     ]
    }
   ],
   "source": [
    "val = 1000\n",
    "def global_local():\n",
    "    val = 5 #local variable \n",
    "    print(\"inside function\",val)\n",
    " \n",
    "print(\"outside function\",val)\n",
    "global_local()\n",
    "print(\"outside function after calling function\",val)"
   ]
  },
  {
   "cell_type": "code",
   "execution_count": 10,
   "id": "e15f06f4-30e9-4837-bde7-ffeff951a68f",
   "metadata": {},
   "outputs": [
    {
     "data": {
      "text/plain": [
       "60"
      ]
     },
     "execution_count": 10,
     "metadata": {},
     "output_type": "execute_result"
    }
   ],
   "source": [
    "def sum(a,b,c=30):\n",
    "    return a+b+c\n",
    "\n",
    "sum(10,20)"
   ]
  },
  {
   "cell_type": "code",
   "execution_count": null,
   "id": "82931b4e-3fd7-4589-9913-faab8ff172e5",
   "metadata": {},
   "outputs": [],
   "source": []
  }
 ],
 "metadata": {
  "kernelspec": {
   "display_name": "Python 3 (ipykernel)",
   "language": "python",
   "name": "python3"
  },
  "language_info": {
   "codemirror_mode": {
    "name": "ipython",
    "version": 3
   },
   "file_extension": ".py",
   "mimetype": "text/x-python",
   "name": "python",
   "nbconvert_exporter": "python",
   "pygments_lexer": "ipython3",
   "version": "3.12.0"
  }
 },
 "nbformat": 4,
 "nbformat_minor": 5
}
