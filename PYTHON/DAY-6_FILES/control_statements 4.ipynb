{
 "cells": [
  {
   "cell_type": "code",
   "execution_count": 2,
   "id": "ce97a124-3b1c-4060-928e-72d1467c2f4b",
   "metadata": {},
   "outputs": [
    {
     "name": "stdout",
     "output_type": "stream",
     "text": [
      "value is greater than 5\n"
     ]
    }
   ],
   "source": [
    "#if statements\n",
    "\n",
    "a = 10\n",
    "if a > 5 :\n",
    "    print(\"value is greater than 5\")"
   ]
  },
  {
   "cell_type": "code",
   "execution_count": 3,
   "id": "837642f0-7978-4b0c-8b5a-44483177cc47",
   "metadata": {},
   "outputs": [
    {
     "name": "stdout",
     "output_type": "stream",
     "text": [
      "number is even\n"
     ]
    }
   ],
   "source": [
    "#if else statements\n",
    "\n",
    "a = 10\n",
    "if a%2 == 0:\n",
    "    print(\"number is even\")\n",
    "else:\n",
    "    print(\"number is odd\")"
   ]
  },
  {
   "cell_type": "code",
   "execution_count": 10,
   "id": "33588b9e-224c-4f51-98eb-7706dcd0a5b9",
   "metadata": {},
   "outputs": [
    {
     "name": "stdout",
     "output_type": "stream",
     "text": [
      "min value :  5\n"
     ]
    }
   ],
   "source": [
    "#if elif else statements\n",
    "a = 10\n",
    "b = 5\n",
    "c = 20\n",
    "\n",
    "if a<b and a<c:\n",
    "    print(\"min value : \",a)\n",
    "elif b<a and b<c:\n",
    "    print(\"min value : \",b)\n",
    "else:\n",
    "    print(\"min value : \",c)"
   ]
  },
  {
   "cell_type": "code",
   "execution_count": 1,
   "id": "6f20acea-61d3-44f2-a35c-4379ee0c11c5",
   "metadata": {},
   "outputs": [
    {
     "name": "stdout",
     "output_type": "stream",
     "text": [
      "min value :  2\n"
     ]
    }
   ],
   "source": [
    "#nested if statements\n",
    "\n",
    "a = 20\n",
    "b = 5\n",
    "c = 10\n",
    "\n",
    "if a<b :\n",
    "    if a<c:\n",
    "         print(\"min value : \",a)\n",
    "    else :\n",
    "        print(\"min value : \",c)\n",
    "else :\n",
    "    if b<c:\n",
    "        print(\"min value : \",b)\n",
    "    else:\n",
    "        print(\"min value : \",c)"
   ]
  },
  {
   "cell_type": "code",
   "execution_count": 13,
   "id": "4d7f6de7-f965-465a-8a96-35f8abdf872f",
   "metadata": {},
   "outputs": [
    {
     "name": "stdout",
     "output_type": "stream",
     "text": [
      "1\n",
      "2\n",
      "3\n",
      "4\n",
      "5\n"
     ]
    }
   ],
   "source": [
    "#for loop\n",
    "\n",
    "a = [1,2,3,4,5]\n",
    "for i in a:\n",
    "    print(i)"
   ]
  },
  {
   "cell_type": "code",
   "execution_count": 3,
   "id": "3a6993d5-33dd-43cf-b381-ffa9cfcb497f",
   "metadata": {},
   "outputs": [
    {
     "name": "stdout",
     "output_type": "stream",
     "text": [
      "1\n",
      "2\n",
      "3\n",
      "4\n",
      "5\n",
      "6\n",
      "7\n",
      "8\n",
      "9\n",
      "10\n"
     ]
    }
   ],
   "source": [
    "#for loop with range function\n",
    "for i in range(1,11): #range(start,end-1)\n",
    "    print(i)"
   ]
  },
  {
   "cell_type": "code",
   "execution_count": 7,
   "id": "9cf220a7-5c9d-47b2-af4b-c4f9741c6e48",
   "metadata": {},
   "outputs": [
    {
     "name": "stdout",
     "output_type": "stream",
     "text": [
      "10\n",
      "8\n",
      "6\n",
      "4\n",
      "2\n"
     ]
    }
   ],
   "source": [
    "for i in range(10,1,-2):\n",
    "    print(i)"
   ]
  },
  {
   "cell_type": "code",
   "execution_count": 1,
   "id": "d54d1f93-7354-4943-8d4d-6b6bbc90e537",
   "metadata": {},
   "outputs": [
    {
     "name": "stdout",
     "output_type": "stream",
     "text": [
      "10\n",
      "9\n",
      "8\n",
      "7\n",
      "6\n",
      "5\n"
     ]
    }
   ],
   "source": [
    "#while loop\n",
    "i = 10\n",
    "while i >= 5:\n",
    "    print(i)\n",
    "    i-=1"
   ]
  },
  {
   "cell_type": "code",
   "execution_count": 20,
   "id": "a46e8f23-ce75-4cfa-8da2-c8bf0218c672",
   "metadata": {},
   "outputs": [
    {
     "name": "stdout",
     "output_type": "stream",
     "text": [
      "1\n",
      "3\n"
     ]
    }
   ],
   "source": [
    "numbers = [1, 2, 3, 4, 5, 6, 7, 8, 9]\n",
    "for num in numbers:\n",
    "    if num == 5:\n",
    "        break  # Exit the loop when num is 5\n",
    "    if num % 2 == 0:\n",
    "        continue  # Skip even numbers\n",
    "    print(num)\n"
   ]
  },
  {
   "cell_type": "code",
   "execution_count": 1,
   "id": "c5342259-7357-46bc-b729-11f14ee131c6",
   "metadata": {},
   "outputs": [
    {
     "name": "stdout",
     "output_type": "stream",
     "text": [
      "1\n",
      "2\n",
      "3\n",
      "4\n",
      "5\n",
      "no more items\n"
     ]
    }
   ],
   "source": [
    "#for-else block\n",
    "numbers = [1, 2, 3, 4, 5]\n",
    "for num in numbers:\n",
    "    print(num)\n",
    "else :\n",
    "    print(\"no more items\")\n"
   ]
  },
  {
   "cell_type": "markdown",
   "id": "8bfa4ef3-31b7-44a5-85b7-3fc89203f8e8",
   "metadata": {},
   "source": [
    "-> else block means that the execution of the code will enter the else block after all of the iterations of the for loop have been completed successfully. \n",
    "-> If all the iterations completed without any issue, the else block will be executed."
   ]
  },
  {
   "cell_type": "code",
   "execution_count": 4,
   "id": "80da4f54-aa90-4f65-91e5-92d0b9e54966",
   "metadata": {},
   "outputs": [
    {
     "name": "stdout",
     "output_type": "stream",
     "text": [
      "1\n",
      "2\n",
      "3\n"
     ]
    }
   ],
   "source": [
    "for num in numbers:\n",
    "    if num>3:\n",
    "        break\n",
    "    print(num)\n",
    "else :\n",
    "    print(\"no more items\")"
   ]
  },
  {
   "cell_type": "markdown",
   "id": "edb9d9d0-08c3-4b14-beca-b058ae888e6d",
   "metadata": {},
   "source": [
    "So when is the else block not executed?\n",
    "\n",
    "We could either have an error during processing of each element within the for loop, or we could also exit prematurely from the for loop before it gets to complete all the iterations"
   ]
  },
  {
   "cell_type": "code",
   "execution_count": null,
   "id": "48ac0312-921c-44b8-a1cd-697a6111c44d",
   "metadata": {},
   "outputs": [],
   "source": []
  }
 ],
 "metadata": {
  "kernelspec": {
   "display_name": "Python 3 (ipykernel)",
   "language": "python",
   "name": "python3"
  },
  "language_info": {
   "codemirror_mode": {
    "name": "ipython",
    "version": 3
   },
   "file_extension": ".py",
   "mimetype": "text/x-python",
   "name": "python",
   "nbconvert_exporter": "python",
   "pygments_lexer": "ipython3",
   "version": "3.12.0"
  }
 },
 "nbformat": 4,
 "nbformat_minor": 5
}
