{
 "cells": [
  {
   "cell_type": "code",
   "execution_count": 1,
   "id": "ea488967-f0d9-4a2d-95db-3d5462917273",
   "metadata": {},
   "outputs": [
    {
     "data": {
      "text/plain": [
       "list"
      ]
     },
     "execution_count": 1,
     "metadata": {},
     "output_type": "execute_result"
    }
   ],
   "source": [
    "lstr = ['abc','def','ghi']\n",
    "type(lstr)"
   ]
  },
  {
   "cell_type": "code",
   "execution_count": 2,
   "id": "5f201b06-c075-4c2b-b082-8d7d0e6798a5",
   "metadata": {},
   "outputs": [],
   "source": [
    "intList = [10,20,30]"
   ]
  },
  {
   "cell_type": "code",
   "execution_count": 3,
   "id": "e404decd-e3b8-4fc6-8bc5-fd30cf41a7fc",
   "metadata": {},
   "outputs": [
    {
     "data": {
      "text/plain": [
       "10"
      ]
     },
     "execution_count": 3,
     "metadata": {},
     "output_type": "execute_result"
    }
   ],
   "source": [
    "mixList = ['abc',10,2.5,True]\n",
    "type(mixList)\n",
    "mixList[1]"
   ]
  },
  {
   "cell_type": "code",
   "execution_count": 4,
   "id": "8481f1c2-39ac-4dca-9745-ca1c6459193b",
   "metadata": {},
   "outputs": [
    {
     "data": {
      "text/plain": [
       "str"
      ]
     },
     "execution_count": 4,
     "metadata": {},
     "output_type": "execute_result"
    }
   ],
   "source": [
    "type(mixList[0])"
   ]
  },
  {
   "cell_type": "code",
   "execution_count": 6,
   "id": "afbf25d7-831b-4011-8827-f0839e065b31",
   "metadata": {},
   "outputs": [
    {
     "ename": "IndexError",
     "evalue": "list assignment index out of range",
     "output_type": "error",
     "traceback": [
      "\u001b[1;31m---------------------------------------------------------------------------\u001b[0m",
      "\u001b[1;31mIndexError\u001b[0m                                Traceback (most recent call last)",
      "Cell \u001b[1;32mIn[6], line 1\u001b[0m\n\u001b[1;32m----> 1\u001b[0m \u001b[43mmixList\u001b[49m\u001b[43m[\u001b[49m\u001b[38;5;241;43m4\u001b[39;49m\u001b[43m]\u001b[49m \u001b[38;5;241m=\u001b[39m \u001b[38;5;241m10\u001b[39m\n",
      "\u001b[1;31mIndexError\u001b[0m: list assignment index out of range"
     ]
    }
   ],
   "source": [
    "mixList[4] = 10"
   ]
  },
  {
   "cell_type": "code",
   "execution_count": 5,
   "id": "ac8c991c-1ee5-45ab-9c8e-709b0ea95d17",
   "metadata": {},
   "outputs": [
    {
     "data": {
      "text/plain": [
       "[]"
      ]
     },
     "execution_count": 5,
     "metadata": {},
     "output_type": "execute_result"
    }
   ],
   "source": [
    "emptyList = [] #list()\n",
    "emptyList"
   ]
  },
  {
   "cell_type": "code",
   "execution_count": 6,
   "id": "e7c76a8e-6d30-47eb-933a-c996b1b347cf",
   "metadata": {},
   "outputs": [
    {
     "name": "stdout",
     "output_type": "stream",
     "text": [
      "element at index 2 :  2.5\n"
     ]
    }
   ],
   "source": [
    "print(\"element at index 2 : \",mixList[2])"
   ]
  },
  {
   "cell_type": "code",
   "execution_count": 7,
   "id": "0f63fffd-8c2b-4b21-9a03-839c958e23c0",
   "metadata": {},
   "outputs": [
    {
     "ename": "TypeError",
     "evalue": "list indices must be integers or slices, not tuple",
     "output_type": "error",
     "traceback": [
      "\u001b[1;31m---------------------------------------------------------------------------\u001b[0m",
      "\u001b[1;31mTypeError\u001b[0m                                 Traceback (most recent call last)",
      "Cell \u001b[1;32mIn[7], line 1\u001b[0m\n\u001b[1;32m----> 1\u001b[0m \u001b[38;5;28mprint\u001b[39m(\u001b[43mmixList\u001b[49m\u001b[43m[\u001b[49m\u001b[38;5;241;43m1\u001b[39;49m\u001b[43m,\u001b[49m\u001b[38;5;241;43m2\u001b[39;49m\u001b[43m]\u001b[49m)\n",
      "\u001b[1;31mTypeError\u001b[0m: list indices must be integers or slices, not tuple"
     ]
    }
   ],
   "source": [
    "print(mixList[1,2])"
   ]
  },
  {
   "cell_type": "code",
   "execution_count": 8,
   "id": "71897c0d-c164-496a-8580-864143c3fc63",
   "metadata": {},
   "outputs": [
    {
     "name": "stdout",
     "output_type": "stream",
     "text": [
      "True\n"
     ]
    }
   ],
   "source": [
    "print(mixList[-1])"
   ]
  },
  {
   "cell_type": "code",
   "execution_count": 9,
   "id": "799086b1-9dff-4b43-8104-543982232ba8",
   "metadata": {},
   "outputs": [
    {
     "name": "stdout",
     "output_type": "stream",
     "text": [
      "2.5\n"
     ]
    }
   ],
   "source": [
    "print(mixList[-2])"
   ]
  },
  {
   "cell_type": "code",
   "execution_count": 10,
   "id": "4a643470-0b8d-4150-9e74-cc4ba39b452a",
   "metadata": {},
   "outputs": [
    {
     "ename": "IndexError",
     "evalue": "list assignment index out of range",
     "output_type": "error",
     "traceback": [
      "\u001b[1;31m---------------------------------------------------------------------------\u001b[0m",
      "\u001b[1;31mIndexError\u001b[0m                                Traceback (most recent call last)",
      "Cell \u001b[1;32mIn[10], line 1\u001b[0m\n\u001b[1;32m----> 1\u001b[0m \u001b[43mmixList\u001b[49m\u001b[43m[\u001b[49m\u001b[38;5;241;43m4\u001b[39;49m\u001b[43m]\u001b[49m\u001b[38;5;241m=\u001b[39m\u001b[38;5;124m\"\u001b[39m\u001b[38;5;124melement at index 4\u001b[39m\u001b[38;5;124m\"\u001b[39m\n",
      "\u001b[1;31mIndexError\u001b[0m: list assignment index out of range"
     ]
    }
   ],
   "source": [
    "mixList[4]=\"element at index 4\""
   ]
  },
  {
   "cell_type": "code",
   "execution_count": 8,
   "id": "07ac2ea8-1c32-4c32-8277-cc9b8237bf43",
   "metadata": {},
   "outputs": [
    {
     "data": {
      "text/plain": [
       "['abc', 10, 2.5, True, 'element at index 4']"
      ]
     },
     "execution_count": 8,
     "metadata": {},
     "output_type": "execute_result"
    }
   ],
   "source": [
    "mixList.append(\"element at index 4\")\n",
    "mixList"
   ]
  },
  {
   "cell_type": "code",
   "execution_count": 9,
   "id": "4f1d62ff-7943-488c-a652-f87f25f7a4c3",
   "metadata": {},
   "outputs": [
    {
     "data": {
      "text/plain": [
       "['abc', 10, 2.5, True, 'element at index 4', 'Neha']"
      ]
     },
     "execution_count": 9,
     "metadata": {},
     "output_type": "execute_result"
    }
   ],
   "source": [
    "mixList.insert(6,\"Neha\") \n",
    "mixList #though index is 6, it will add \"Neha\" at the end of the list i.e. index 5"
   ]
  },
  {
   "cell_type": "code",
   "execution_count": 10,
   "id": "ad94835b-e33a-4c4f-9407-ec89fb2ee493",
   "metadata": {},
   "outputs": [
    {
     "data": {
      "text/plain": [
       "['abc', 10, 2.5, True, 'element at index 4', 'ABC', 'Neha']"
      ]
     },
     "execution_count": 10,
     "metadata": {},
     "output_type": "execute_result"
    }
   ],
   "source": [
    "mixList.insert(5,\"ABC\")\n",
    "mixList"
   ]
  },
  {
   "cell_type": "code",
   "execution_count": 11,
   "id": "612edaf1-6753-4cea-baa3-d839ec04fb08",
   "metadata": {},
   "outputs": [
    {
     "data": {
      "text/plain": [
       "['abc', 10, 2.5, True, 'element at index 4', 'DEF', 'ABC', 'Neha']"
      ]
     },
     "execution_count": 11,
     "metadata": {},
     "output_type": "execute_result"
    }
   ],
   "source": [
    "mixList.insert(5,\"DEF\")\n",
    "mixList"
   ]
  },
  {
   "cell_type": "code",
   "execution_count": 12,
   "id": "4093fe37-2448-4952-a920-15b1209c6ac5",
   "metadata": {},
   "outputs": [
    {
     "data": {
      "text/plain": [
       "['abc',\n",
       " 10,\n",
       " 2.5,\n",
       " True,\n",
       " 'element at index 4',\n",
       " 'This is replacement',\n",
       " 'ABC',\n",
       " 'Neha']"
      ]
     },
     "execution_count": 12,
     "metadata": {},
     "output_type": "execute_result"
    }
   ],
   "source": [
    "mixList[5] = 'This is replacement'\n",
    "mixList"
   ]
  },
  {
   "cell_type": "code",
   "execution_count": 13,
   "id": "02ad0d6f-3649-4a45-84cf-0ad8f2e89ca8",
   "metadata": {},
   "outputs": [
    {
     "data": {
      "text/plain": [
       "['abc',\n",
       " 10,\n",
       " 2.5,\n",
       " True,\n",
       " 'element at index 4',\n",
       " 'This is replacement',\n",
       " 'ABC',\n",
       " 'Neha',\n",
       " 'Hii',\n",
       " 'How']"
      ]
     },
     "execution_count": 13,
     "metadata": {},
     "output_type": "execute_result"
    }
   ],
   "source": [
    "mixList.extend(['Hii','How'])\n",
    "mixList"
   ]
  },
  {
   "cell_type": "code",
   "execution_count": 14,
   "id": "509f956c-aa43-4034-8dbd-5dc0dfb96b4e",
   "metadata": {},
   "outputs": [
    {
     "data": {
      "text/plain": [
       "8"
      ]
     },
     "execution_count": 14,
     "metadata": {},
     "output_type": "execute_result"
    }
   ],
   "source": [
    "mixList.index('Hii') #remember string is case sensitive"
   ]
  },
  {
   "cell_type": "code",
   "execution_count": 11,
   "id": "f8d0b1cc-10e0-43ee-956d-c419a260ff3b",
   "metadata": {},
   "outputs": [
    {
     "data": {
      "text/plain": [
       "['abc',\n",
       " 10,\n",
       " 2.5,\n",
       " True,\n",
       " 'element at index 4',\n",
       " 'This is replacement',\n",
       " 'ABC',\n",
       " 'Neha',\n",
       " 'How']"
      ]
     },
     "execution_count": 11,
     "metadata": {},
     "output_type": "execute_result"
    }
   ],
   "source": [
    "mixList.remove('Hii')\n",
    "mixList"
   ]
  },
  {
   "cell_type": "code",
   "execution_count": 12,
   "id": "179dfb39-865b-4357-ab29-e0d9b8b53436",
   "metadata": {},
   "outputs": [
    {
     "data": {
      "text/plain": [
       "['abc',\n",
       " 10,\n",
       " 2.5,\n",
       " True,\n",
       " 'element at index 4',\n",
       " 'This is replacement',\n",
       " 'ABC',\n",
       " 'Neha',\n",
       " 'How',\n",
       " 'abc']"
      ]
     },
     "execution_count": 12,
     "metadata": {},
     "output_type": "execute_result"
    }
   ],
   "source": [
    "mixList.append('abc')\n",
    "mixList"
   ]
  },
  {
   "cell_type": "code",
   "execution_count": 13,
   "id": "2efc6c98-9a40-47d0-b94e-7a7386a943ad",
   "metadata": {},
   "outputs": [
    {
     "data": {
      "text/plain": [
       "[10,\n",
       " 2.5,\n",
       " True,\n",
       " 'element at index 4',\n",
       " 'This is replacement',\n",
       " 'ABC',\n",
       " 'Neha',\n",
       " 'How',\n",
       " 'abc']"
      ]
     },
     "execution_count": 13,
     "metadata": {},
     "output_type": "execute_result"
    }
   ],
   "source": [
    "mixList.remove('abc')\n",
    "mixList"
   ]
  },
  {
   "cell_type": "code",
   "execution_count": 14,
   "id": "862c6291-f422-46f3-9b04-53696e1dd68e",
   "metadata": {},
   "outputs": [
    {
     "data": {
      "text/plain": [
       "[10,\n",
       " 2.5,\n",
       " True,\n",
       " 'element at index 4',\n",
       " 'This is replacement',\n",
       " 'ABC',\n",
       " 'Neha',\n",
       " 'How',\n",
       " 'abc',\n",
       " 'Pizza',\n",
       " 'Panipuri']"
      ]
     },
     "execution_count": 14,
     "metadata": {},
     "output_type": "execute_result"
    }
   ],
   "source": [
    "mixList += ['Pizza','Panipuri'] #it will add two words at the end of the list\n",
    "mixList"
   ]
  },
  {
   "cell_type": "code",
   "execution_count": 15,
   "id": "aaaf79c9-1ad3-4fe2-9c76-cfbd5a3a1d75",
   "metadata": {},
   "outputs": [
    {
     "data": {
      "text/plain": [
       "1"
      ]
     },
     "execution_count": 15,
     "metadata": {},
     "output_type": "execute_result"
    }
   ],
   "source": [
    "mixList.count('Neha')"
   ]
  },
  {
   "cell_type": "code",
   "execution_count": 16,
   "id": "9b4bb307-b71d-4578-9092-ae4c0e930680",
   "metadata": {},
   "outputs": [
    {
     "data": {
      "text/plain": [
       "[10,\n",
       " 2.5,\n",
       " True,\n",
       " 'element at index 4',\n",
       " 'This is replacement',\n",
       " 'ABC',\n",
       " 'Neha',\n",
       " 'How',\n",
       " 'abc',\n",
       " 'Pizza',\n",
       " 'Panipuri',\n",
       " 'Neha']"
      ]
     },
     "execution_count": 16,
     "metadata": {},
     "output_type": "execute_result"
    }
   ],
   "source": [
    "mixList.append('Neha')\n",
    "mixList"
   ]
  },
  {
   "cell_type": "code",
   "execution_count": 20,
   "id": "1e823a0c-37b4-41ba-bc8c-4e0a0e7a987b",
   "metadata": {},
   "outputs": [
    {
     "data": {
      "text/plain": [
       "2"
      ]
     },
     "execution_count": 20,
     "metadata": {},
     "output_type": "execute_result"
    }
   ],
   "source": [
    "mixList.count('Neha')"
   ]
  },
  {
   "cell_type": "code",
   "execution_count": 17,
   "id": "2b594624-5744-4eda-a637-16bd97ef1d5c",
   "metadata": {},
   "outputs": [
    {
     "data": {
      "text/plain": [
       "'Neha'"
      ]
     },
     "execution_count": 17,
     "metadata": {},
     "output_type": "execute_result"
    }
   ],
   "source": [
    "mixList.pop()"
   ]
  },
  {
   "cell_type": "code",
   "execution_count": 22,
   "id": "161b45e2-0980-4c1d-b0c5-5a7e3640af41",
   "metadata": {},
   "outputs": [
    {
     "data": {
      "text/plain": [
       "['abc',\n",
       " 10,\n",
       " 2.5,\n",
       " True,\n",
       " 'element at index 4',\n",
       " 'ABC',\n",
       " 'Neha',\n",
       " 'How',\n",
       " 'Pizza',\n",
       " 'Panipuri']"
      ]
     },
     "execution_count": 22,
     "metadata": {},
     "output_type": "execute_result"
    }
   ],
   "source": [
    "mixList"
   ]
  },
  {
   "cell_type": "code",
   "execution_count": 15,
   "id": "05120802-e0f6-4315-ada2-b73454ac518a",
   "metadata": {},
   "outputs": [],
   "source": [
    "numList=[30,50,10,20,40]"
   ]
  },
  {
   "cell_type": "code",
   "execution_count": 16,
   "id": "efbaca28-34f1-4c1e-be53-960172a9ccea",
   "metadata": {},
   "outputs": [
    {
     "data": {
      "text/plain": [
       "50"
      ]
     },
     "execution_count": 16,
     "metadata": {},
     "output_type": "execute_result"
    }
   ],
   "source": [
    "max(numList)"
   ]
  },
  {
   "cell_type": "code",
   "execution_count": 17,
   "id": "1345e41f-930a-4843-9d69-96db9af368b3",
   "metadata": {},
   "outputs": [
    {
     "data": {
      "text/plain": [
       "10"
      ]
     },
     "execution_count": 17,
     "metadata": {},
     "output_type": "execute_result"
    }
   ],
   "source": [
    "min(numList)"
   ]
  },
  {
   "cell_type": "code",
   "execution_count": 18,
   "id": "42b39c7e-66a4-44fb-9ae1-3a860269c900",
   "metadata": {},
   "outputs": [
    {
     "data": {
      "text/plain": [
       "5"
      ]
     },
     "execution_count": 18,
     "metadata": {},
     "output_type": "execute_result"
    }
   ],
   "source": [
    "len(numList)"
   ]
  },
  {
   "cell_type": "code",
   "execution_count": 27,
   "id": "68446efd-2626-4a1e-92f1-2ff71533aefb",
   "metadata": {},
   "outputs": [
    {
     "data": {
      "text/plain": [
       "[10, 20, 30, 40, 50]"
      ]
     },
     "execution_count": 27,
     "metadata": {},
     "output_type": "execute_result"
    }
   ],
   "source": [
    "numList.sort()\n",
    "numList"
   ]
  },
  {
   "cell_type": "code",
   "execution_count": 28,
   "id": "b050da11-2e65-4357-8f80-ad8cddc73135",
   "metadata": {},
   "outputs": [
    {
     "data": {
      "text/plain": [
       "[50, 40, 30, 20, 10]"
      ]
     },
     "execution_count": 28,
     "metadata": {},
     "output_type": "execute_result"
    }
   ],
   "source": [
    "numList.reverse()\n",
    "numList"
   ]
  },
  {
   "cell_type": "code",
   "execution_count": 19,
   "id": "bef2f12a-cdba-45a3-a53b-0a4007f7f42d",
   "metadata": {},
   "outputs": [],
   "source": [
    "numList.append(25)"
   ]
  },
  {
   "cell_type": "code",
   "execution_count": 20,
   "id": "8d59b8b0-78e2-43eb-8d86-37670fbd8510",
   "metadata": {},
   "outputs": [
    {
     "data": {
      "text/plain": [
       "[10, 20, 25, 30, 40, 50]"
      ]
     },
     "execution_count": 20,
     "metadata": {},
     "output_type": "execute_result"
    }
   ],
   "source": [
    "sort_list = sorted(numList)\n",
    "sort_list"
   ]
  },
  {
   "cell_type": "code",
   "execution_count": 21,
   "id": "83af294e-307b-4a2f-ba0c-fe16d0dc8443",
   "metadata": {},
   "outputs": [],
   "source": [
    "sort_list.remove(25)"
   ]
  },
  {
   "cell_type": "code",
   "execution_count": 22,
   "id": "b7131dc2-51ce-441a-a8b0-10d8b9584905",
   "metadata": {},
   "outputs": [
    {
     "data": {
      "text/plain": [
       "[10, 20, 30, 40, 50]"
      ]
     },
     "execution_count": 22,
     "metadata": {},
     "output_type": "execute_result"
    }
   ],
   "source": [
    "sort_list"
   ]
  },
  {
   "cell_type": "code",
   "execution_count": 23,
   "id": "65cab4e2-5c66-4633-9413-e16082112d98",
   "metadata": {},
   "outputs": [
    {
     "data": {
      "text/plain": [
       "[30, 50, 10, 20, 40, 25, 30, 50, 10, 20, 40, 25, 30, 50, 10, 20, 40, 25]"
      ]
     },
     "execution_count": 23,
     "metadata": {},
     "output_type": "execute_result"
    }
   ],
   "source": [
    "numList *= 3\n",
    "numList"
   ]
  },
  {
   "cell_type": "code",
   "execution_count": 24,
   "id": "9b80e46c-8ee7-47c2-b7a1-388f3d33f629",
   "metadata": {},
   "outputs": [
    {
     "ename": "TypeError",
     "evalue": "can't multiply sequence by non-int of type 'float'",
     "output_type": "error",
     "traceback": [
      "\u001b[1;31m---------------------------------------------------------------------------\u001b[0m",
      "\u001b[1;31mTypeError\u001b[0m                                 Traceback (most recent call last)",
      "Cell \u001b[1;32mIn[24], line 1\u001b[0m\n\u001b[1;32m----> 1\u001b[0m \u001b[43mnumList\u001b[49m\u001b[43m \u001b[49m\u001b[38;5;241;43m*\u001b[39;49m\u001b[38;5;241;43m=\u001b[39;49m\u001b[43m \u001b[49m\u001b[38;5;241;43m2.5\u001b[39;49m\n",
      "\u001b[1;31mTypeError\u001b[0m: can't multiply sequence by non-int of type 'float'"
     ]
    }
   ],
   "source": [
    "numList *= 2.5"
   ]
  },
  {
   "cell_type": "code",
   "execution_count": 33,
   "id": "c8a69435-67ed-41cd-a201-59021a2887a1",
   "metadata": {},
   "outputs": [
    {
     "data": {
      "text/plain": [
       "False"
      ]
     },
     "execution_count": 33,
     "metadata": {},
     "output_type": "execute_result"
    }
   ],
   "source": [
    "all([0]) #It means all the elements of the list are False, and that is why the return value is False"
   ]
  },
  {
   "cell_type": "code",
   "execution_count": 34,
   "id": "e67802f6-bc7b-4ad5-9c5b-7ca9df797ae1",
   "metadata": {},
   "outputs": [
    {
     "data": {
      "text/plain": [
       "True"
      ]
     },
     "execution_count": 34,
     "metadata": {},
     "output_type": "execute_result"
    }
   ],
   "source": [
    "all([1]) #0 means False, 1 means True"
   ]
  },
  {
   "cell_type": "code",
   "execution_count": 35,
   "id": "cc9f1d13-16b4-4b1f-aac9-6003546a6b83",
   "metadata": {},
   "outputs": [
    {
     "data": {
      "text/plain": [
       "False"
      ]
     },
     "execution_count": 35,
     "metadata": {},
     "output_type": "execute_result"
    }
   ],
   "source": [
    "all([0,1]) #if one 0 means False"
   ]
  },
  {
   "cell_type": "code",
   "execution_count": 36,
   "id": "d1d86052-00df-4c61-a78d-9ef562da473d",
   "metadata": {},
   "outputs": [
    {
     "data": {
      "text/plain": [
       "True"
      ]
     },
     "execution_count": 36,
     "metadata": {},
     "output_type": "execute_result"
    }
   ],
   "source": [
    "all([1,2,3])"
   ]
  },
  {
   "cell_type": "code",
   "execution_count": 37,
   "id": "1b3c279c-ec0a-43e7-a296-aa7b67004a1c",
   "metadata": {},
   "outputs": [
    {
     "data": {
      "text/plain": [
       "False"
      ]
     },
     "execution_count": 37,
     "metadata": {},
     "output_type": "execute_result"
    }
   ],
   "source": [
    "any([0])"
   ]
  },
  {
   "cell_type": "code",
   "execution_count": 38,
   "id": "90aef87b-1191-47b6-96c0-7db8be1be647",
   "metadata": {},
   "outputs": [
    {
     "data": {
      "text/plain": [
       "True"
      ]
     },
     "execution_count": 38,
     "metadata": {},
     "output_type": "execute_result"
    }
   ],
   "source": [
    "any([1])"
   ]
  },
  {
   "cell_type": "code",
   "execution_count": 39,
   "id": "cfae15b6-82b1-481c-b61e-1a434987905e",
   "metadata": {},
   "outputs": [
    {
     "data": {
      "text/plain": [
       "True"
      ]
     },
     "execution_count": 39,
     "metadata": {},
     "output_type": "execute_result"
    }
   ],
   "source": [
    "any([0,1])"
   ]
  },
  {
   "cell_type": "code",
   "execution_count": 40,
   "id": "59bdf4d1-bdfc-48ad-8978-5ee0a5dbf62e",
   "metadata": {},
   "outputs": [
    {
     "data": {
      "text/plain": [
       "True"
      ]
     },
     "execution_count": 40,
     "metadata": {},
     "output_type": "execute_result"
    }
   ],
   "source": [
    "any(numList)"
   ]
  },
  {
   "cell_type": "code",
   "execution_count": 41,
   "id": "e35c97a8-26cd-47de-b5a0-b6950cf339bd",
   "metadata": {},
   "outputs": [],
   "source": [
    "#slicing operations on List - listname[startIndex : endIndex : stepSize] \n",
    "#Remember end_index always considers end_index-1"
   ]
  },
  {
   "cell_type": "code",
   "execution_count": 25,
   "id": "c0df6e0f-4f51-471e-8569-823ce44c72d5",
   "metadata": {},
   "outputs": [
    {
     "data": {
      "text/plain": [
       "5"
      ]
     },
     "execution_count": 25,
     "metadata": {},
     "output_type": "execute_result"
    }
   ],
   "source": [
    "food = ['pizza','pasta','panipuri','sizzler','pizza']\n",
    "len(food)"
   ]
  },
  {
   "cell_type": "code",
   "execution_count": 82,
   "id": "88a9c173-694d-4570-99e7-aefc22a5f3e8",
   "metadata": {},
   "outputs": [
    {
     "data": {
      "text/plain": [
       "['pizza', 'pasta', 'panipuri', 'sizzler', 'pizza']"
      ]
     },
     "execution_count": 82,
     "metadata": {},
     "output_type": "execute_result"
    }
   ],
   "source": [
    "food"
   ]
  },
  {
   "cell_type": "code",
   "execution_count": 83,
   "id": "e06ee19e-4af9-41ff-b131-fcff491b5762",
   "metadata": {},
   "outputs": [
    {
     "data": {
      "text/plain": [
       "['pizza', 'pasta', 'panipuri', 'sizzler']"
      ]
     },
     "execution_count": 83,
     "metadata": {},
     "output_type": "execute_result"
    }
   ],
   "source": [
    "food[0:4] #it will list elements starting from index 0 to 3"
   ]
  },
  {
   "cell_type": "code",
   "execution_count": 84,
   "id": "05906a26-38fb-47f1-88ed-4089ea4d223f",
   "metadata": {},
   "outputs": [
    {
     "data": {
      "text/plain": [
       "['pizza', 'pasta', 'panipuri', 'sizzler', 'pizza']"
      ]
     },
     "execution_count": 84,
     "metadata": {},
     "output_type": "execute_result"
    }
   ],
   "source": [
    "food[0:5]"
   ]
  },
  {
   "cell_type": "code",
   "execution_count": 85,
   "id": "e0873139-563f-4c94-85f4-b4b38de68007",
   "metadata": {},
   "outputs": [
    {
     "data": {
      "text/plain": [
       "[]"
      ]
     },
     "execution_count": 85,
     "metadata": {},
     "output_type": "execute_result"
    }
   ],
   "source": [
    "food[7:]"
   ]
  },
  {
   "cell_type": "code",
   "execution_count": 86,
   "id": "95f4e666-32e8-4a3c-aa48-d18065b1a3fb",
   "metadata": {},
   "outputs": [
    {
     "data": {
      "text/plain": [
       "['pasta', 'panipuri', 'sizzler', 'pizza']"
      ]
     },
     "execution_count": 86,
     "metadata": {},
     "output_type": "execute_result"
    }
   ],
   "source": [
    "food[1:]"
   ]
  },
  {
   "cell_type": "code",
   "execution_count": 87,
   "id": "93135ad9-178f-4143-8daa-b0af28b8fd94",
   "metadata": {},
   "outputs": [
    {
     "data": {
      "text/plain": [
       "['pizza']"
      ]
     },
     "execution_count": 87,
     "metadata": {},
     "output_type": "execute_result"
    }
   ],
   "source": [
    "food[4:5]"
   ]
  },
  {
   "cell_type": "code",
   "execution_count": 88,
   "id": "94d4b36b-682b-4964-a3e4-08f493e5e8e3",
   "metadata": {},
   "outputs": [
    {
     "data": {
      "text/plain": [
       "['pizza', 'pasta', 'panipuri']"
      ]
     },
     "execution_count": 88,
     "metadata": {},
     "output_type": "execute_result"
    }
   ],
   "source": [
    "food[:3]"
   ]
  },
  {
   "cell_type": "code",
   "execution_count": 89,
   "id": "d3d7d317-8c98-4135-94d5-f6db040c5b74",
   "metadata": {},
   "outputs": [
    {
     "data": {
      "text/plain": [
       "['sizzler', 'pizza']"
      ]
     },
     "execution_count": 89,
     "metadata": {},
     "output_type": "execute_result"
    }
   ],
   "source": [
    "food[3:]"
   ]
  },
  {
   "cell_type": "code",
   "execution_count": 90,
   "id": "be12619b-48c6-4c7a-9e4f-ba2f0f30c689",
   "metadata": {},
   "outputs": [
    {
     "data": {
      "text/plain": [
       "['pizza']"
      ]
     },
     "execution_count": 90,
     "metadata": {},
     "output_type": "execute_result"
    }
   ],
   "source": [
    "food[0:-4] #['pizza', 'pasta', 'panipuri', 'sizzler', 'pizza']"
   ]
  },
  {
   "cell_type": "code",
   "execution_count": 91,
   "id": "1929f478-c625-45bb-90d5-3b4b3deacea9",
   "metadata": {},
   "outputs": [
    {
     "data": {
      "text/plain": [
       "['pasta', 'panipuri', 'sizzler']"
      ]
     },
     "execution_count": 91,
     "metadata": {},
     "output_type": "execute_result"
    }
   ],
   "source": [
    "food[-4:-1]"
   ]
  },
  {
   "cell_type": "code",
   "execution_count": 92,
   "id": "65925d5f-b0b7-48cd-bd11-c333af409f9e",
   "metadata": {},
   "outputs": [
    {
     "data": {
      "text/plain": [
       "[]"
      ]
     },
     "execution_count": 92,
     "metadata": {},
     "output_type": "execute_result"
    }
   ],
   "source": [
    "food[-2:-4] #second last to fourth last position in the list \n",
    "#o/p [] because start index is after the end index"
   ]
  },
  {
   "cell_type": "code",
   "execution_count": 93,
   "id": "74d01cec-b856-46b3-b99a-255d598a5120",
   "metadata": {},
   "outputs": [
    {
     "data": {
      "text/plain": [
       "['pizza', 'panipuri', 'pizza']"
      ]
     },
     "execution_count": 93,
     "metadata": {},
     "output_type": "execute_result"
    }
   ],
   "source": [
    "food[::2] #every alternate element in the list starting from index 0"
   ]
  },
  {
   "cell_type": "code",
   "execution_count": 94,
   "id": "0c710e89-0c83-4a81-ade2-5a2e1a7d3665",
   "metadata": {},
   "outputs": [
    {
     "data": {
      "text/plain": [
       "['pizza', 'panipuri']"
      ]
     },
     "execution_count": 94,
     "metadata": {},
     "output_type": "execute_result"
    }
   ],
   "source": [
    "food[0:4:2]"
   ]
  },
  {
   "cell_type": "code",
   "execution_count": 95,
   "id": "aa149e36-a9e7-4f9b-b3f2-c72634b44472",
   "metadata": {},
   "outputs": [
    {
     "data": {
      "text/plain": [
       "['panipuri']"
      ]
     },
     "execution_count": 95,
     "metadata": {},
     "output_type": "execute_result"
    }
   ],
   "source": [
    "food[2:4:2]"
   ]
  },
  {
   "cell_type": "code",
   "execution_count": 96,
   "id": "bb94a957-e04a-4098-80dd-f045e12344e1",
   "metadata": {},
   "outputs": [
    {
     "data": {
      "text/plain": [
       "['pizza', 'sizzler']"
      ]
     },
     "execution_count": 96,
     "metadata": {},
     "output_type": "execute_result"
    }
   ],
   "source": [
    "food[0:4:3]"
   ]
  },
  {
   "cell_type": "code",
   "execution_count": 97,
   "id": "7a737750-f10a-44bc-bef1-fef3d0724520",
   "metadata": {},
   "outputs": [
    {
     "data": {
      "text/plain": [
       "['pizza', 'sizzler', 'panipuri', 'pasta', 'pizza']"
      ]
     },
     "execution_count": 97,
     "metadata": {},
     "output_type": "execute_result"
    }
   ],
   "source": [
    "food[::-1]"
   ]
  },
  {
   "cell_type": "code",
   "execution_count": 98,
   "id": "62d9d54f-0164-4a71-87da-e743646ee290",
   "metadata": {},
   "outputs": [
    {
     "data": {
      "text/plain": [
       "['panipuri', 'pasta']"
      ]
     },
     "execution_count": 98,
     "metadata": {},
     "output_type": "execute_result"
    }
   ],
   "source": [
    "food[2:0:-1] #['pizza', 'pasta', 'panipuri', 'sizzler', 'pizza']"
   ]
  },
  {
   "cell_type": "code",
   "execution_count": 99,
   "id": "b3dea4a5-4bc1-4686-b817-e7653f3a8268",
   "metadata": {},
   "outputs": [
    {
     "data": {
      "text/plain": [
       "['pizza', 'sizzler', 'panipuri']"
      ]
     },
     "execution_count": 99,
     "metadata": {},
     "output_type": "execute_result"
    }
   ],
   "source": [
    "food[4:1:-1]"
   ]
  },
  {
   "cell_type": "code",
   "execution_count": 100,
   "id": "723d84b2-3c29-49cf-b92f-d97c8a3a5212",
   "metadata": {},
   "outputs": [
    {
     "data": {
      "text/plain": [
       "[]"
      ]
     },
     "execution_count": 100,
     "metadata": {},
     "output_type": "execute_result"
    }
   ],
   "source": [
    "food[-4:1:-1]"
   ]
  },
  {
   "cell_type": "code",
   "execution_count": 101,
   "id": "8053150e-7404-4c8c-8200-d644cf28ae71",
   "metadata": {},
   "outputs": [
    {
     "data": {
      "text/plain": [
       "['pizza', 'panipuri', 'pizza']"
      ]
     },
     "execution_count": 101,
     "metadata": {},
     "output_type": "execute_result"
    }
   ],
   "source": [
    "food[::-2]"
   ]
  },
  {
   "cell_type": "code",
   "execution_count": 114,
   "id": "a5c638a0-59cc-4cbd-8ed2-bbe5270be7ba",
   "metadata": {},
   "outputs": [],
   "source": [
    "food[5:-1]=['Brownie','cake']"
   ]
  },
  {
   "cell_type": "code",
   "execution_count": 117,
   "id": "508b6de8-a5e8-42a5-b032-176c41211c88",
   "metadata": {},
   "outputs": [
    {
     "data": {
      "text/plain": [
       "['pizza', 'pasta', 'panipuri', 'sizzler', 'pizza', 'Brownie', 'cake']"
      ]
     },
     "execution_count": 117,
     "metadata": {},
     "output_type": "execute_result"
    }
   ],
   "source": [
    "food"
   ]
  },
  {
   "cell_type": "code",
   "execution_count": 65,
   "id": "cfaa5bbf-0998-4527-bffd-bda2d804042b",
   "metadata": {},
   "outputs": [
    {
     "data": {
      "text/plain": [
       "True"
      ]
     },
     "execution_count": 65,
     "metadata": {},
     "output_type": "execute_result"
    }
   ],
   "source": [
    "'cake' in food"
   ]
  },
  {
   "cell_type": "code",
   "execution_count": 66,
   "id": "8b2491c8-8479-45b1-8e67-eb0d3206b4f4",
   "metadata": {},
   "outputs": [
    {
     "data": {
      "text/plain": [
       "'Brownie'"
      ]
     },
     "execution_count": 66,
     "metadata": {},
     "output_type": "execute_result"
    }
   ],
   "source": [
    "food.pop(-2)"
   ]
  },
  {
   "cell_type": "code",
   "execution_count": 67,
   "id": "b4e315a0-232f-4c3e-a876-a03d5cd465ee",
   "metadata": {},
   "outputs": [
    {
     "data": {
      "text/plain": [
       "False"
      ]
     },
     "execution_count": 67,
     "metadata": {},
     "output_type": "execute_result"
    }
   ],
   "source": [
    "'Brownie' in food"
   ]
  },
  {
   "cell_type": "code",
   "execution_count": 68,
   "id": "77986fb0-505f-48b2-b5e4-9986092ee803",
   "metadata": {},
   "outputs": [
    {
     "ename": "NameError",
     "evalue": "name 'food' is not defined",
     "output_type": "error",
     "traceback": [
      "\u001b[1;31m---------------------------------------------------------------------------\u001b[0m",
      "\u001b[1;31mNameError\u001b[0m                                 Traceback (most recent call last)",
      "Cell \u001b[1;32mIn[68], line 6\u001b[0m\n\u001b[0;32m      4\u001b[0m newlist \u001b[38;5;241m=\u001b[39m copy\u001b[38;5;241m.\u001b[39mdeepcopy(food)\n\u001b[0;32m      5\u001b[0m \u001b[38;5;28;01mdel\u001b[39;00m food \u001b[38;5;66;03m#it will remove food list but won't affect newlist\u001b[39;00m\n\u001b[1;32m----> 6\u001b[0m \u001b[38;5;28mprint\u001b[39m(\u001b[43mfood\u001b[49m) \n",
      "\u001b[1;31mNameError\u001b[0m: name 'food' is not defined"
     ]
    }
   ],
   "source": [
    "#deep copy\n",
    "\n",
    "import copy\n",
    "newlist = copy.deepcopy(food)\n",
    "del food #it will remove food list but won't affect newlist\n",
    "print(food) "
   ]
  },
  {
   "cell_type": "code",
   "execution_count": 69,
   "id": "6b9b8e7a-3d18-4aff-9b99-b2981f1f4fbf",
   "metadata": {},
   "outputs": [
    {
     "name": "stdout",
     "output_type": "stream",
     "text": [
      "['pizza', 'pasta', 'panipuri', 'sizzler', 'pizza', 'cake']\n"
     ]
    }
   ],
   "source": [
    "print(newlist)"
   ]
  },
  {
   "cell_type": "code",
   "execution_count": 70,
   "id": "6e37ab7d-60d0-44a3-a75f-02f090e12c80",
   "metadata": {},
   "outputs": [
    {
     "name": "stdout",
     "output_type": "stream",
     "text": [
      "['pasta', 'panipuri', 'sizzler', 'pizza', 'cake']\n",
      "['pasta', 'panipuri', 'sizzler', 'pizza', 'cake']\n"
     ]
    }
   ],
   "source": [
    "#shallow copy - If you delete anything in original copy, it will reflect in shallow copy as well and vice versa\n",
    "\n",
    "nlist = newlist #first way\n",
    "#second way copy.copy() \n",
    "\n",
    "newlist.remove('pizza')\n",
    "print(newlist)\n",
    "print(nlist)"
   ]
  },
  {
   "cell_type": "code",
   "execution_count": 71,
   "id": "46b373b4-5346-4d48-98cc-275360c8b940",
   "metadata": {},
   "outputs": [
    {
     "name": "stdout",
     "output_type": "stream",
     "text": [
      "[1, 2, [3, 4], 5]\n",
      "[1, 2, [3, 4], 5]\n",
      "[1, 2, [3, 4], 5, 10]\n",
      "[1, 2, [3, 4], 5]\n",
      "[1, 2, [50, 4], 5, 10]\n",
      "[1, 2, [50, 4], 5]\n"
     ]
    }
   ],
   "source": [
    "# importing \"copy\" for copy operations\n",
    "#shallow copy means one level deep copy\n",
    "\n",
    "import copy\n",
    " \n",
    "# initializing list 1\n",
    "l1 = [1, 2, [3,4], 5]\n",
    " \n",
    "# using copy to shallow copy\n",
    "l2 = copy.copy(l1)\n",
    "print(l1)\n",
    "print(l2)\n",
    "l1.append(10)\n",
    "print(l1)\n",
    "print(l2)\n",
    "l1[2][0]=50 #when you modify the child object in l1, the modification will be \n",
    "#reflected in l2 also and vice versa\n",
    "print(l1)\n",
    "print(l2)"
   ]
  },
  {
   "cell_type": "code",
   "execution_count": 72,
   "id": "f99aa72e-e22d-4499-85fc-c9d2ea489b94",
   "metadata": {},
   "outputs": [
    {
     "name": "stdout",
     "output_type": "stream",
     "text": [
      "1\n",
      "8\n",
      "27\n",
      "64\n"
     ]
    }
   ],
   "source": [
    "numbers = [1,2,3,4]\n",
    "for num in numbers:\n",
    "    q = num ** 3\n",
    "    print(q)"
   ]
  },
  {
   "cell_type": "code",
   "execution_count": 73,
   "id": "ca97596c-b0fb-4712-b681-d0dad599d495",
   "metadata": {},
   "outputs": [
    {
     "name": "stdout",
     "output_type": "stream",
     "text": [
      "1\n",
      "2\n",
      "3\n",
      "4\n",
      "no more items\n"
     ]
    }
   ],
   "source": [
    "for num in numbers:\n",
    "    print(num)\n",
    "else:\n",
    "    print(\"no more items\")"
   ]
  },
  {
   "cell_type": "code",
   "execution_count": 74,
   "id": "2dc75b8f-0e47-47b1-9966-5b9199840399",
   "metadata": {},
   "outputs": [
    {
     "name": "stdout",
     "output_type": "stream",
     "text": [
      "1\n",
      "2\n",
      "3\n"
     ]
    }
   ],
   "source": [
    "for num in numbers:\n",
    "    if num>3:\n",
    "        break;\n",
    "    print(num)\n",
    "else:\n",
    "    print(\"no more items\")"
   ]
  },
  {
   "cell_type": "code",
   "execution_count": 75,
   "id": "419d76d9-b668-4745-b341-448c273965e8",
   "metadata": {},
   "outputs": [
    {
     "name": "stdout",
     "output_type": "stream",
     "text": [
      "sublist\n",
      "[1, 'nootan']\n",
      "[2, 'neha']\n",
      "\n",
      " print each element\n",
      "\n",
      "1\n",
      "nootan\n",
      "2\n",
      "neha\n"
     ]
    }
   ],
   "source": [
    "emp = [[1,'nootan'],[2,'neha']]\n",
    "print(\"sublist\")\n",
    "for sublist in emp:\n",
    "    print(sublist)\n",
    "print(\"\\n print each element\\n\")\n",
    "for sublist in emp:\n",
    "    for data in sublist:\n",
    "        print(data)"
   ]
  },
  {
   "cell_type": "code",
   "execution_count": 76,
   "id": "8128a5d5-d284-46e1-bbd4-05ae7450ca18",
   "metadata": {},
   "outputs": [
    {
     "name": "stdout",
     "output_type": "stream",
     "text": [
      "red guava\n",
      "red apple\n",
      "green guava\n",
      "green apple\n"
     ]
    }
   ],
   "source": [
    "color = ['red','green']\n",
    "fruit = ['guava','apple']\n",
    "\n",
    "for c in color:\n",
    "    for f in fruit:\n",
    "        print(c,f)"
   ]
  },
  {
   "cell_type": "code",
   "execution_count": 77,
   "id": "c9b010a5-902f-496f-bc6b-9f72ee874c65",
   "metadata": {},
   "outputs": [
    {
     "data": {
      "text/plain": [
       "[5, 6, 7, 8, 9]"
      ]
     },
     "execution_count": 77,
     "metadata": {},
     "output_type": "execute_result"
    }
   ],
   "source": [
    "#create list with range\n",
    "a = list(range(5,10,1))\n",
    "a"
   ]
  },
  {
   "cell_type": "code",
   "execution_count": 78,
   "id": "84750c21-78af-48b9-b422-98d9e04ca752",
   "metadata": {},
   "outputs": [
    {
     "data": {
      "text/plain": [
       "[5, 7, 9]"
      ]
     },
     "execution_count": 78,
     "metadata": {},
     "output_type": "execute_result"
    }
   ],
   "source": [
    "b = list(range(5,10,2))\n",
    "b"
   ]
  },
  {
   "cell_type": "code",
   "execution_count": 79,
   "id": "39b8bd1a-983b-4e84-962d-98b60671cd40",
   "metadata": {},
   "outputs": [
    {
     "data": {
      "text/plain": [
       "[-2, -4, -6, -8, -10, -12, -14, -16, -18]"
      ]
     },
     "execution_count": 79,
     "metadata": {},
     "output_type": "execute_result"
    }
   ],
   "source": [
    "c = list(range(-2,-20,-2))\n",
    "c"
   ]
  },
  {
   "cell_type": "code",
   "execution_count": null,
   "id": "3ec0bcba-9116-470a-8029-f899af115764",
   "metadata": {},
   "outputs": [],
   "source": []
  }
 ],
 "metadata": {
  "kernelspec": {
   "display_name": "Python 3 (ipykernel)",
   "language": "python",
   "name": "python3"
  },
  "language_info": {
   "codemirror_mode": {
    "name": "ipython",
    "version": 3
   },
   "file_extension": ".py",
   "mimetype": "text/x-python",
   "name": "python",
   "nbconvert_exporter": "python",
   "pygments_lexer": "ipython3",
   "version": "3.12.0"
  }
 },
 "nbformat": 4,
 "nbformat_minor": 5
}
