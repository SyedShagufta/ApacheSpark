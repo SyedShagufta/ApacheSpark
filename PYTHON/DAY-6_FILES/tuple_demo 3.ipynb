{
 "cells": [
  {
   "cell_type": "code",
   "execution_count": 1,
   "id": "967bb648-6771-4546-b623-ef25279db603",
   "metadata": {},
   "outputs": [],
   "source": [
    "empty_tuple=()"
   ]
  },
  {
   "cell_type": "code",
   "execution_count": 2,
   "id": "6c91f7e4-6278-41f4-81f9-e40e603c178f",
   "metadata": {},
   "outputs": [
    {
     "data": {
      "text/plain": [
       "tuple"
      ]
     },
     "execution_count": 2,
     "metadata": {},
     "output_type": "execute_result"
    }
   ],
   "source": [
    "type(empty_tuple)"
   ]
  },
  {
   "cell_type": "code",
   "execution_count": 3,
   "id": "38748924-2f55-49f3-b92c-51adf269be8b",
   "metadata": {},
   "outputs": [
    {
     "name": "stdout",
     "output_type": "stream",
     "text": [
      "<class 'tuple'>\n"
     ]
    }
   ],
   "source": [
    "print(type(empty_tuple))"
   ]
  },
  {
   "cell_type": "code",
   "execution_count": 4,
   "id": "aed2bd5c-1d66-48f0-bce9-544c9872d192",
   "metadata": {},
   "outputs": [
    {
     "name": "stdout",
     "output_type": "stream",
     "text": [
      "(1, 2, 3) ('a', 'b', 'c')\n"
     ]
    }
   ],
   "source": [
    "int_tuple = (1,2,3)\n",
    "str_tuple = ('a','b','c')\n",
    "print(int_tuple,str_tuple)"
   ]
  },
  {
   "cell_type": "code",
   "execution_count": 5,
   "id": "edf5dfce-9593-4868-96f0-d14510a77bc6",
   "metadata": {},
   "outputs": [
    {
     "data": {
      "text/plain": [
       "(1, 2, 3, 'a', 'b', 'c')"
      ]
     },
     "execution_count": 5,
     "metadata": {},
     "output_type": "execute_result"
    }
   ],
   "source": [
    "comb_tuple = int_tuple + str_tuple\n",
    "comb_tuple"
   ]
  },
  {
   "cell_type": "code",
   "execution_count": 6,
   "id": "efd3fbf9-5e9f-40ba-9c4c-90cd338568fc",
   "metadata": {},
   "outputs": [
    {
     "name": "stdout",
     "output_type": "stream",
     "text": [
      "('a', 'b', 'c', 'a', 'b', 'c', 'a', 'b', 'c')\n"
     ]
    }
   ],
   "source": [
    "a = str_tuple * 3\n",
    "print(a)"
   ]
  },
  {
   "cell_type": "code",
   "execution_count": 7,
   "id": "f57f46a3-513a-47fb-9b2e-227b5e8feb44",
   "metadata": {},
   "outputs": [
    {
     "data": {
      "text/plain": [
       "(1, 'nootan', 9.9)"
      ]
     },
     "execution_count": 7,
     "metadata": {},
     "output_type": "execute_result"
    }
   ],
   "source": [
    "mix_tuple = (1,'nootan',9.9)\n",
    "mix_tuple"
   ]
  },
  {
   "cell_type": "code",
   "execution_count": 8,
   "id": "749f7b5b-0d7f-484c-923e-d61cf7c1ff4e",
   "metadata": {},
   "outputs": [
    {
     "data": {
      "text/plain": [
       "(1, 'nootan', 10)"
      ]
     },
     "execution_count": 8,
     "metadata": {},
     "output_type": "execute_result"
    }
   ],
   "source": [
    "t1 = 1, 'nootan', 10 #this is also tuple\n",
    "t1"
   ]
  },
  {
   "cell_type": "code",
   "execution_count": 9,
   "id": "66ad73e0-432c-4ea5-aef3-c44c44a9e81f",
   "metadata": {},
   "outputs": [
    {
     "name": "stdout",
     "output_type": "stream",
     "text": [
      "1 nootan 10\n"
     ]
    }
   ],
   "source": [
    "a,b,c=t1\n",
    "print(a,b,c)"
   ]
  },
  {
   "cell_type": "code",
   "execution_count": 10,
   "id": "2d91704b-54b1-4df7-a2a2-fcc1cb247aa2",
   "metadata": {},
   "outputs": [
    {
     "data": {
      "text/plain": [
       "(1, 2, 3, (4, 5, 6))"
      ]
     },
     "execution_count": 10,
     "metadata": {},
     "output_type": "execute_result"
    }
   ],
   "source": [
    "nest_tuple = (1,2,3,(4,5,6))\n",
    "nest_tuple"
   ]
  },
  {
   "cell_type": "code",
   "execution_count": 11,
   "id": "7085d495-438d-4470-a327-48321d0221e6",
   "metadata": {},
   "outputs": [
    {
     "data": {
      "text/plain": [
       "1"
      ]
     },
     "execution_count": 11,
     "metadata": {},
     "output_type": "execute_result"
    }
   ],
   "source": [
    "nest_tuple[0]"
   ]
  },
  {
   "cell_type": "code",
   "execution_count": 12,
   "id": "67f2dded-0c78-4426-9355-bfcd6d92d35c",
   "metadata": {},
   "outputs": [
    {
     "data": {
      "text/plain": [
       "(4, 5, 6)"
      ]
     },
     "execution_count": 12,
     "metadata": {},
     "output_type": "execute_result"
    }
   ],
   "source": [
    "nest_tuple[3]"
   ]
  },
  {
   "cell_type": "code",
   "execution_count": 13,
   "id": "920d0a9b-4c32-44a0-83dc-d291b682c7e6",
   "metadata": {},
   "outputs": [
    {
     "data": {
      "text/plain": [
       "4"
      ]
     },
     "execution_count": 13,
     "metadata": {},
     "output_type": "execute_result"
    }
   ],
   "source": [
    "nest_tuple[3][0]"
   ]
  },
  {
   "cell_type": "code",
   "execution_count": 14,
   "id": "af482ce9-a01f-4ecc-8c32-4aded642bb37",
   "metadata": {},
   "outputs": [
    {
     "data": {
      "text/plain": [
       "('A', 'C', 'C', 'E', 'N', 'T', 'U', 'R', 'E')"
      ]
     },
     "execution_count": 14,
     "metadata": {},
     "output_type": "execute_result"
    }
   ],
   "source": [
    "t1 = ('A','C','C','E','N','T','U','R','E')\n",
    "t1"
   ]
  },
  {
   "cell_type": "code",
   "execution_count": 15,
   "id": "0f0c3c71-0022-4b11-a38d-1d520676230a",
   "metadata": {},
   "outputs": [
    {
     "data": {
      "text/plain": [
       "('C', 'C', 'E', 'N', 'T', 'U', 'R', 'E')"
      ]
     },
     "execution_count": 15,
     "metadata": {},
     "output_type": "execute_result"
    }
   ],
   "source": [
    "t1[1:]"
   ]
  },
  {
   "cell_type": "code",
   "execution_count": 16,
   "id": "c4795794-be18-40cc-8a92-413cd6814f3b",
   "metadata": {},
   "outputs": [
    {
     "data": {
      "text/plain": [
       "('C', 'E')"
      ]
     },
     "execution_count": 16,
     "metadata": {},
     "output_type": "execute_result"
    }
   ],
   "source": [
    "t1[2:4]"
   ]
  },
  {
   "cell_type": "code",
   "execution_count": 17,
   "id": "5f090d42-cebb-4cec-9f7d-2329cd527202",
   "metadata": {},
   "outputs": [
    {
     "data": {
      "text/plain": [
       "('A', 'C', 'N', 'U', 'E')"
      ]
     },
     "execution_count": 17,
     "metadata": {},
     "output_type": "execute_result"
    }
   ],
   "source": [
    "t1[::2]"
   ]
  },
  {
   "cell_type": "code",
   "execution_count": 18,
   "id": "6182e3e1-f1e5-4932-8632-f7dbcbf1ef77",
   "metadata": {},
   "outputs": [
    {
     "data": {
      "text/plain": [
       "'E'"
      ]
     },
     "execution_count": 18,
     "metadata": {},
     "output_type": "execute_result"
    }
   ],
   "source": [
    "t1[-1]"
   ]
  },
  {
   "cell_type": "code",
   "execution_count": 19,
   "id": "8ba3b0b9-323c-443e-ab45-851f4bb1a2d9",
   "metadata": {},
   "outputs": [
    {
     "data": {
      "text/plain": [
       "3"
      ]
     },
     "execution_count": 19,
     "metadata": {},
     "output_type": "execute_result"
    }
   ],
   "source": [
    "t1.index('E')"
   ]
  },
  {
   "cell_type": "code",
   "execution_count": 20,
   "id": "d27b6933-8096-4a40-8681-04f66b2c240e",
   "metadata": {},
   "outputs": [
    {
     "name": "stdout",
     "output_type": "stream",
     "text": [
      "True\n"
     ]
    }
   ],
   "source": [
    "print('E' in t1) #check E is present in tuple "
   ]
  },
  {
   "cell_type": "code",
   "execution_count": 21,
   "id": "de4f6a03-0b62-4f93-85d7-c86763efb7c5",
   "metadata": {},
   "outputs": [
    {
     "name": "stdout",
     "output_type": "stream",
     "text": [
      "False\n"
     ]
    }
   ],
   "source": [
    "print('E' not in t1) #check E is not present in tuple"
   ]
  },
  {
   "cell_type": "code",
   "execution_count": 40,
   "id": "87af6d3e-2b9f-4de3-9a5f-74f74beb7112",
   "metadata": {},
   "outputs": [
    {
     "data": {
      "text/plain": [
       "4"
      ]
     },
     "execution_count": 40,
     "metadata": {},
     "output_type": "execute_result"
    }
   ],
   "source": [
    "int_tuple = (1,2,3,4)\n",
    "max(int_tuple)"
   ]
  },
  {
   "cell_type": "code",
   "execution_count": 23,
   "id": "d87b9c18-53db-4355-baaa-eebe4ab8afa3",
   "metadata": {},
   "outputs": [
    {
     "data": {
      "text/plain": [
       "[1, 2, 3, 4]"
      ]
     },
     "execution_count": 23,
     "metadata": {},
     "output_type": "execute_result"
    }
   ],
   "source": [
    "L1 = list(int_tuple)\n",
    "L1"
   ]
  },
  {
   "cell_type": "code",
   "execution_count": 24,
   "id": "25e9f4a9-1ba5-4adb-8d9f-f7ae5eff23f8",
   "metadata": {},
   "outputs": [
    {
     "data": {
      "text/plain": [
       "{1, 2, 3, 4}"
      ]
     },
     "execution_count": 24,
     "metadata": {},
     "output_type": "execute_result"
    }
   ],
   "source": [
    "S1 = set(int_tuple)\n",
    "S1"
   ]
  },
  {
   "cell_type": "code",
   "execution_count": 25,
   "id": "189052ff-d4c0-45ce-aaf3-5f3e68283715",
   "metadata": {},
   "outputs": [
    {
     "ename": "TypeError",
     "evalue": "'tuple' object does not support item assignment",
     "output_type": "error",
     "traceback": [
      "\u001b[1;31m---------------------------------------------------------------------------\u001b[0m",
      "\u001b[1;31mTypeError\u001b[0m                                 Traceback (most recent call last)",
      "Cell \u001b[1;32mIn[25], line 1\u001b[0m\n\u001b[1;32m----> 1\u001b[0m \u001b[43mint_tuple\u001b[49m\u001b[43m[\u001b[49m\u001b[38;5;241;43m1\u001b[39;49m\u001b[43m]\u001b[49m\u001b[38;5;241m=\u001b[39m\u001b[38;5;241m10\u001b[39m\n",
      "\u001b[1;31mTypeError\u001b[0m: 'tuple' object does not support item assignment"
     ]
    }
   ],
   "source": [
    "int_tuple[1]=10"
   ]
  },
  {
   "cell_type": "code",
   "execution_count": 26,
   "id": "ac3b725f-345c-443f-8e87-02e6a3d0b588",
   "metadata": {},
   "outputs": [
    {
     "ename": "TypeError",
     "evalue": "'tuple' object doesn't support item deletion",
     "output_type": "error",
     "traceback": [
      "\u001b[1;31m---------------------------------------------------------------------------\u001b[0m",
      "\u001b[1;31mTypeError\u001b[0m                                 Traceback (most recent call last)",
      "Cell \u001b[1;32mIn[26], line 1\u001b[0m\n\u001b[1;32m----> 1\u001b[0m \u001b[38;5;28;01mdel\u001b[39;00m \u001b[43mt1\u001b[49m\u001b[43m[\u001b[49m\u001b[38;5;241;43m3\u001b[39;49m\u001b[43m]\u001b[49m\n",
      "\u001b[1;31mTypeError\u001b[0m: 'tuple' object doesn't support item deletion"
     ]
    }
   ],
   "source": [
    "del t1[3]"
   ]
  },
  {
   "cell_type": "code",
   "execution_count": 27,
   "id": "7808dd13-91d4-4cb8-ada7-e14aba8dc6d6",
   "metadata": {},
   "outputs": [],
   "source": [
    "del t1"
   ]
  },
  {
   "cell_type": "code",
   "execution_count": 28,
   "id": "ab4469cf-4759-4179-b133-95efde671159",
   "metadata": {},
   "outputs": [
    {
     "ename": "NameError",
     "evalue": "name 't1' is not defined",
     "output_type": "error",
     "traceback": [
      "\u001b[1;31m---------------------------------------------------------------------------\u001b[0m",
      "\u001b[1;31mNameError\u001b[0m                                 Traceback (most recent call last)",
      "Cell \u001b[1;32mIn[28], line 1\u001b[0m\n\u001b[1;32m----> 1\u001b[0m \u001b[43mt1\u001b[49m\n",
      "\u001b[1;31mNameError\u001b[0m: name 't1' is not defined"
     ]
    }
   ],
   "source": [
    "t1"
   ]
  },
  {
   "cell_type": "code",
   "execution_count": 42,
   "id": "068b7866-54ab-45d0-82c1-20ea09a34cf6",
   "metadata": {},
   "outputs": [
    {
     "name": "stdout",
     "output_type": "stream",
     "text": [
      "<zip object at 0x0000025C9F6C4240>\n"
     ]
    }
   ],
   "source": [
    "ta = (1,2,3)\n",
    "tb = ('a','b','c')\n",
    "zipped = zip(ta,tb)\n",
    "print(zipped)"
   ]
  },
  {
   "cell_type": "code",
   "execution_count": 30,
   "id": "77686806-e80a-490f-9887-dec70d9384a5",
   "metadata": {
    "scrolled": true
   },
   "outputs": [
    {
     "name": "stdout",
     "output_type": "stream",
     "text": [
      "((1, 'a'), (2, 'b'), (3, 'c'))\n"
     ]
    }
   ],
   "source": [
    "result = tuple(zipped)\n",
    "print(result)"
   ]
  },
  {
   "cell_type": "code",
   "execution_count": 31,
   "id": "0810a3f8-63ef-4588-b99e-c2a84a19877b",
   "metadata": {},
   "outputs": [
    {
     "name": "stdout",
     "output_type": "stream",
     "text": [
      "(1, 2, 3)\n",
      "('a', 'b', 'c')\n"
     ]
    }
   ],
   "source": [
    "tx,ty = zip(*result)\n",
    "print(tx)\n",
    "print(ty)"
   ]
  },
  {
   "cell_type": "code",
   "execution_count": 32,
   "id": "708a5b9b-3d40-49eb-b6b6-75647359c0b7",
   "metadata": {},
   "outputs": [
    {
     "name": "stdout",
     "output_type": "stream",
     "text": [
      "((1, 'a'), (2, 'b'), (3, 'c'))\n"
     ]
    }
   ],
   "source": [
    "#you can zip list also - every element in a list is tuple\n",
    "l1 = [1,2,3,4]\n",
    "t1 = ('a','b','c')\n",
    "result = tuple(zip(l1,t1))\n",
    "print(result)"
   ]
  },
  {
   "cell_type": "code",
   "execution_count": 33,
   "id": "8d28f31b-b80e-4f93-8ee9-a740fcf8efe0",
   "metadata": {},
   "outputs": [
    {
     "name": "stdout",
     "output_type": "stream",
     "text": [
      "{(1, 'a'), (3, 'c'), (2, 'b')}\n"
     ]
    }
   ],
   "source": [
    "set1 = set(result)\n",
    "print(set1)"
   ]
  },
  {
   "cell_type": "code",
   "execution_count": 34,
   "id": "1e7a53a4-2cae-40ef-8cb0-7d650e964078",
   "metadata": {},
   "outputs": [
    {
     "name": "stdout",
     "output_type": "stream",
     "text": [
      "3\n"
     ]
    }
   ],
   "source": [
    "#count element in a list until element is a tuple\n",
    "list1 = [1,3.5,\"hello\",(10,20),\"hii\",(30,'nootan'),40]\n",
    "count=0\n",
    "for i in list1:\n",
    "    if isinstance(i,tuple):\n",
    "        break\n",
    "    count=count+1\n",
    "print(count)"
   ]
  },
  {
   "cell_type": "code",
   "execution_count": 35,
   "id": "e7974da0-dafc-4737-b416-b0f6f68074f8",
   "metadata": {},
   "outputs": [
    {
     "name": "stdout",
     "output_type": "stream",
     "text": [
      "Before updating : ('apple', 'cherry', 'grapes')\n",
      "After updating : ('apple', 'kiwi', 'grapes')\n"
     ]
    }
   ],
   "source": [
    "x = (\"apple\", \"cherry\", \"grapes\")\n",
    "print(\"Before updating :\",x)\n",
    "y = list(x)\n",
    "y[1] = \"kiwi\"\n",
    "x = tuple(y)\n",
    "print(\"After updating :\" , x)"
   ]
  },
  {
   "cell_type": "code",
   "execution_count": 36,
   "id": "39c06a0b-000a-4ef1-8f1f-76e4b0c00b43",
   "metadata": {},
   "outputs": [
    {
     "name": "stdout",
     "output_type": "stream",
     "text": [
      "[(1, 1), (8, 4), (27, 9), (64, 16), (125, 25)]\n"
     ]
    }
   ],
   "source": [
    "result = [(x**3,x**2) for x in range(1,6)]\n",
    "print(result)"
   ]
  },
  {
   "cell_type": "code",
   "execution_count": null,
   "id": "e8f2f8b2-6349-4e09-804a-20440d2afeb1",
   "metadata": {},
   "outputs": [],
   "source": []
  },
  {
   "cell_type": "code",
   "execution_count": 37,
   "id": "3b0d0d43-96f8-4034-83c6-2b0057a99b7e",
   "metadata": {},
   "outputs": [
    {
     "name": "stdout",
     "output_type": "stream",
     "text": [
      "value of m =  apple\n",
      "value of n =  ['kiwi', 'grapes']\n"
     ]
    }
   ],
   "source": [
    "m,*n = x\n",
    "print(\"value of m = \",m)\n",
    "print(\"value of n = \",n)"
   ]
  },
  {
   "cell_type": "code",
   "execution_count": 38,
   "id": "53db2230-3148-416f-a7a4-cd7c9acd0590",
   "metadata": {},
   "outputs": [
    {
     "data": {
      "text/plain": [
       "('apple', 'cherry', 'grapes', 'banana', 'strawberry')"
      ]
     },
     "execution_count": 38,
     "metadata": {},
     "output_type": "execute_result"
    }
   ],
   "source": [
    "fruit = (\"apple\", \"cherry\", \"grapes\",\"banana\",\"strawberry\")\n",
    "fruit"
   ]
  },
  {
   "cell_type": "code",
   "execution_count": 39,
   "id": "58e5ed08-b059-4ec6-9b92-0cfa9817b939",
   "metadata": {},
   "outputs": [
    {
     "name": "stdout",
     "output_type": "stream",
     "text": [
      "value of m =  apple\n",
      "value of n =  ['cherry', 'grapes', 'banana']\n",
      "value of p =  strawberry\n"
     ]
    }
   ],
   "source": [
    "m,*n,p = fruit\n",
    "print(\"value of m = \",m)\n",
    "print(\"value of n = \",n)\n",
    "print(\"value of p = \",p)"
   ]
  },
  {
   "cell_type": "code",
   "execution_count": null,
   "id": "a0455629-b2e5-4185-aafc-3342926a7ad8",
   "metadata": {},
   "outputs": [],
   "source": []
  }
 ],
 "metadata": {
  "kernelspec": {
   "display_name": "Python 3 (ipykernel)",
   "language": "python",
   "name": "python3"
  },
  "language_info": {
   "codemirror_mode": {
    "name": "ipython",
    "version": 3
   },
   "file_extension": ".py",
   "mimetype": "text/x-python",
   "name": "python",
   "nbconvert_exporter": "python",
   "pygments_lexer": "ipython3",
   "version": "3.12.0"
  }
 },
 "nbformat": 4,
 "nbformat_minor": 5
}
