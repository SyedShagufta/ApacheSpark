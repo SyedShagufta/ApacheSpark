{
 "cells": [
  {
   "cell_type": "markdown",
   "id": "c6685f35-4a40-4ad3-8d1e-05f6cf70b619",
   "metadata": {},
   "source": [
    "strings are immutable - cannot be updated"
   ]
  },
  {
   "cell_type": "code",
   "execution_count": 1,
   "id": "e8fdc780-e38c-4f6d-a599-bdddadce6142",
   "metadata": {},
   "outputs": [
    {
     "name": "stdout",
     "output_type": "stream",
     "text": [
      "world\n"
     ]
    }
   ],
   "source": [
    "print(\"world\")"
   ]
  },
  {
   "cell_type": "code",
   "execution_count": 2,
   "id": "69778e74-8ff8-4cb8-8729-0fe0c9dd5e7f",
   "metadata": {},
   "outputs": [],
   "source": [
    "x = \"pizza\""
   ]
  },
  {
   "cell_type": "code",
   "execution_count": 3,
   "id": "1cc7b550-ffed-44f3-97ce-a1e0dcec903c",
   "metadata": {},
   "outputs": [
    {
     "data": {
      "text/plain": [
       "'p'"
      ]
     },
     "execution_count": 3,
     "metadata": {},
     "output_type": "execute_result"
    }
   ],
   "source": [
    "x[0]"
   ]
  },
  {
   "cell_type": "code",
   "execution_count": 4,
   "id": "e98fc78c-4cef-4fc5-b145-80b3908cb4ff",
   "metadata": {},
   "outputs": [
    {
     "data": {
      "text/plain": [
       "'i'"
      ]
     },
     "execution_count": 4,
     "metadata": {},
     "output_type": "execute_result"
    }
   ],
   "source": [
    "x[1]"
   ]
  },
  {
   "cell_type": "code",
   "execution_count": 5,
   "id": "bf27cb54-9282-4cad-90a9-abfa56ba0fcf",
   "metadata": {},
   "outputs": [
    {
     "ename": "IndexError",
     "evalue": "string index out of range",
     "output_type": "error",
     "traceback": [
      "\u001b[1;31m---------------------------------------------------------------------------\u001b[0m",
      "\u001b[1;31mIndexError\u001b[0m                                Traceback (most recent call last)",
      "Cell \u001b[1;32mIn[5], line 1\u001b[0m\n\u001b[1;32m----> 1\u001b[0m \u001b[43mx\u001b[49m\u001b[43m[\u001b[49m\u001b[38;5;241;43m6\u001b[39;49m\u001b[43m]\u001b[49m \u001b[38;5;66;03m#error \u001b[39;00m\n",
      "\u001b[1;31mIndexError\u001b[0m: string index out of range"
     ]
    }
   ],
   "source": [
    "x[6] #error "
   ]
  },
  {
   "cell_type": "code",
   "execution_count": 6,
   "id": "090abc9e-8d6c-4da8-bc82-be9e5c4044ff",
   "metadata": {},
   "outputs": [
    {
     "ename": "TypeError",
     "evalue": "'str' object does not support item assignment",
     "output_type": "error",
     "traceback": [
      "\u001b[1;31m---------------------------------------------------------------------------\u001b[0m",
      "\u001b[1;31mTypeError\u001b[0m                                 Traceback (most recent call last)",
      "Cell \u001b[1;32mIn[6], line 1\u001b[0m\n\u001b[1;32m----> 1\u001b[0m \u001b[43mx\u001b[49m\u001b[43m[\u001b[49m\u001b[38;5;241;43m0\u001b[39;49m\u001b[43m]\u001b[49m \u001b[38;5;241m=\u001b[39m \u001b[38;5;124m'\u001b[39m\u001b[38;5;124mB\u001b[39m\u001b[38;5;124m'\u001b[39m\n",
      "\u001b[1;31mTypeError\u001b[0m: 'str' object does not support item assignment"
     ]
    }
   ],
   "source": [
    "x[0] = 'B'"
   ]
  },
  {
   "cell_type": "code",
   "execution_count": 7,
   "id": "856f2496-9f37-41e9-93a5-685cdc1d22e6",
   "metadata": {},
   "outputs": [
    {
     "ename": "TypeError",
     "evalue": "'str' object does not support item assignment",
     "output_type": "error",
     "traceback": [
      "\u001b[1;31m---------------------------------------------------------------------------\u001b[0m",
      "\u001b[1;31mTypeError\u001b[0m                                 Traceback (most recent call last)",
      "Cell \u001b[1;32mIn[7], line 1\u001b[0m\n\u001b[1;32m----> 1\u001b[0m \u001b[43mx\u001b[49m\u001b[43m[\u001b[49m\u001b[38;5;241;43m6\u001b[39;49m\u001b[43m]\u001b[49m \u001b[38;5;241m=\u001b[39m \u001b[38;5;124m\"\u001b[39m\u001b[38;5;124mB\u001b[39m\u001b[38;5;124m\"\u001b[39m\n",
      "\u001b[1;31mTypeError\u001b[0m: 'str' object does not support item assignment"
     ]
    }
   ],
   "source": [
    "x[6] = \"B\""
   ]
  },
  {
   "cell_type": "code",
   "execution_count": 8,
   "id": "a470af8e-f239-41b2-8525-7657194722cf",
   "metadata": {},
   "outputs": [],
   "source": [
    "a,b,c,d,e = x"
   ]
  },
  {
   "cell_type": "code",
   "execution_count": 9,
   "id": "ec7e5266-cda0-4152-8b4c-64ac154bdcf1",
   "metadata": {},
   "outputs": [
    {
     "name": "stdout",
     "output_type": "stream",
     "text": [
      "p i z z a\n"
     ]
    }
   ],
   "source": [
    "print(a,b,c,d,e)"
   ]
  },
  {
   "cell_type": "code",
   "execution_count": 10,
   "id": "91798935-0dd1-471b-9904-777de5b90a1f",
   "metadata": {},
   "outputs": [
    {
     "ename": "ValueError",
     "evalue": "too many values to unpack (expected 4)",
     "output_type": "error",
     "traceback": [
      "\u001b[1;31m---------------------------------------------------------------------------\u001b[0m",
      "\u001b[1;31mValueError\u001b[0m                                Traceback (most recent call last)",
      "Cell \u001b[1;32mIn[10], line 1\u001b[0m\n\u001b[1;32m----> 1\u001b[0m a,b,c,d \u001b[38;5;241m=\u001b[39m x\n",
      "\u001b[1;31mValueError\u001b[0m: too many values to unpack (expected 4)"
     ]
    }
   ],
   "source": [
    "a,b,c,d = x"
   ]
  },
  {
   "cell_type": "code",
   "execution_count": 11,
   "id": "ebb8d00c-80ad-40ce-91a4-731a9e0f5b39",
   "metadata": {},
   "outputs": [],
   "source": [
    "a,b,_,_,_ = x"
   ]
  },
  {
   "cell_type": "code",
   "execution_count": 12,
   "id": "95226d10-2343-4167-a652-6b4edc5130a3",
   "metadata": {},
   "outputs": [
    {
     "data": {
      "text/plain": [
       "('p', 'i')"
      ]
     },
     "execution_count": 12,
     "metadata": {},
     "output_type": "execute_result"
    }
   ],
   "source": [
    "a,b"
   ]
  },
  {
   "cell_type": "code",
   "execution_count": 3,
   "id": "357bbc5b-1c50-4752-8014-721ff050e69a",
   "metadata": {},
   "outputs": [
    {
     "name": "stdout",
     "output_type": "stream",
     "text": [
      "p ['i', 'z', 'z'] a\n"
     ]
    }
   ],
   "source": [
    "a,*b,c = x\n",
    "print(a,b,c)"
   ]
  },
  {
   "cell_type": "code",
   "execution_count": 1,
   "id": "f88328e6-1242-4f82-bd94-0410cdd3402f",
   "metadata": {},
   "outputs": [
    {
     "name": "stdin",
     "output_type": "stream",
     "text": [
      "how are you? i am fine\n"
     ]
    },
    {
     "data": {
      "text/plain": [
       "'i am fine'"
      ]
     },
     "execution_count": 1,
     "metadata": {},
     "output_type": "execute_result"
    }
   ],
   "source": [
    "input('how are you?')"
   ]
  },
  {
   "cell_type": "code",
   "execution_count": 16,
   "id": "2365ac6e-1206-4b9c-ae94-75e97a981254",
   "metadata": {},
   "outputs": [
    {
     "name": "stdin",
     "output_type": "stream",
     "text": [
      "how are you? ok\n"
     ]
    },
    {
     "name": "stdout",
     "output_type": "stream",
     "text": [
      "ok\n"
     ]
    }
   ],
   "source": [
    "a = input(\"how are you?\")\n",
    "print(a)"
   ]
  },
  {
   "cell_type": "code",
   "execution_count": 5,
   "id": "47a5fdd1-eb6b-4ab6-9966-dc73c3a78a97",
   "metadata": {},
   "outputs": [
    {
     "name": "stdout",
     "output_type": "stream",
     "text": [
      "I\n",
      "I li\n",
      "Ilk \n",
      "izza\n",
      "I like P\n",
      "ke P\n"
     ]
    }
   ],
   "source": [
    "#strings also support slicing\n",
    "a = 'I like Pizza'\n",
    "print(a[0])\n",
    "print(a[0:4])\n",
    "print(a[0:8:2])\n",
    "print(a[-4:])\n",
    "print(a[:-4])\n",
    "print(a[4:-4])"
   ]
  },
  {
   "cell_type": "code",
   "execution_count": 6,
   "id": "67d9bb41-3c21-4035-89d4-c69dc32564b7",
   "metadata": {},
   "outputs": [
    {
     "name": "stdout",
     "output_type": "stream",
     "text": [
      "True\n",
      "False\n"
     ]
    }
   ],
   "source": [
    "#case sensitivity\n",
    "print(a.startswith('I'))\n",
    "print(a.startswith('i'))"
   ]
  },
  {
   "cell_type": "code",
   "execution_count": 7,
   "id": "7148eb74-41e1-4b5a-b913-fe99c91e21f8",
   "metadata": {},
   "outputs": [
    {
     "name": "stdout",
     "output_type": "stream",
     "text": [
      "False\n",
      "True\n"
     ]
    }
   ],
   "source": [
    "print(a.endswith('pizza'))\n",
    "print(a.endswith('Pizza'))"
   ]
  },
  {
   "cell_type": "code",
   "execution_count": 9,
   "id": "5f965ad0-9a34-4c1b-b9aa-b61fad5c3b67",
   "metadata": {},
   "outputs": [
    {
     "data": {
      "text/plain": [
       "2"
      ]
     },
     "execution_count": 9,
     "metadata": {},
     "output_type": "execute_result"
    }
   ],
   "source": [
    "a.count('i')"
   ]
  },
  {
   "cell_type": "code",
   "execution_count": 6,
   "id": "ce377841-fe10-4596-9e22-236669742def",
   "metadata": {},
   "outputs": [
    {
     "data": {
      "text/plain": [
       "'i like pizza'"
      ]
     },
     "execution_count": 6,
     "metadata": {},
     "output_type": "execute_result"
    }
   ],
   "source": [
    "lower_a = a.lower()\n",
    "lower_a"
   ]
  },
  {
   "cell_type": "code",
   "execution_count": 11,
   "id": "8cfc02f7-86c6-408e-8eee-87b633931272",
   "metadata": {},
   "outputs": [
    {
     "data": {
      "text/plain": [
       "'I LIKE PIZZA'"
      ]
     },
     "execution_count": 11,
     "metadata": {},
     "output_type": "execute_result"
    }
   ],
   "source": [
    "upper_a = a.upper()\n",
    "upper_a"
   ]
  },
  {
   "cell_type": "code",
   "execution_count": 8,
   "id": "850522fd-38d6-413a-8675-f8e22061a817",
   "metadata": {},
   "outputs": [
    {
     "data": {
      "text/plain": [
       "3"
      ]
     },
     "execution_count": 8,
     "metadata": {},
     "output_type": "execute_result"
    }
   ],
   "source": [
    "upper_a.count('I')"
   ]
  },
  {
   "cell_type": "code",
   "execution_count": 9,
   "id": "7819b77f-61fa-48b9-9166-2a8cda8ded78",
   "metadata": {},
   "outputs": [
    {
     "data": {
      "text/plain": [
       "False"
      ]
     },
     "execution_count": 9,
     "metadata": {},
     "output_type": "execute_result"
    }
   ],
   "source": [
    "upper_a == lower_a"
   ]
  },
  {
   "cell_type": "code",
   "execution_count": 14,
   "id": "1bc7989c-15e7-4148-a257-d47bc2a66a55",
   "metadata": {},
   "outputs": [
    {
     "data": {
      "text/plain": [
       "8"
      ]
     },
     "execution_count": 14,
     "metadata": {},
     "output_type": "execute_result"
    }
   ],
   "source": [
    "upper_a.find('I',7,11) #return index position\n",
    "#upper_a.find('I') #return index position "
   ]
  },
  {
   "cell_type": "code",
   "execution_count": 28,
   "id": "322a53ea-70bf-4e08-af49-6899e276c89c",
   "metadata": {},
   "outputs": [
    {
     "data": {
      "text/plain": [
       "0"
      ]
     },
     "execution_count": 28,
     "metadata": {},
     "output_type": "execute_result"
    }
   ],
   "source": [
    "upper_a.index('I') #return index position"
   ]
  },
  {
   "cell_type": "code",
   "execution_count": 31,
   "id": "21d1dadb-9861-4826-8a1f-5de96ab86562",
   "metadata": {},
   "outputs": [
    {
     "ename": "ValueError",
     "evalue": "substring not found",
     "output_type": "error",
     "traceback": [
      "\u001b[1;31m---------------------------------------------------------------------------\u001b[0m",
      "\u001b[1;31mValueError\u001b[0m                                Traceback (most recent call last)",
      "Cell \u001b[1;32mIn[31], line 1\u001b[0m\n\u001b[1;32m----> 1\u001b[0m \u001b[43mupper_a\u001b[49m\u001b[38;5;241;43m.\u001b[39;49m\u001b[43mindex\u001b[49m\u001b[43m(\u001b[49m\u001b[38;5;124;43m'\u001b[39;49m\u001b[38;5;124;43mC\u001b[39;49m\u001b[38;5;124;43m'\u001b[39;49m\u001b[43m)\u001b[49m \u001b[38;5;66;03m#if element is not present, it gives value error\u001b[39;00m\n",
      "\u001b[1;31mValueError\u001b[0m: substring not found"
     ]
    }
   ],
   "source": [
    "upper_a.index('C') #if element is not present, it gives value error"
   ]
  },
  {
   "cell_type": "code",
   "execution_count": 32,
   "id": "71ecc81d-e2c1-44b5-8974-09d7903dc356",
   "metadata": {},
   "outputs": [
    {
     "data": {
      "text/plain": [
       "-1"
      ]
     },
     "execution_count": 32,
     "metadata": {},
     "output_type": "execute_result"
    }
   ],
   "source": [
    "upper_a.find('C') #simply returns -1 to indicate that the string you are looking was not found"
   ]
  },
  {
   "cell_type": "code",
   "execution_count": 2,
   "id": "42e7d386-07bb-4e2f-9362-75041ad92b0b",
   "metadata": {},
   "outputs": [
    {
     "name": "stdout",
     "output_type": "stream",
     "text": [
      "['I', 'am', 'working', 'in', 'Accenture']\n"
     ]
    }
   ],
   "source": [
    "sentence = \"I am working in Accenture\"\n",
    "words = sentence.split()\n",
    "print(words)"
   ]
  },
  {
   "cell_type": "code",
   "execution_count": 33,
   "id": "f89ba250-57a2-4c7e-96d0-25e328145146",
   "metadata": {},
   "outputs": [
    {
     "data": {
      "text/plain": [
       "['I like ', 'izza']"
      ]
     },
     "execution_count": 33,
     "metadata": {},
     "output_type": "execute_result"
    }
   ],
   "source": [
    "split_a = a.split('P')\n",
    "split_a"
   ]
  },
  {
   "cell_type": "code",
   "execution_count": 34,
   "id": "7c850374-e692-4ded-b72a-e40a05961398",
   "metadata": {},
   "outputs": [
    {
     "data": {
      "text/plain": [
       "['I', 'like', 'Pizza']"
      ]
     },
     "execution_count": 34,
     "metadata": {},
     "output_type": "execute_result"
    }
   ],
   "source": [
    "split_a = a.split(' ')\n",
    "split_a"
   ]
  },
  {
   "cell_type": "code",
   "execution_count": 35,
   "id": "6347a64d-446a-477f-8b04-63692d03fda9",
   "metadata": {},
   "outputs": [
    {
     "data": {
      "text/plain": [
       "'I,like,Pizza'"
      ]
     },
     "execution_count": 35,
     "metadata": {},
     "output_type": "execute_result"
    }
   ],
   "source": [
    "join_c = ','\n",
    "join_c.join(split_a)"
   ]
  },
  {
   "cell_type": "code",
   "execution_count": 36,
   "id": "41d7f706-4ac7-435e-8f76-1aeb8568a3ff",
   "metadata": {},
   "outputs": [
    {
     "data": {
      "text/plain": [
       "'I like Pizza'"
      ]
     },
     "execution_count": 36,
     "metadata": {},
     "output_type": "execute_result"
    }
   ],
   "source": [
    "join_c = ' '\n",
    "join_c.join(split_a)"
   ]
  },
  {
   "cell_type": "code",
   "execution_count": 37,
   "id": "dadb2e21-fa46-4dcf-a39f-3087638a2831",
   "metadata": {},
   "outputs": [
    {
     "data": {
      "text/plain": [
       "'I|like|Pizza'"
      ]
     },
     "execution_count": 37,
     "metadata": {},
     "output_type": "execute_result"
    }
   ],
   "source": [
    "'|'.join(split_a)"
   ]
  },
  {
   "cell_type": "code",
   "execution_count": 38,
   "id": "26066220-a29a-4ccf-8258-57a79eb38997",
   "metadata": {},
   "outputs": [
    {
     "data": {
      "text/plain": [
       "True"
      ]
     },
     "execution_count": 38,
     "metadata": {},
     "output_type": "execute_result"
    }
   ],
   "source": [
    "'HELLO'.isupper()"
   ]
  },
  {
   "cell_type": "code",
   "execution_count": 39,
   "id": "478e2f23-f7f1-4ece-864b-bf1033b985a4",
   "metadata": {},
   "outputs": [
    {
     "data": {
      "text/plain": [
       "False"
      ]
     },
     "execution_count": 39,
     "metadata": {},
     "output_type": "execute_result"
    }
   ],
   "source": [
    "'Hello'.isupper()"
   ]
  },
  {
   "cell_type": "code",
   "execution_count": 40,
   "id": "4b327c9d-b883-4891-8cc1-8fc757d07062",
   "metadata": {},
   "outputs": [
    {
     "data": {
      "text/plain": [
       "True"
      ]
     },
     "execution_count": 40,
     "metadata": {},
     "output_type": "execute_result"
    }
   ],
   "source": [
    "'hello'.islower()"
   ]
  },
  {
   "cell_type": "code",
   "execution_count": 41,
   "id": "280948dd-c571-40c7-84ec-f31c5dd92bfc",
   "metadata": {},
   "outputs": [
    {
     "data": {
      "text/plain": [
       "False"
      ]
     },
     "execution_count": 41,
     "metadata": {},
     "output_type": "execute_result"
    }
   ],
   "source": [
    "'Hello'.islower()"
   ]
  },
  {
   "cell_type": "code",
   "execution_count": 1,
   "id": "adb04403-5a47-4d1d-b049-8662f08c4195",
   "metadata": {},
   "outputs": [
    {
     "name": "stdout",
     "output_type": "stream",
     "text": [
      "['apple', 'banana', 'grapes', 'guava', 'kiwi']\n"
     ]
    }
   ],
   "source": [
    "fruits = [\"apple\",\"guava\",\"grapes\",\"banana\",\"kiwi\"]\n",
    "sortedFruits = sorted(fruits)\n",
    "print(sortedFruits)"
   ]
  },
  {
   "cell_type": "code",
   "execution_count": 3,
   "id": "01935691-98f6-45f2-b18c-234a111d3fa2",
   "metadata": {},
   "outputs": [
    {
     "name": "stdout",
     "output_type": "stream",
     "text": [
      "no. of words in sentence =  5\n"
     ]
    }
   ],
   "source": [
    "sent = \"I am working in Accenture\"\n",
    "words = sent.split()\n",
    "wc = len(words)\n",
    "print(\"no. of words in sentence = \",wc)"
   ]
  },
  {
   "cell_type": "code",
   "execution_count": null,
   "id": "9bc5ab21-2a77-470b-bb16-bbe2a38b7a40",
   "metadata": {},
   "outputs": [],
   "source": []
  }
 ],
 "metadata": {
  "kernelspec": {
   "display_name": "Python 3 (ipykernel)",
   "language": "python",
   "name": "python3"
  },
  "language_info": {
   "codemirror_mode": {
    "name": "ipython",
    "version": 3
   },
   "file_extension": ".py",
   "mimetype": "text/x-python",
   "name": "python",
   "nbconvert_exporter": "python",
   "pygments_lexer": "ipython3",
   "version": "3.12.0"
  }
 },
 "nbformat": 4,
 "nbformat_minor": 5
}
