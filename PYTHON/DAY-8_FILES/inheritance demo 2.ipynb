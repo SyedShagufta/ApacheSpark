{
 "cells": [
  {
   "cell_type": "code",
   "execution_count": 2,
   "id": "000d9e1a-8dd1-4a52-8273-e0341a698074",
   "metadata": {},
   "outputs": [
    {
     "name": "stdout",
     "output_type": "stream",
     "text": [
      "animal name =  Tommy\n",
      "woo woo\n",
      "legs =  4\n",
      "animal name =  Kitty\n",
      "Meow\n",
      "animal name =  Shera\n",
      "Roar\n",
      "super class hello\n",
      "child class hello\n"
     ]
    }
   ],
   "source": [
    "#hierarchical inheritance\n",
    "class Animal:\n",
    "    def __init__(self,name):\n",
    "        self.name = name\n",
    "    def print_name(self):\n",
    "        print(\"animal name = \",self.name)\n",
    "    def hello(self):\n",
    "        print(\"super class hello\")\n",
    "\n",
    "class Dog(Animal):\n",
    "    def __init__(self,name,legs):\n",
    "        super().__init__(name)\n",
    "        self.legs = legs\n",
    "    \n",
    "    def make_sound(self):\n",
    "        print(\"woo woo\")\n",
    "        print(\"legs = \",self.legs)\n",
    "\n",
    "class Cat(Animal):\n",
    "    def make_sound(self):\n",
    "        print(\"Meow\")\n",
    "\n",
    "class Lion(Animal):\n",
    "    def make_sound(self):\n",
    "        print(\"Roar\")\n",
    "\n",
    "    def hello(self):\n",
    "        super().hello()\n",
    "        print(\"child class hello\")\n",
    "\n",
    "dogObj = Dog(name=\"Tommy\",legs=4)\n",
    "catObj = Cat(name=\"Kitty\")\n",
    "lionObj = Lion(name=\"Shera\")\n",
    "\n",
    "dogObj.print_name()\n",
    "dogObj.make_sound()\n",
    "\n",
    "catObj.print_name()\n",
    "catObj.make_sound()\n",
    "\n",
    "lionObj.print_name()\n",
    "lionObj.make_sound()\n",
    "lionObj.hello()"
   ]
  },
  {
   "cell_type": "code",
   "execution_count": 5,
   "id": "05734835-da63-495b-a973-fe221fd58fd3",
   "metadata": {},
   "outputs": [
    {
     "name": "stdout",
     "output_type": "stream",
     "text": [
      "inside class A\n",
      "inside class C\n"
     ]
    }
   ],
   "source": [
    "#multiple inheritance\n",
    "\n",
    "class A :\n",
    "    def printA(self):\n",
    "        print(\"inside class A\")\n",
    "\n",
    "class B :\n",
    "    def printA(self):\n",
    "        print(\"inside class B\")\n",
    "\n",
    "class C (A,B):\n",
    "    def printC(self):\n",
    "        print(\"inside class C\")\n",
    "\n",
    "objC = C()\n",
    "objC.printA()\n",
    "#objC.printB()\n",
    "objC.printC()\n"
   ]
  },
  {
   "cell_type": "raw",
   "id": "96390e24-4eb2-4a23-a8c2-cc56edab301a",
   "metadata": {},
   "source": [
    "Note : Python follows a specific order, known as Method Resolution Order (MRO), to determine which method to call in the case of multiple inheritance. The MRO is determined by the order in which base classes are listed in the class definition."
   ]
  },
  {
   "cell_type": "code",
   "execution_count": 6,
   "id": "29035266-a23c-4403-8cd7-5030d1f397cf",
   "metadata": {},
   "outputs": [
    {
     "name": "stdout",
     "output_type": "stream",
     "text": [
      "[<class '__main__.C'>, <class '__main__.A'>, <class '__main__.B'>, <class 'object'>]\n"
     ]
    }
   ],
   "source": [
    "print(C.mro())"
   ]
  },
  {
   "cell_type": "code",
   "execution_count": 2,
   "id": "92d1652f-1f8f-4266-8414-3bbeda584ba4",
   "metadata": {},
   "outputs": [
    {
     "name": "stdout",
     "output_type": "stream",
     "text": [
      "animal sound\n",
      "woo woo\n"
     ]
    }
   ],
   "source": [
    "#method overriding\n",
    "\n",
    "class Animal:\n",
    "    def __init__(self,name):\n",
    "        self.name = name\n",
    "    def make_sound(self):\n",
    "        print(\"animal sound\")\n",
    "\n",
    "class Dog(Animal):\n",
    "    def make_sound(self):\n",
    "        super().make_sound()\n",
    "        print(\"woo woo\")\n",
    "\n",
    "\n",
    "dogObj = Dog(name=\"Tommy\")\n",
    "\n",
    "dogObj.make_sound()"
   ]
  },
  {
   "cell_type": "code",
   "execution_count": 15,
   "id": "3b7b0fe3-fde0-432f-8118-bf7f1c0c62ae",
   "metadata": {},
   "outputs": [
    {
     "name": "stdout",
     "output_type": "stream",
     "text": [
      "Meow\n",
      "Roar\n"
     ]
    }
   ],
   "source": [
    "#polymorphism\n",
    "class Animal:\n",
    "    def make_sound1(self):\n",
    "        print(\"sound of animals\")\n",
    "\n",
    "class Cat(Animal):\n",
    "    def make_sound(self):\n",
    "        print(\"Meow\")\n",
    "\n",
    "class Lion(Animal):\n",
    "    def make_sound(self):\n",
    "        print(\"Roar\")\n",
    "\n",
    "def AnimalSound(Animal):\n",
    "    Animal.make_sound()\n",
    "\n",
    "catObj = Cat()\n",
    "lionObj = Lion()\n",
    "\n",
    "AnimalSound(catObj)\n",
    "AnimalSound(lionObj)"
   ]
  },
  {
   "cell_type": "code",
   "execution_count": null,
   "id": "27c88064-0ecd-4756-8df6-0b8323861047",
   "metadata": {},
   "outputs": [],
   "source": []
  }
 ],
 "metadata": {
  "kernelspec": {
   "display_name": "Python 3 (ipykernel)",
   "language": "python",
   "name": "python3"
  },
  "language_info": {
   "codemirror_mode": {
    "name": "ipython",
    "version": 3
   },
   "file_extension": ".py",
   "mimetype": "text/x-python",
   "name": "python",
   "nbconvert_exporter": "python",
   "pygments_lexer": "ipython3",
   "version": "3.12.0"
  }
 },
 "nbformat": 4,
 "nbformat_minor": 5
}
