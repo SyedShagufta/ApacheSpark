{
 "cells": [
  {
   "cell_type": "code",
   "execution_count": 1,
   "id": "c0f67f06-60b9-4785-9f27-783635f78997",
   "metadata": {},
   "outputs": [],
   "source": [
    "import numpy as np"
   ]
  },
  {
   "cell_type": "code",
   "execution_count": 31,
   "id": "6ddec0c8-dcb6-46f1-9a3d-f59ff61a1f1a",
   "metadata": {},
   "outputs": [
    {
     "data": {
      "text/plain": [
       "[1, 'abc', 2.5]"
      ]
     },
     "execution_count": 31,
     "metadata": {},
     "output_type": "execute_result"
    }
   ],
   "source": [
    "l1 = [1,\"abc\",2.5]\n",
    "l1"
   ]
  },
  {
   "cell_type": "code",
   "execution_count": 32,
   "id": "f59617e1-6229-46a6-9543-976d5bdd11b3",
   "metadata": {},
   "outputs": [
    {
     "data": {
      "text/plain": [
       "float"
      ]
     },
     "execution_count": 32,
     "metadata": {},
     "output_type": "execute_result"
    }
   ],
   "source": [
    "type(l1[2])"
   ]
  },
  {
   "cell_type": "code",
   "execution_count": 4,
   "id": "60243018-afd4-49ce-b1aa-a0204c95fbb2",
   "metadata": {},
   "outputs": [
    {
     "data": {
      "text/plain": [
       "array([10,  5, 20, 15])"
      ]
     },
     "execution_count": 4,
     "metadata": {},
     "output_type": "execute_result"
    }
   ],
   "source": [
    "#create numpy array\n",
    "\n",
    "arr = np.array([10,5,20,15])\n",
    "arr"
   ]
  },
  {
   "cell_type": "code",
   "execution_count": 5,
   "id": "54fb1d44-9b6f-4522-ad05-69ffb9b626f8",
   "metadata": {},
   "outputs": [
    {
     "data": {
      "text/plain": [
       "array(['10', '20', '3.5', 'hello'], dtype='<U32')"
      ]
     },
     "execution_count": 5,
     "metadata": {},
     "output_type": "execute_result"
    }
   ],
   "source": [
    "#create numpy array\n",
    "\n",
    "mix_arr = np.array([10,20,3.5,'hello'])\n",
    "mix_arr"
   ]
  },
  {
   "cell_type": "code",
   "execution_count": 6,
   "id": "d946b6f3-dc89-426a-9f6d-bb7b99037980",
   "metadata": {},
   "outputs": [
    {
     "data": {
      "text/plain": [
       "numpy.ndarray"
      ]
     },
     "execution_count": 6,
     "metadata": {},
     "output_type": "execute_result"
    }
   ],
   "source": [
    "type(mix_arr)"
   ]
  },
  {
   "cell_type": "code",
   "execution_count": 7,
   "id": "00bfa7ac-7421-486e-b581-ce5b507fe4a2",
   "metadata": {},
   "outputs": [
    {
     "data": {
      "text/plain": [
       "numpy.str_"
      ]
     },
     "execution_count": 7,
     "metadata": {},
     "output_type": "execute_result"
    }
   ],
   "source": [
    "type(mix_arr[1])"
   ]
  },
  {
   "cell_type": "code",
   "execution_count": 33,
   "id": "347e2930-a136-40ce-9d67-58b5d0221f05",
   "metadata": {},
   "outputs": [
    {
     "data": {
      "text/plain": [
       "array([[1, 2, 3],\n",
       "       [4, 5, 6]])"
      ]
     },
     "execution_count": 33,
     "metadata": {},
     "output_type": "execute_result"
    }
   ],
   "source": [
    "#multi-dimensional array\n",
    "\n",
    "m = np.array([[1,2,3],[4,5,6]])\n",
    "m"
   ]
  },
  {
   "cell_type": "code",
   "execution_count": 9,
   "id": "05d292ef-ceaa-4a21-b13e-fbfd8c266a08",
   "metadata": {},
   "outputs": [
    {
     "data": {
      "text/plain": [
       "numpy.int32"
      ]
     },
     "execution_count": 9,
     "metadata": {},
     "output_type": "execute_result"
    }
   ],
   "source": [
    "type(m[0][1])"
   ]
  },
  {
   "cell_type": "code",
   "execution_count": 10,
   "id": "453e846c-c03a-4003-be4e-386d2f3b3ddd",
   "metadata": {},
   "outputs": [
    {
     "data": {
      "text/plain": [
       "2"
      ]
     },
     "execution_count": 10,
     "metadata": {},
     "output_type": "execute_result"
    }
   ],
   "source": [
    "m[0][1]"
   ]
  },
  {
   "cell_type": "code",
   "execution_count": 11,
   "id": "5ed028bb-4051-437d-b1dd-374d2c1121e6",
   "metadata": {},
   "outputs": [
    {
     "data": {
      "text/plain": [
       "array([[1, 2, 3],\n",
       "       [4, 5, 6]])"
      ]
     },
     "execution_count": 11,
     "metadata": {},
     "output_type": "execute_result"
    }
   ],
   "source": [
    "#multi-dimensional array\n",
    "\n",
    "m1 = np.array([[1,2,3],\n",
    "             [4,5,6]], np.int32)\n",
    "m1"
   ]
  },
  {
   "cell_type": "code",
   "execution_count": 12,
   "id": "65d605ea-13cf-45dd-a9e5-7dccb86af1f0",
   "metadata": {},
   "outputs": [
    {
     "data": {
      "text/plain": [
       "numpy.ndarray"
      ]
     },
     "execution_count": 12,
     "metadata": {},
     "output_type": "execute_result"
    }
   ],
   "source": [
    "type(m1)"
   ]
  },
  {
   "cell_type": "code",
   "execution_count": 13,
   "id": "b6d87f50-2d97-40a6-ad91-a3427d83d36a",
   "metadata": {},
   "outputs": [
    {
     "name": "stdout",
     "output_type": "stream",
     "text": [
      "[[1 2 3 4]\n",
      " [1 2 5 6]\n",
      " [1 3 4 5]]\n"
     ]
    }
   ],
   "source": [
    "import  numpy as np\n",
    "myarr=np.array([[1,2,3,4],[1,2,5,6],[1,3,4,5]])\n",
    "print(myarr)\n"
   ]
  },
  {
   "cell_type": "code",
   "execution_count": 14,
   "id": "606738de-5b8b-43bc-a8c8-0a266e6c997a",
   "metadata": {},
   "outputs": [
    {
     "name": "stdout",
     "output_type": "stream",
     "text": [
      "[1 2 3 4 1 2 5 6 1 3 4 5]\n"
     ]
    }
   ],
   "source": [
    "print(myarr.flatten()) #combines all the elements of array"
   ]
  },
  {
   "cell_type": "code",
   "execution_count": 15,
   "id": "291312bd-8e53-48e7-bae7-ea2b8f2f29f4",
   "metadata": {},
   "outputs": [
    {
     "name": "stdout",
     "output_type": "stream",
     "text": [
      "6\n",
      "1\n",
      "37\n",
      "[1 3 5 6]\n",
      "[1 2 3 4]\n",
      "[ 3  7 12 15]\n",
      "[4 6 5]\n",
      "[1 1 1]\n",
      "[10 14 13]\n",
      "int32\n",
      "(3, 4)\n",
      "12\n"
     ]
    }
   ],
   "source": [
    "print(np.max(myarr)) #finding max value from matrix\n",
    "print(np.min(myarr)) #fining min value from matrix\n",
    "print(np.sum(myarr)) #calculating sum of all the values of matrix\n",
    "print(np.max(myarr,axis=0)) #finding max value column wise\n",
    "print(np.min(myarr,axis=0)) #fining min value column wise\n",
    "print(np.sum(myarr,axis=0)) #calculating sum column wise\n",
    "print(np.max(myarr,axis=1)) #finding max value row wise\n",
    "print(np.min(myarr,axis=1)) #fining min value row wise\n",
    "print(np.sum(myarr,axis=1)) #calculating sum row wise\n",
    "print(myarr.dtype) #check data type\n",
    "print(myarr.shape) #no. of rows and columns\n",
    "print(myarr.size) #total no. of elements"
   ]
  },
  {
   "cell_type": "code",
   "execution_count": 16,
   "id": "6229ef37-c57d-4ac3-b85d-bd471e8f924c",
   "metadata": {},
   "outputs": [
    {
     "name": "stdout",
     "output_type": "stream",
     "text": [
      "[[1 1 1]\n",
      " [2 2 3]\n",
      " [3 5 4]\n",
      " [4 6 5]]\n"
     ]
    }
   ],
   "source": [
    "print(myarr.T) #Transpose matrix"
   ]
  },
  {
   "cell_type": "code",
   "execution_count": 17,
   "id": "c6ab963e-3b52-41d4-a095-c2e61e895376",
   "metadata": {},
   "outputs": [
    {
     "name": "stdout",
     "output_type": "stream",
     "text": [
      "[[1 2 3 4]\n",
      " [1 2 5 6]\n",
      " [1 3 4 5]]\n"
     ]
    }
   ],
   "source": [
    "print(myarr)"
   ]
  },
  {
   "cell_type": "code",
   "execution_count": 18,
   "id": "7d66dfd9-99e9-4622-89f5-382b083402a7",
   "metadata": {},
   "outputs": [
    {
     "name": "stdout",
     "output_type": "stream",
     "text": [
      "[[1 2 3 4]\n",
      " [1 2 5 6]]\n"
     ]
    }
   ],
   "source": [
    "print(myarr[0:2,0:])"
   ]
  },
  {
   "cell_type": "code",
   "execution_count": 19,
   "id": "ee069230-1b20-4733-be2b-ef1fcb33089a",
   "metadata": {},
   "outputs": [
    {
     "name": "stdout",
     "output_type": "stream",
     "text": [
      "[1 3 4 5]\n"
     ]
    }
   ],
   "source": [
    "print(myarr[2,:])"
   ]
  },
  {
   "cell_type": "code",
   "execution_count": 20,
   "id": "f03f74d3-d375-4646-9dde-de0a5c2d73a3",
   "metadata": {},
   "outputs": [
    {
     "name": "stdout",
     "output_type": "stream",
     "text": [
      "[3]\n"
     ]
    }
   ],
   "source": [
    "print(myarr[:1,2])"
   ]
  },
  {
   "cell_type": "code",
   "execution_count": 21,
   "id": "ffdc9f91-47ff-428a-a520-11840de2dd18",
   "metadata": {},
   "outputs": [
    {
     "name": "stdout",
     "output_type": "stream",
     "text": [
      "[[1. 1. 1.]\n",
      " [1. 1. 1.]]\n"
     ]
    }
   ],
   "source": [
    "newarr=np.ones((2,3)) #by default data type \"float\"\n",
    "print(newarr)"
   ]
  },
  {
   "cell_type": "code",
   "execution_count": 22,
   "id": "671f9caf-8306-44f7-b59e-8dcfc2534ddb",
   "metadata": {},
   "outputs": [
    {
     "name": "stdout",
     "output_type": "stream",
     "text": [
      "[[1 1 1]\n",
      " [1 1 1]]\n"
     ]
    }
   ],
   "source": [
    "newarr=np.ones((2,3),dtype = np.int32)\n",
    "print(newarr)"
   ]
  },
  {
   "cell_type": "code",
   "execution_count": 23,
   "id": "27c0da65-2635-4719-948f-1e92d86ea7b9",
   "metadata": {},
   "outputs": [
    {
     "name": "stdout",
     "output_type": "stream",
     "text": [
      "[[0. 0. 0. 0. 0.]\n",
      " [0. 0. 0. 0. 0.]\n",
      " [0. 0. 0. 0. 0.]\n",
      " [0. 0. 0. 0. 0.]\n",
      " [0. 0. 0. 0. 0.]]\n"
     ]
    }
   ],
   "source": [
    "mat2 = np.zeros([5,5])\n",
    "print(mat2)"
   ]
  },
  {
   "cell_type": "code",
   "execution_count": 34,
   "id": "c5138996-f356-4338-a0c3-bb61d14d29ac",
   "metadata": {},
   "outputs": [
    {
     "data": {
      "text/plain": [
       "array([[135829216,       591],\n",
       "       [        0,         0]])"
      ]
     },
     "execution_count": 34,
     "metadata": {},
     "output_type": "execute_result"
    }
   ],
   "source": [
    "newarr1=np.empty((2,2),dtype = np.int32)\n",
    "newarr1"
   ]
  },
  {
   "cell_type": "code",
   "execution_count": 25,
   "id": "9ac241d4-d774-426e-9352-3549c4635d02",
   "metadata": {},
   "outputs": [
    {
     "data": {
      "text/plain": [
       "array([[1, 0, 0, 0, 0, 0],\n",
       "       [0, 1, 0, 0, 0, 0],\n",
       "       [0, 0, 1, 0, 0, 0],\n",
       "       [0, 0, 0, 1, 0, 0],\n",
       "       [0, 0, 0, 0, 1, 0],\n",
       "       [0, 0, 0, 0, 0, 1]])"
      ]
     },
     "execution_count": 25,
     "metadata": {},
     "output_type": "execute_result"
    }
   ],
   "source": [
    "n_eye = np.eye(6,dtype=np.int32)\n",
    "n_eye"
   ]
  },
  {
   "cell_type": "code",
   "execution_count": 26,
   "id": "d8cbda48-04dd-428f-82a3-84ce2801a4b6",
   "metadata": {},
   "outputs": [
    {
     "data": {
      "text/plain": [
       "array([ 2,  4,  6,  8, 10, 12, 14, 16, 18, 20, 22])"
      ]
     },
     "execution_count": 26,
     "metadata": {},
     "output_type": "execute_result"
    }
   ],
   "source": [
    "even = np.arange(2,24,2)\n",
    "even"
   ]
  },
  {
   "cell_type": "code",
   "execution_count": 27,
   "id": "fc393944-bce1-425a-a2f7-ad50f11156fb",
   "metadata": {},
   "outputs": [
    {
     "data": {
      "text/plain": [
       "array([1. , 1.2, 1.4, 1.6, 1.8, 2. , 2.2, 2.4, 2.6, 2.8])"
      ]
     },
     "execution_count": 27,
     "metadata": {},
     "output_type": "execute_result"
    }
   ],
   "source": [
    "f = np.arange(1,3,0.2)\n",
    "f"
   ]
  },
  {
   "cell_type": "code",
   "execution_count": 28,
   "id": "6ad12752-ceba-43ce-9e66-e028bef18bbe",
   "metadata": {},
   "outputs": [
    {
     "data": {
      "text/plain": [
       "array([0, 1, 2, 3, 4, 5, 6, 7])"
      ]
     },
     "execution_count": 28,
     "metadata": {},
     "output_type": "execute_result"
    }
   ],
   "source": [
    "np.arange(8) #it will create array of elements from 0 to 7"
   ]
  },
  {
   "cell_type": "code",
   "execution_count": 29,
   "id": "3b960556-7043-4aa8-9b94-716b14789f16",
   "metadata": {},
   "outputs": [
    {
     "data": {
      "text/plain": [
       "array([[0, 1, 2, 3],\n",
       "       [4, 5, 6, 7]])"
      ]
     },
     "execution_count": 29,
     "metadata": {},
     "output_type": "execute_result"
    }
   ],
   "source": [
    "arnd = np.arange(8).reshape(2,4) # total 8 elements will be shaped into 2 rows and 4 columns\n",
    "arnd"
   ]
  },
  {
   "cell_type": "code",
   "execution_count": 36,
   "id": "6c96f3d2-aa7c-4a61-97a1-0745c16a8815",
   "metadata": {},
   "outputs": [
    {
     "ename": "ValueError",
     "evalue": "cannot reshape array of size 8 into shape (3,3)",
     "output_type": "error",
     "traceback": [
      "\u001b[1;31m---------------------------------------------------------------------------\u001b[0m",
      "\u001b[1;31mValueError\u001b[0m                                Traceback (most recent call last)",
      "Cell \u001b[1;32mIn[36], line 1\u001b[0m\n\u001b[1;32m----> 1\u001b[0m arnd \u001b[38;5;241m=\u001b[39m \u001b[43mnp\u001b[49m\u001b[38;5;241;43m.\u001b[39;49m\u001b[43marange\u001b[49m\u001b[43m(\u001b[49m\u001b[38;5;241;43m8\u001b[39;49m\u001b[43m)\u001b[49m\u001b[38;5;241;43m.\u001b[39;49m\u001b[43mreshape\u001b[49m\u001b[43m(\u001b[49m\u001b[38;5;241;43m3\u001b[39;49m\u001b[43m,\u001b[49m\u001b[38;5;241;43m3\u001b[39;49m\u001b[43m)\u001b[49m \u001b[38;5;66;03m# total 8 elements required - here only 6 elements are there\u001b[39;00m\n\u001b[0;32m      2\u001b[0m arnd\n",
      "\u001b[1;31mValueError\u001b[0m: cannot reshape array of size 8 into shape (3,3)"
     ]
    }
   ],
   "source": [
    "arnd = np.arange(8).reshape(3,3) # total 8 elements required - here only 6 elements are there\n",
    "arnd"
   ]
  },
  {
   "cell_type": "code",
   "execution_count": 37,
   "id": "07987868-cc10-4daf-b442-bdd27470fb3c",
   "metadata": {},
   "outputs": [
    {
     "data": {
      "text/plain": [
       "array([[0, 1, 2],\n",
       "       [3, 4, 5]])"
      ]
     },
     "execution_count": 37,
     "metadata": {},
     "output_type": "execute_result"
    }
   ],
   "source": [
    "arnd = np.arange(6).reshape(2,3)\n",
    "arnd"
   ]
  },
  {
   "cell_type": "code",
   "execution_count": 38,
   "id": "d12fb3dc-8db8-4e99-be51-7bdbb573fb19",
   "metadata": {},
   "outputs": [
    {
     "name": "stdout",
     "output_type": "stream",
     "text": [
      "[[1 2]\n",
      " [3 4]]\n",
      "[[3 5]\n",
      " [1 4]]\n"
     ]
    }
   ],
   "source": [
    "x = np.array([[1,2],[3,4]]) #x = np.array([1,2,3,4]\n",
    "y = np.array([[3,5],[1,4]])\n",
    "print(x)\n",
    "print(y)"
   ]
  },
  {
   "cell_type": "code",
   "execution_count": 39,
   "id": "a23a1076-242d-4e68-ace8-133297be2b9b",
   "metadata": {},
   "outputs": [
    {
     "data": {
      "text/plain": [
       "array([[4, 7],\n",
       "       [4, 8]])"
      ]
     },
     "execution_count": 39,
     "metadata": {},
     "output_type": "execute_result"
    }
   ],
   "source": [
    "x+y"
   ]
  },
  {
   "cell_type": "code",
   "execution_count": 40,
   "id": "d96110fb-a0b3-4561-88cc-2fbd0759a64d",
   "metadata": {},
   "outputs": [
    {
     "data": {
      "text/plain": [
       "array([[-2, -3],\n",
       "       [ 2,  0]])"
      ]
     },
     "execution_count": 40,
     "metadata": {},
     "output_type": "execute_result"
    }
   ],
   "source": [
    "x-y"
   ]
  },
  {
   "cell_type": "code",
   "execution_count": 41,
   "id": "79d035b8-e850-414e-ba1c-91cc8d087979",
   "metadata": {},
   "outputs": [
    {
     "data": {
      "text/plain": [
       "array([[ 3, 10],\n",
       "       [ 3, 16]])"
      ]
     },
     "execution_count": 41,
     "metadata": {},
     "output_type": "execute_result"
    }
   ],
   "source": [
    "x*y#this is not the correct matrix multiplication"
   ]
  },
  {
   "cell_type": "code",
   "execution_count": null,
   "id": "daf6d284-4f00-4f65-a16c-24a740deacef",
   "metadata": {},
   "outputs": [],
   "source": [
    "#actual multiplication of matrices\n",
    "np.dot(x,y)"
   ]
  },
  {
   "cell_type": "code",
   "execution_count": 42,
   "id": "316ce96a-bf5c-483e-811e-936c9288ab21",
   "metadata": {},
   "outputs": [
    {
     "data": {
      "text/plain": [
       "3.141592653589793"
      ]
     },
     "execution_count": 42,
     "metadata": {},
     "output_type": "execute_result"
    }
   ],
   "source": [
    "m = np.pi\n",
    "m"
   ]
  },
  {
   "cell_type": "code",
   "execution_count": 43,
   "id": "240f6e3a-a1aa-427f-a768-6b65575e9169",
   "metadata": {
    "scrolled": true
   },
   "outputs": [
    {
     "data": {
      "text/plain": [
       "array([0.        , 0.52359878, 1.04719755, 1.57079633, 2.0943951 ,\n",
       "       2.61799388, 3.14159265])"
      ]
     },
     "execution_count": 43,
     "metadata": {},
     "output_type": "execute_result"
    }
   ],
   "source": [
    "a = np.array([0,30,60,90,120,150,180])\n",
    "ar = a * np.pi/180\n",
    "ar"
   ]
  },
  {
   "cell_type": "code",
   "execution_count": 44,
   "id": "b23c70e1-e211-4282-9c1f-21b5994e045e",
   "metadata": {},
   "outputs": [
    {
     "name": "stdout",
     "output_type": "stream",
     "text": [
      "sine value :  [0.00000000e+00 5.00000000e-01 8.66025404e-01 1.00000000e+00\n",
      " 8.66025404e-01 5.00000000e-01 1.22464680e-16]\n",
      "cosine value :  [ 1.00000000e+00  8.66025404e-01  5.00000000e-01  6.12323400e-17\n",
      " -5.00000000e-01 -8.66025404e-01 -1.00000000e+00]\n",
      "tangent value :  [ 0.00000000e+00  5.77350269e-01  1.73205081e+00  1.63312394e+16\n",
      " -1.73205081e+00 -5.77350269e-01 -1.22464680e-16]\n"
     ]
    }
   ],
   "source": [
    "print(\"sine value : \",np.sin(ar))\n",
    "print(\"cosine value : \",np.cos(ar))\n",
    "print(\"tangent value : \",np.tan(ar))"
   ]
  },
  {
   "cell_type": "code",
   "execution_count": 45,
   "id": "762b2553-aef6-43a1-8b6a-b74df4ed44a0",
   "metadata": {},
   "outputs": [
    {
     "data": {
      "text/plain": [
       "54.598150033144236"
      ]
     },
     "execution_count": 45,
     "metadata": {},
     "output_type": "execute_result"
    }
   ],
   "source": [
    "np.exp(4) #e^x"
   ]
  },
  {
   "cell_type": "code",
   "execution_count": 46,
   "id": "3bc49a9d-7fd6-4ef0-ae66-9b833277f797",
   "metadata": {},
   "outputs": [
    {
     "data": {
      "text/plain": [
       "2.0"
      ]
     },
     "execution_count": 46,
     "metadata": {},
     "output_type": "execute_result"
    }
   ],
   "source": [
    "np.sqrt(4)"
   ]
  },
  {
   "cell_type": "code",
   "execution_count": 49,
   "id": "5d3385f8-7b97-4a5a-b3ad-d602054b4ca8",
   "metadata": {},
   "outputs": [
    {
     "data": {
      "text/plain": [
       "array([0, 1, 2, 3, 4, 5, 6, 7, 8, 9])"
      ]
     },
     "execution_count": 49,
     "metadata": {},
     "output_type": "execute_result"
    }
   ],
   "source": [
    "x=np.arange(10)\n",
    "x\n",
    "#np.sqrt(x)"
   ]
  },
  {
   "cell_type": "code",
   "execution_count": 50,
   "id": "aa1743dc-17a2-4a7c-977c-ff8c62490fe6",
   "metadata": {},
   "outputs": [
    {
     "name": "stdout",
     "output_type": "stream",
     "text": [
      "4.5\n",
      "4.5\n",
      "8.25\n",
      "2.8722813232690143\n"
     ]
    }
   ],
   "source": [
    "print(np.mean(x))\n",
    "print(np.median(x))\n",
    "print(np.var(x))\n",
    "print(np.std(x))"
   ]
  },
  {
   "cell_type": "code",
   "execution_count": 51,
   "id": "db72fd99-8d27-443a-981c-aae6284740b0",
   "metadata": {},
   "outputs": [
    {
     "data": {
      "text/plain": [
       "array([ 0,  1,  4,  9, 16])"
      ]
     },
     "execution_count": 51,
     "metadata": {},
     "output_type": "execute_result"
    }
   ],
   "source": [
    "x=np.arange(5) ** 2\n",
    "x"
   ]
  },
  {
   "cell_type": "code",
   "execution_count": 52,
   "id": "f1be2bcb-faa3-465c-8645-ed7055e5b6ee",
   "metadata": {},
   "outputs": [
    {
     "data": {
      "text/plain": [
       "8"
      ]
     },
     "execution_count": 52,
     "metadata": {},
     "output_type": "execute_result"
    }
   ],
   "source": [
    "np.power(2,3)"
   ]
  },
  {
   "cell_type": "code",
   "execution_count": 53,
   "id": "80be8d9d-e986-46f5-8b83-6364ca3c5a0f",
   "metadata": {},
   "outputs": [
    {
     "data": {
      "text/plain": [
       "array([ 0,  1,  4,  9, 16, 20])"
      ]
     },
     "execution_count": 53,
     "metadata": {},
     "output_type": "execute_result"
    }
   ],
   "source": [
    "y=np.append(x,20)\n",
    "y"
   ]
  },
  {
   "cell_type": "code",
   "execution_count": 54,
   "id": "ad9fdefa-c9c6-4d9e-b67c-51b7b7256b46",
   "metadata": {},
   "outputs": [
    {
     "data": {
      "text/plain": [
       "array([ 0,  1, 30,  4,  9, 16])"
      ]
     },
     "execution_count": 54,
     "metadata": {},
     "output_type": "execute_result"
    }
   ],
   "source": [
    "y=np.insert(x,2,30)\n",
    "y"
   ]
  },
  {
   "cell_type": "code",
   "execution_count": 55,
   "id": "f4981658-1e8d-4e59-8b61-25185c7a23bb",
   "metadata": {},
   "outputs": [
    {
     "data": {
      "text/plain": [
       "array([ 0,  1,  4,  9, 16, 30])"
      ]
     },
     "execution_count": 55,
     "metadata": {},
     "output_type": "execute_result"
    }
   ],
   "source": [
    "z=np.sort(y)\n",
    "z"
   ]
  },
  {
   "cell_type": "code",
   "execution_count": 56,
   "id": "d4d46646-7e6d-45d9-bcf3-a9ac57b7adb0",
   "metadata": {},
   "outputs": [
    {
     "data": {
      "text/plain": [
       "array([30, 16,  9,  4,  1,  0])"
      ]
     },
     "execution_count": 56,
     "metadata": {},
     "output_type": "execute_result"
    }
   ],
   "source": [
    "z[::-1]"
   ]
  },
  {
   "cell_type": "code",
   "execution_count": 59,
   "id": "eead8850-5d9d-4556-ba62-2a34570c871a",
   "metadata": {},
   "outputs": [
    {
     "data": {
      "text/plain": [
       "2"
      ]
     },
     "execution_count": 59,
     "metadata": {},
     "output_type": "execute_result"
    }
   ],
   "source": [
    "random_num = np.random.randint(1,11) #generate anyone random integer value\n",
    "random_num"
   ]
  },
  {
   "cell_type": "code",
   "execution_count": null,
   "id": "e5415785-fb4e-40af-86b0-7f61513ba578",
   "metadata": {},
   "outputs": [],
   "source": [
    "ran_float = np.random.rand() #generate random float value between 0 and 1\n",
    "ran_float"
   ]
  },
  {
   "cell_type": "code",
   "execution_count": null,
   "id": "8199b649-969d-4753-80c7-24636b035417",
   "metadata": {},
   "outputs": [],
   "source": [
    "ran_float_range=np.random.uniform(1,5)#generate random float value between 1 to 5\n",
    "ran_float_range"
   ]
  },
  {
   "cell_type": "code",
   "execution_count": null,
   "id": "21ed7da9-6e0f-4bd9-a5fd-75418bfe4fac",
   "metadata": {},
   "outputs": [],
   "source": [
    "#generate random numbers from normal distribution with mean 0 and standard deviation 1\n",
    "rnd = np.random.normal(0,1,size=(3,3))\n",
    "rnd"
   ]
  },
  {
   "cell_type": "code",
   "execution_count": 62,
   "id": "50ed414d-c27e-46d7-bfb1-c10c30abed56",
   "metadata": {},
   "outputs": [
    {
     "data": {
      "text/plain": [
       "array([0.96702984, 0.54723225, 0.97268436])"
      ]
     },
     "execution_count": 62,
     "metadata": {},
     "output_type": "execute_result"
    }
   ],
   "source": [
    "np.random.seed(4)\n",
    "rnd = np.random.rand(3)\n",
    "rnd"
   ]
  },
  {
   "cell_type": "code",
   "execution_count": 63,
   "id": "7131be09-3961-460f-998f-9b2bb6dead10",
   "metadata": {},
   "outputs": [
    {
     "name": "stdout",
     "output_type": "stream",
     "text": [
      "[ 0.9934697   1.07932256  1.45162561 -0.33881198  0.36623181 -0.30501214\n",
      " -0.48492332 -0.12066567 -0.0788265   0.56373477 -0.18040236  0.20218012\n",
      "  0.16951775 -0.71522547  0.52533388]\n",
      "\n",
      "[ True  True  True False  True False False False False  True False  True\n",
      "  True False  True]\n"
     ]
    }
   ],
   "source": [
    "rand_vec = np.random.randn(15)\n",
    "\n",
    "print(rand_vec)\n",
    "print()\n",
    "print(rand_vec>0)"
   ]
  },
  {
   "cell_type": "code",
   "execution_count": null,
   "id": "d0626180-c929-4ce3-902f-fdb30c33fd90",
   "metadata": {},
   "outputs": [],
   "source": [
    "rand_vec = np.random.randn(19)\n",
    "print(rand_vec)\n",
    "print()\n",
    "print(rand_vec[6])"
   ]
  },
  {
   "cell_type": "code",
   "execution_count": 64,
   "id": "b1c0aa8d-b96b-42bb-acb5-736c7498971a",
   "metadata": {},
   "outputs": [
    {
     "name": "stdout",
     "output_type": "stream",
     "text": [
      "[[0.40844386 0.52790882 0.93757158 0.52169612 0.10819338]\n",
      " [0.15822341 0.54520265 0.52440408 0.63761024 0.40149544]\n",
      " [0.64980511 0.3969     0.62391611 0.76740497 0.17897391]\n",
      " [0.37557577 0.50253306 0.68666708 0.25367965 0.55474086]\n",
      " [0.62493084 0.89550117 0.36285359 0.63755707 0.1914464 ]]\n"
     ]
    }
   ],
   "source": [
    "rand_mat4 = np.random.rand(5,5) # uniform random variable\n",
    "print(rand_mat4)"
   ]
  },
  {
   "cell_type": "code",
   "execution_count": null,
   "id": "173efe84-aa6c-411e-9c40-e1a0cf34be31",
   "metadata": {},
   "outputs": [],
   "source": []
  }
 ],
 "metadata": {
  "kernelspec": {
   "display_name": "Python 3 (ipykernel)",
   "language": "python",
   "name": "python3"
  },
  "language_info": {
   "codemirror_mode": {
    "name": "ipython",
    "version": 3
   },
   "file_extension": ".py",
   "mimetype": "text/x-python",
   "name": "python",
   "nbconvert_exporter": "python",
   "pygments_lexer": "ipython3",
   "version": "3.12.0"
  }
 },
 "nbformat": 4,
 "nbformat_minor": 5
}
