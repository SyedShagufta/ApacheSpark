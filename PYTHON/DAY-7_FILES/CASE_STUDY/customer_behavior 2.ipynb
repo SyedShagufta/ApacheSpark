{
 "cells": [
  {
   "cell_type": "code",
   "execution_count": 1,
   "id": "85541414-c424-4207-bfc6-6fe07fbe2902",
   "metadata": {},
   "outputs": [],
   "source": [
    "import numpy as np\n",
    "import pandas as pd\n",
    "import matplotlib.pyplot as plt"
   ]
  },
  {
   "cell_type": "code",
   "execution_count": 2,
   "id": "a732eb69-f99d-48d2-b820-c2cc425681e5",
   "metadata": {},
   "outputs": [
    {
     "data": {
      "text/html": [
       "<div>\n",
       "<style scoped>\n",
       "    .dataframe tbody tr th:only-of-type {\n",
       "        vertical-align: middle;\n",
       "    }\n",
       "\n",
       "    .dataframe tbody tr th {\n",
       "        vertical-align: top;\n",
       "    }\n",
       "\n",
       "    .dataframe thead th {\n",
       "        text-align: right;\n",
       "    }\n",
       "</style>\n",
       "<table border=\"1\" class=\"dataframe\">\n",
       "  <thead>\n",
       "    <tr style=\"text-align: right;\">\n",
       "      <th></th>\n",
       "      <th>Customer_ID</th>\n",
       "      <th>Product_ID</th>\n",
       "      <th>Purchase_Amount</th>\n",
       "      <th>Product_Category</th>\n",
       "      <th>Date</th>\n",
       "    </tr>\n",
       "  </thead>\n",
       "  <tbody>\n",
       "    <tr>\n",
       "      <th>0</th>\n",
       "      <td>68</td>\n",
       "      <td>7</td>\n",
       "      <td>77.419384</td>\n",
       "      <td>Fashion</td>\n",
       "      <td>1/1/2023</td>\n",
       "    </tr>\n",
       "    <tr>\n",
       "      <th>1</th>\n",
       "      <td>99</td>\n",
       "      <td>17</td>\n",
       "      <td>106.816134</td>\n",
       "      <td>Fashion</td>\n",
       "      <td>1/2/2023</td>\n",
       "    </tr>\n",
       "    <tr>\n",
       "      <th>2</th>\n",
       "      <td>89</td>\n",
       "      <td>14</td>\n",
       "      <td>56.136732</td>\n",
       "      <td>Grocery</td>\n",
       "      <td>1/3/2023</td>\n",
       "    </tr>\n",
       "    <tr>\n",
       "      <th>3</th>\n",
       "      <td>14</td>\n",
       "      <td>16</td>\n",
       "      <td>58.134780</td>\n",
       "      <td>Electronics</td>\n",
       "      <td>1/4/2023</td>\n",
       "    </tr>\n",
       "    <tr>\n",
       "      <th>4</th>\n",
       "      <td>46</td>\n",
       "      <td>4</td>\n",
       "      <td>94.288088</td>\n",
       "      <td>Fashion</td>\n",
       "      <td>1/5/2023</td>\n",
       "    </tr>\n",
       "    <tr>\n",
       "      <th>...</th>\n",
       "      <td>...</td>\n",
       "      <td>...</td>\n",
       "      <td>...</td>\n",
       "      <td>...</td>\n",
       "      <td>...</td>\n",
       "    </tr>\n",
       "    <tr>\n",
       "      <th>95</th>\n",
       "      <td>12</td>\n",
       "      <td>18</td>\n",
       "      <td>95.932290</td>\n",
       "      <td>Electronics</td>\n",
       "      <td>4/6/2023</td>\n",
       "    </tr>\n",
       "    <tr>\n",
       "      <th>96</th>\n",
       "      <td>25</td>\n",
       "      <td>15</td>\n",
       "      <td>109.870901</td>\n",
       "      <td>Grocery</td>\n",
       "      <td>4/7/2023</td>\n",
       "    </tr>\n",
       "    <tr>\n",
       "      <th>97</th>\n",
       "      <td>24</td>\n",
       "      <td>16</td>\n",
       "      <td>146.808440</td>\n",
       "      <td>Fashion</td>\n",
       "      <td>4/8/2023</td>\n",
       "    </tr>\n",
       "    <tr>\n",
       "      <th>98</th>\n",
       "      <td>53</td>\n",
       "      <td>5</td>\n",
       "      <td>76.145301</td>\n",
       "      <td>Fashion</td>\n",
       "      <td>4/9/2023</td>\n",
       "    </tr>\n",
       "    <tr>\n",
       "      <th>99</th>\n",
       "      <td>45</td>\n",
       "      <td>13</td>\n",
       "      <td>124.876373</td>\n",
       "      <td>Grocery</td>\n",
       "      <td>4/10/2023</td>\n",
       "    </tr>\n",
       "  </tbody>\n",
       "</table>\n",
       "<p>100 rows × 5 columns</p>\n",
       "</div>"
      ],
      "text/plain": [
       "    Customer_ID  Product_ID  Purchase_Amount Product_Category       Date\n",
       "0            68           7        77.419384          Fashion   1/1/2023\n",
       "1            99          17       106.816134          Fashion   1/2/2023\n",
       "2            89          14        56.136732          Grocery   1/3/2023\n",
       "3            14          16        58.134780      Electronics   1/4/2023\n",
       "4            46           4        94.288088          Fashion   1/5/2023\n",
       "..          ...         ...              ...              ...        ...\n",
       "95           12          18        95.932290      Electronics   4/6/2023\n",
       "96           25          15       109.870901          Grocery   4/7/2023\n",
       "97           24          16       146.808440          Fashion   4/8/2023\n",
       "98           53           5        76.145301          Fashion   4/9/2023\n",
       "99           45          13       124.876373          Grocery  4/10/2023\n",
       "\n",
       "[100 rows x 5 columns]"
      ]
     },
     "execution_count": 2,
     "metadata": {},
     "output_type": "execute_result"
    }
   ],
   "source": [
    "df = pd.read_csv('customer_product.csv')\n",
    "df"
   ]
  },
  {
   "cell_type": "code",
   "execution_count": 3,
   "id": "81a492ef-f3f7-4904-af96-b3f2d1c35b78",
   "metadata": {},
   "outputs": [
    {
     "data": {
      "text/html": [
       "<div>\n",
       "<style scoped>\n",
       "    .dataframe tbody tr th:only-of-type {\n",
       "        vertical-align: middle;\n",
       "    }\n",
       "\n",
       "    .dataframe tbody tr th {\n",
       "        vertical-align: top;\n",
       "    }\n",
       "\n",
       "    .dataframe thead th {\n",
       "        text-align: right;\n",
       "    }\n",
       "</style>\n",
       "<table border=\"1\" class=\"dataframe\">\n",
       "  <thead>\n",
       "    <tr style=\"text-align: right;\">\n",
       "      <th></th>\n",
       "      <th>Customer_ID</th>\n",
       "      <th>Product_ID</th>\n",
       "      <th>Purchase_Amount</th>\n",
       "      <th>Product_Category</th>\n",
       "      <th>Date</th>\n",
       "    </tr>\n",
       "  </thead>\n",
       "  <tbody>\n",
       "    <tr>\n",
       "      <th>0</th>\n",
       "      <td>68</td>\n",
       "      <td>7</td>\n",
       "      <td>77.419384</td>\n",
       "      <td>Fashion</td>\n",
       "      <td>1/1/2023</td>\n",
       "    </tr>\n",
       "    <tr>\n",
       "      <th>1</th>\n",
       "      <td>99</td>\n",
       "      <td>17</td>\n",
       "      <td>106.816134</td>\n",
       "      <td>Fashion</td>\n",
       "      <td>1/2/2023</td>\n",
       "    </tr>\n",
       "    <tr>\n",
       "      <th>2</th>\n",
       "      <td>89</td>\n",
       "      <td>14</td>\n",
       "      <td>56.136732</td>\n",
       "      <td>Grocery</td>\n",
       "      <td>1/3/2023</td>\n",
       "    </tr>\n",
       "    <tr>\n",
       "      <th>3</th>\n",
       "      <td>14</td>\n",
       "      <td>16</td>\n",
       "      <td>58.134780</td>\n",
       "      <td>Electronics</td>\n",
       "      <td>1/4/2023</td>\n",
       "    </tr>\n",
       "    <tr>\n",
       "      <th>4</th>\n",
       "      <td>46</td>\n",
       "      <td>4</td>\n",
       "      <td>94.288088</td>\n",
       "      <td>Fashion</td>\n",
       "      <td>1/5/2023</td>\n",
       "    </tr>\n",
       "    <tr>\n",
       "      <th>5</th>\n",
       "      <td>4</td>\n",
       "      <td>11</td>\n",
       "      <td>93.608022</td>\n",
       "      <td>Fashion</td>\n",
       "      <td>1/6/2023</td>\n",
       "    </tr>\n",
       "    <tr>\n",
       "      <th>6</th>\n",
       "      <td>44</td>\n",
       "      <td>5</td>\n",
       "      <td>192.921984</td>\n",
       "      <td>Fashion</td>\n",
       "      <td>1/7/2023</td>\n",
       "    </tr>\n",
       "    <tr>\n",
       "      <th>7</th>\n",
       "      <td>97</td>\n",
       "      <td>8</td>\n",
       "      <td>81.761711</td>\n",
       "      <td>Fashion</td>\n",
       "      <td>1/8/2023</td>\n",
       "    </tr>\n",
       "    <tr>\n",
       "      <th>8</th>\n",
       "      <td>4</td>\n",
       "      <td>15</td>\n",
       "      <td>NaN</td>\n",
       "      <td>Electronics</td>\n",
       "      <td>1/9/2023</td>\n",
       "    </tr>\n",
       "    <tr>\n",
       "      <th>9</th>\n",
       "      <td>42</td>\n",
       "      <td>1</td>\n",
       "      <td>NaN</td>\n",
       "      <td>Electronics</td>\n",
       "      <td>1/10/2023</td>\n",
       "    </tr>\n",
       "  </tbody>\n",
       "</table>\n",
       "</div>"
      ],
      "text/plain": [
       "   Customer_ID  Product_ID  Purchase_Amount Product_Category       Date\n",
       "0           68           7        77.419384          Fashion   1/1/2023\n",
       "1           99          17       106.816134          Fashion   1/2/2023\n",
       "2           89          14        56.136732          Grocery   1/3/2023\n",
       "3           14          16        58.134780      Electronics   1/4/2023\n",
       "4           46           4        94.288088          Fashion   1/5/2023\n",
       "5            4          11        93.608022          Fashion   1/6/2023\n",
       "6           44           5       192.921984          Fashion   1/7/2023\n",
       "7           97           8        81.761711          Fashion   1/8/2023\n",
       "8            4          15              NaN      Electronics   1/9/2023\n",
       "9           42           1              NaN      Electronics  1/10/2023"
      ]
     },
     "execution_count": 3,
     "metadata": {},
     "output_type": "execute_result"
    }
   ],
   "source": [
    "#print first 10 rows \n",
    "df.head(10)"
   ]
  },
  {
   "cell_type": "code",
   "execution_count": 4,
   "id": "f4e8de33-0677-4b92-ae70-a21be2c45843",
   "metadata": {},
   "outputs": [
    {
     "data": {
      "text/plain": [
       "(100, 5)"
      ]
     },
     "execution_count": 4,
     "metadata": {},
     "output_type": "execute_result"
    }
   ],
   "source": [
    "# no. of rows and columns available in the dataset\n",
    "df.shape"
   ]
  },
  {
   "cell_type": "code",
   "execution_count": 5,
   "id": "165fe355-7388-4668-b522-4c53d707f67c",
   "metadata": {},
   "outputs": [
    {
     "name": "stdout",
     "output_type": "stream",
     "text": [
      "<class 'pandas.core.frame.DataFrame'>\n",
      "RangeIndex: 100 entries, 0 to 99\n",
      "Data columns (total 5 columns):\n",
      " #   Column            Non-Null Count  Dtype  \n",
      "---  ------            --------------  -----  \n",
      " 0   Customer_ID       100 non-null    int64  \n",
      " 1   Product_ID        100 non-null    int64  \n",
      " 2   Purchase_Amount   94 non-null     float64\n",
      " 3   Product_Category  100 non-null    object \n",
      " 4   Date              100 non-null    object \n",
      "dtypes: float64(1), int64(2), object(2)\n",
      "memory usage: 4.0+ KB\n"
     ]
    }
   ],
   "source": [
    "# information of dataset\n",
    "df.info()"
   ]
  },
  {
   "cell_type": "code",
   "execution_count": 6,
   "id": "6a3ecb93-2eb2-4560-8cc5-744514c60086",
   "metadata": {},
   "outputs": [
    {
     "data": {
      "text/html": [
       "<div>\n",
       "<style scoped>\n",
       "    .dataframe tbody tr th:only-of-type {\n",
       "        vertical-align: middle;\n",
       "    }\n",
       "\n",
       "    .dataframe tbody tr th {\n",
       "        vertical-align: top;\n",
       "    }\n",
       "\n",
       "    .dataframe thead th {\n",
       "        text-align: right;\n",
       "    }\n",
       "</style>\n",
       "<table border=\"1\" class=\"dataframe\">\n",
       "  <thead>\n",
       "    <tr style=\"text-align: right;\">\n",
       "      <th></th>\n",
       "      <th>Customer_ID</th>\n",
       "      <th>Product_ID</th>\n",
       "      <th>Purchase_Amount</th>\n",
       "    </tr>\n",
       "  </thead>\n",
       "  <tbody>\n",
       "    <tr>\n",
       "      <th>count</th>\n",
       "      <td>100.000000</td>\n",
       "      <td>100.000000</td>\n",
       "      <td>94.000000</td>\n",
       "    </tr>\n",
       "    <tr>\n",
       "      <th>mean</th>\n",
       "      <td>44.570000</td>\n",
       "      <td>10.530000</td>\n",
       "      <td>109.240952</td>\n",
       "    </tr>\n",
       "    <tr>\n",
       "      <th>std</th>\n",
       "      <td>29.301034</td>\n",
       "      <td>5.446628</td>\n",
       "      <td>54.221549</td>\n",
       "    </tr>\n",
       "    <tr>\n",
       "      <th>min</th>\n",
       "      <td>1.000000</td>\n",
       "      <td>1.000000</td>\n",
       "      <td>13.384729</td>\n",
       "    </tr>\n",
       "    <tr>\n",
       "      <th>25%</th>\n",
       "      <td>17.500000</td>\n",
       "      <td>6.000000</td>\n",
       "      <td>68.875891</td>\n",
       "    </tr>\n",
       "    <tr>\n",
       "      <th>50%</th>\n",
       "      <td>42.500000</td>\n",
       "      <td>11.000000</td>\n",
       "      <td>104.510413</td>\n",
       "    </tr>\n",
       "    <tr>\n",
       "      <th>75%</th>\n",
       "      <td>69.000000</td>\n",
       "      <td>15.000000</td>\n",
       "      <td>156.990030</td>\n",
       "    </tr>\n",
       "    <tr>\n",
       "      <th>max</th>\n",
       "      <td>99.000000</td>\n",
       "      <td>20.000000</td>\n",
       "      <td>198.951354</td>\n",
       "    </tr>\n",
       "  </tbody>\n",
       "</table>\n",
       "</div>"
      ],
      "text/plain": [
       "       Customer_ID  Product_ID  Purchase_Amount\n",
       "count   100.000000  100.000000        94.000000\n",
       "mean     44.570000   10.530000       109.240952\n",
       "std      29.301034    5.446628        54.221549\n",
       "min       1.000000    1.000000        13.384729\n",
       "25%      17.500000    6.000000        68.875891\n",
       "50%      42.500000   11.000000       104.510413\n",
       "75%      69.000000   15.000000       156.990030\n",
       "max      99.000000   20.000000       198.951354"
      ]
     },
     "execution_count": 6,
     "metadata": {},
     "output_type": "execute_result"
    }
   ],
   "source": [
    "#statistical summary of dataset - numerical fields\n",
    "df.describe()"
   ]
  },
  {
   "cell_type": "code",
   "execution_count": 7,
   "id": "19395bf6-1140-463a-8a23-50f13d4ab077",
   "metadata": {},
   "outputs": [
    {
     "data": {
      "text/plain": [
       "Customer_ID           int64\n",
       "Product_ID            int64\n",
       "Purchase_Amount     float64\n",
       "Product_Category     object\n",
       "Date                 object\n",
       "dtype: object"
      ]
     },
     "execution_count": 7,
     "metadata": {},
     "output_type": "execute_result"
    }
   ],
   "source": [
    "#Check data types of each column\n",
    "df.dtypes"
   ]
  },
  {
   "cell_type": "code",
   "execution_count": 8,
   "id": "a2fcafe2-0aae-49f2-accd-5fe72459daf1",
   "metadata": {},
   "outputs": [
    {
     "data": {
      "text/plain": [
       "58.13477971"
      ]
     },
     "execution_count": 8,
     "metadata": {},
     "output_type": "execute_result"
    }
   ],
   "source": [
    "#df.at[row_label,column_label]\n",
    "df.at[3,'Purchase_Amount']"
   ]
  },
  {
   "cell_type": "code",
   "execution_count": 9,
   "id": "60ef4659-6427-4a9d-9e42-ddf64eaf1216",
   "metadata": {},
   "outputs": [
    {
     "data": {
      "text/html": [
       "<div>\n",
       "<style scoped>\n",
       "    .dataframe tbody tr th:only-of-type {\n",
       "        vertical-align: middle;\n",
       "    }\n",
       "\n",
       "    .dataframe tbody tr th {\n",
       "        vertical-align: top;\n",
       "    }\n",
       "\n",
       "    .dataframe thead th {\n",
       "        text-align: right;\n",
       "    }\n",
       "</style>\n",
       "<table border=\"1\" class=\"dataframe\">\n",
       "  <thead>\n",
       "    <tr style=\"text-align: right;\">\n",
       "      <th></th>\n",
       "      <th>Customer_ID</th>\n",
       "      <th>Product_ID</th>\n",
       "      <th>Purchase_Amount</th>\n",
       "      <th>Product_Category</th>\n",
       "      <th>Date</th>\n",
       "    </tr>\n",
       "  </thead>\n",
       "  <tbody>\n",
       "    <tr>\n",
       "      <th>0</th>\n",
       "      <td>68</td>\n",
       "      <td>7</td>\n",
       "      <td>77.419384</td>\n",
       "      <td>Fashion</td>\n",
       "      <td>1/1/2023</td>\n",
       "    </tr>\n",
       "    <tr>\n",
       "      <th>1</th>\n",
       "      <td>99</td>\n",
       "      <td>17</td>\n",
       "      <td>106.816134</td>\n",
       "      <td>Fashion</td>\n",
       "      <td>1/2/2023</td>\n",
       "    </tr>\n",
       "    <tr>\n",
       "      <th>2</th>\n",
       "      <td>89</td>\n",
       "      <td>14</td>\n",
       "      <td>56.136732</td>\n",
       "      <td>Grocery</td>\n",
       "      <td>1/3/2023</td>\n",
       "    </tr>\n",
       "    <tr>\n",
       "      <th>3</th>\n",
       "      <td>14</td>\n",
       "      <td>16</td>\n",
       "      <td>90.000000</td>\n",
       "      <td>Electronics</td>\n",
       "      <td>1/4/2023</td>\n",
       "    </tr>\n",
       "    <tr>\n",
       "      <th>4</th>\n",
       "      <td>46</td>\n",
       "      <td>4</td>\n",
       "      <td>94.288088</td>\n",
       "      <td>Fashion</td>\n",
       "      <td>1/5/2023</td>\n",
       "    </tr>\n",
       "    <tr>\n",
       "      <th>...</th>\n",
       "      <td>...</td>\n",
       "      <td>...</td>\n",
       "      <td>...</td>\n",
       "      <td>...</td>\n",
       "      <td>...</td>\n",
       "    </tr>\n",
       "    <tr>\n",
       "      <th>95</th>\n",
       "      <td>12</td>\n",
       "      <td>18</td>\n",
       "      <td>95.932290</td>\n",
       "      <td>Electronics</td>\n",
       "      <td>4/6/2023</td>\n",
       "    </tr>\n",
       "    <tr>\n",
       "      <th>96</th>\n",
       "      <td>25</td>\n",
       "      <td>15</td>\n",
       "      <td>109.870901</td>\n",
       "      <td>Grocery</td>\n",
       "      <td>4/7/2023</td>\n",
       "    </tr>\n",
       "    <tr>\n",
       "      <th>97</th>\n",
       "      <td>24</td>\n",
       "      <td>16</td>\n",
       "      <td>146.808440</td>\n",
       "      <td>Fashion</td>\n",
       "      <td>4/8/2023</td>\n",
       "    </tr>\n",
       "    <tr>\n",
       "      <th>98</th>\n",
       "      <td>53</td>\n",
       "      <td>5</td>\n",
       "      <td>76.145301</td>\n",
       "      <td>Fashion</td>\n",
       "      <td>4/9/2023</td>\n",
       "    </tr>\n",
       "    <tr>\n",
       "      <th>99</th>\n",
       "      <td>45</td>\n",
       "      <td>13</td>\n",
       "      <td>124.876373</td>\n",
       "      <td>Grocery</td>\n",
       "      <td>4/10/2023</td>\n",
       "    </tr>\n",
       "  </tbody>\n",
       "</table>\n",
       "<p>100 rows × 5 columns</p>\n",
       "</div>"
      ],
      "text/plain": [
       "    Customer_ID  Product_ID  Purchase_Amount Product_Category       Date\n",
       "0            68           7        77.419384          Fashion   1/1/2023\n",
       "1            99          17       106.816134          Fashion   1/2/2023\n",
       "2            89          14        56.136732          Grocery   1/3/2023\n",
       "3            14          16        90.000000      Electronics   1/4/2023\n",
       "4            46           4        94.288088          Fashion   1/5/2023\n",
       "..          ...         ...              ...              ...        ...\n",
       "95           12          18        95.932290      Electronics   4/6/2023\n",
       "96           25          15       109.870901          Grocery   4/7/2023\n",
       "97           24          16       146.808440          Fashion   4/8/2023\n",
       "98           53           5        76.145301          Fashion   4/9/2023\n",
       "99           45          13       124.876373          Grocery  4/10/2023\n",
       "\n",
       "[100 rows x 5 columns]"
      ]
     },
     "execution_count": 9,
     "metadata": {},
     "output_type": "execute_result"
    }
   ],
   "source": [
    "df.at[3,'Purchase_Amount'] = 90\n",
    "df"
   ]
  },
  {
   "cell_type": "code",
   "execution_count": 33,
   "id": "1ed9ec20-f735-4a33-afcb-cb42b1a76bb8",
   "metadata": {},
   "outputs": [
    {
     "data": {
      "text/html": [
       "<div>\n",
       "<style scoped>\n",
       "    .dataframe tbody tr th:only-of-type {\n",
       "        vertical-align: middle;\n",
       "    }\n",
       "\n",
       "    .dataframe tbody tr th {\n",
       "        vertical-align: top;\n",
       "    }\n",
       "\n",
       "    .dataframe thead th {\n",
       "        text-align: right;\n",
       "    }\n",
       "</style>\n",
       "<table border=\"1\" class=\"dataframe\">\n",
       "  <thead>\n",
       "    <tr style=\"text-align: right;\">\n",
       "      <th></th>\n",
       "      <th>Customer_ID</th>\n",
       "      <th>Product_ID</th>\n",
       "      <th>Purchase_Amount</th>\n",
       "      <th>Product_Category</th>\n",
       "      <th>Date</th>\n",
       "    </tr>\n",
       "  </thead>\n",
       "  <tbody>\n",
       "    <tr>\n",
       "      <th>0</th>\n",
       "      <td>68</td>\n",
       "      <td>7</td>\n",
       "      <td>77.419384</td>\n",
       "      <td>Male/Female Fashion</td>\n",
       "      <td>1/1/2023</td>\n",
       "    </tr>\n",
       "    <tr>\n",
       "      <th>1</th>\n",
       "      <td>99</td>\n",
       "      <td>17</td>\n",
       "      <td>106.816134</td>\n",
       "      <td>Male/Female Fashion</td>\n",
       "      <td>1/2/2023</td>\n",
       "    </tr>\n",
       "    <tr>\n",
       "      <th>2</th>\n",
       "      <td>89</td>\n",
       "      <td>14</td>\n",
       "      <td>56.136732</td>\n",
       "      <td>Grocery</td>\n",
       "      <td>1/3/2023</td>\n",
       "    </tr>\n",
       "    <tr>\n",
       "      <th>3</th>\n",
       "      <td>14</td>\n",
       "      <td>16</td>\n",
       "      <td>90.000000</td>\n",
       "      <td>Electronics</td>\n",
       "      <td>1/4/2023</td>\n",
       "    </tr>\n",
       "    <tr>\n",
       "      <th>4</th>\n",
       "      <td>46</td>\n",
       "      <td>4</td>\n",
       "      <td>94.288088</td>\n",
       "      <td>Male/Female Fashion</td>\n",
       "      <td>1/5/2023</td>\n",
       "    </tr>\n",
       "    <tr>\n",
       "      <th>...</th>\n",
       "      <td>...</td>\n",
       "      <td>...</td>\n",
       "      <td>...</td>\n",
       "      <td>...</td>\n",
       "      <td>...</td>\n",
       "    </tr>\n",
       "    <tr>\n",
       "      <th>95</th>\n",
       "      <td>12</td>\n",
       "      <td>18</td>\n",
       "      <td>95.932290</td>\n",
       "      <td>Electronics</td>\n",
       "      <td>4/6/2023</td>\n",
       "    </tr>\n",
       "    <tr>\n",
       "      <th>96</th>\n",
       "      <td>25</td>\n",
       "      <td>15</td>\n",
       "      <td>109.870901</td>\n",
       "      <td>Grocery</td>\n",
       "      <td>4/7/2023</td>\n",
       "    </tr>\n",
       "    <tr>\n",
       "      <th>97</th>\n",
       "      <td>24</td>\n",
       "      <td>16</td>\n",
       "      <td>146.808440</td>\n",
       "      <td>Male/Female Fashion</td>\n",
       "      <td>4/8/2023</td>\n",
       "    </tr>\n",
       "    <tr>\n",
       "      <th>98</th>\n",
       "      <td>53</td>\n",
       "      <td>5</td>\n",
       "      <td>76.145301</td>\n",
       "      <td>Male/Female Fashion</td>\n",
       "      <td>4/9/2023</td>\n",
       "    </tr>\n",
       "    <tr>\n",
       "      <th>99</th>\n",
       "      <td>45</td>\n",
       "      <td>13</td>\n",
       "      <td>124.876373</td>\n",
       "      <td>Grocery</td>\n",
       "      <td>4/10/2023</td>\n",
       "    </tr>\n",
       "  </tbody>\n",
       "</table>\n",
       "<p>100 rows × 5 columns</p>\n",
       "</div>"
      ],
      "text/plain": [
       "    Customer_ID  Product_ID  Purchase_Amount     Product_Category       Date\n",
       "0            68           7        77.419384  Male/Female Fashion   1/1/2023\n",
       "1            99          17       106.816134  Male/Female Fashion   1/2/2023\n",
       "2            89          14        56.136732              Grocery   1/3/2023\n",
       "3            14          16        90.000000          Electronics   1/4/2023\n",
       "4            46           4        94.288088  Male/Female Fashion   1/5/2023\n",
       "..          ...         ...              ...                  ...        ...\n",
       "95           12          18        95.932290          Electronics   4/6/2023\n",
       "96           25          15       109.870901              Grocery   4/7/2023\n",
       "97           24          16       146.808440  Male/Female Fashion   4/8/2023\n",
       "98           53           5        76.145301  Male/Female Fashion   4/9/2023\n",
       "99           45          13       124.876373              Grocery  4/10/2023\n",
       "\n",
       "[100 rows x 5 columns]"
      ]
     },
     "execution_count": 33,
     "metadata": {},
     "output_type": "execute_result"
    }
   ],
   "source": [
    "df.replace('Fashion','Male/Female Fashion',inplace=True)\n",
    "df"
   ]
  },
  {
   "cell_type": "code",
   "execution_count": 11,
   "id": "9bf2c59a-f424-4c83-86c5-e88c973b46c3",
   "metadata": {},
   "outputs": [
    {
     "data": {
      "text/plain": [
       "106.8161341"
      ]
     },
     "execution_count": 11,
     "metadata": {},
     "output_type": "execute_result"
    }
   ],
   "source": [
    "#df.iloc[row_index,column_index]\n",
    "\n",
    "df.iloc[1,2]#will select second row and third column"
   ]
  },
  {
   "cell_type": "code",
   "execution_count": 12,
   "id": "adb1189a-6dd5-4de6-b1af-8c8a0f61c629",
   "metadata": {},
   "outputs": [
    {
     "data": {
      "text/plain": [
       "Customer_ID                          99\n",
       "Product_ID                           17\n",
       "Purchase_Amount              106.816134\n",
       "Product_Category    Male/Female Fashion\n",
       "Date                           1/2/2023\n",
       "Name: 1, dtype: object"
      ]
     },
     "execution_count": 12,
     "metadata": {},
     "output_type": "execute_result"
    }
   ],
   "source": [
    "df.iloc[1]#will select second row"
   ]
  },
  {
   "cell_type": "code",
   "execution_count": 13,
   "id": "5e7753df-4d90-4c8b-949b-e02bcdd5a94e",
   "metadata": {},
   "outputs": [
    {
     "data": {
      "text/html": [
       "<div>\n",
       "<style scoped>\n",
       "    .dataframe tbody tr th:only-of-type {\n",
       "        vertical-align: middle;\n",
       "    }\n",
       "\n",
       "    .dataframe tbody tr th {\n",
       "        vertical-align: top;\n",
       "    }\n",
       "\n",
       "    .dataframe thead th {\n",
       "        text-align: right;\n",
       "    }\n",
       "</style>\n",
       "<table border=\"1\" class=\"dataframe\">\n",
       "  <thead>\n",
       "    <tr style=\"text-align: right;\">\n",
       "      <th></th>\n",
       "      <th>Product_ID</th>\n",
       "      <th>Purchase_Amount</th>\n",
       "    </tr>\n",
       "  </thead>\n",
       "  <tbody>\n",
       "    <tr>\n",
       "      <th>0</th>\n",
       "      <td>7</td>\n",
       "      <td>77.419384</td>\n",
       "    </tr>\n",
       "    <tr>\n",
       "      <th>1</th>\n",
       "      <td>17</td>\n",
       "      <td>106.816134</td>\n",
       "    </tr>\n",
       "  </tbody>\n",
       "</table>\n",
       "</div>"
      ],
      "text/plain": [
       "   Product_ID  Purchase_Amount\n",
       "0           7        77.419384\n",
       "1          17       106.816134"
      ]
     },
     "execution_count": 13,
     "metadata": {},
     "output_type": "execute_result"
    }
   ],
   "source": [
    "df.iloc[0:2,1:3] #will select subeset - rows index 0 and 1 and columns index 1 and 2"
   ]
  },
  {
   "cell_type": "code",
   "execution_count": 14,
   "id": "6104aa81-0b0d-4eac-814e-07f0048611f6",
   "metadata": {},
   "outputs": [
    {
     "data": {
      "text/html": [
       "<div>\n",
       "<style scoped>\n",
       "    .dataframe tbody tr th:only-of-type {\n",
       "        vertical-align: middle;\n",
       "    }\n",
       "\n",
       "    .dataframe tbody tr th {\n",
       "        vertical-align: top;\n",
       "    }\n",
       "\n",
       "    .dataframe thead th {\n",
       "        text-align: right;\n",
       "    }\n",
       "</style>\n",
       "<table border=\"1\" class=\"dataframe\">\n",
       "  <thead>\n",
       "    <tr style=\"text-align: right;\">\n",
       "      <th></th>\n",
       "      <th>Customer_ID</th>\n",
       "      <th>Product_ID</th>\n",
       "      <th>Purchase_Amount</th>\n",
       "      <th>Product_Category</th>\n",
       "      <th>Date</th>\n",
       "    </tr>\n",
       "  </thead>\n",
       "  <tbody>\n",
       "    <tr>\n",
       "      <th>0</th>\n",
       "      <td>68</td>\n",
       "      <td>7</td>\n",
       "      <td>77.419384</td>\n",
       "      <td>Male/Female Fashion</td>\n",
       "      <td>1/1/2023</td>\n",
       "    </tr>\n",
       "    <tr>\n",
       "      <th>2</th>\n",
       "      <td>89</td>\n",
       "      <td>14</td>\n",
       "      <td>56.136732</td>\n",
       "      <td>Grocery</td>\n",
       "      <td>1/3/2023</td>\n",
       "    </tr>\n",
       "  </tbody>\n",
       "</table>\n",
       "</div>"
      ],
      "text/plain": [
       "   Customer_ID  Product_ID  Purchase_Amount     Product_Category      Date\n",
       "0           68           7        77.419384  Male/Female Fashion  1/1/2023\n",
       "2           89          14        56.136732              Grocery  1/3/2023"
      ]
     },
     "execution_count": 14,
     "metadata": {},
     "output_type": "execute_result"
    }
   ],
   "source": [
    "df.iloc[[0,2],:] #will select rows index 0 and 2 and all columns"
   ]
  },
  {
   "cell_type": "code",
   "execution_count": 15,
   "id": "ec4cc915-952d-40e2-9b80-ffc07c5f434c",
   "metadata": {},
   "outputs": [
    {
     "data": {
      "text/html": [
       "<div>\n",
       "<style scoped>\n",
       "    .dataframe tbody tr th:only-of-type {\n",
       "        vertical-align: middle;\n",
       "    }\n",
       "\n",
       "    .dataframe tbody tr th {\n",
       "        vertical-align: top;\n",
       "    }\n",
       "\n",
       "    .dataframe thead th {\n",
       "        text-align: right;\n",
       "    }\n",
       "</style>\n",
       "<table border=\"1\" class=\"dataframe\">\n",
       "  <thead>\n",
       "    <tr style=\"text-align: right;\">\n",
       "      <th></th>\n",
       "      <th>Customer_ID</th>\n",
       "      <th>Purchase_Amount</th>\n",
       "    </tr>\n",
       "  </thead>\n",
       "  <tbody>\n",
       "    <tr>\n",
       "      <th>0</th>\n",
       "      <td>68</td>\n",
       "      <td>77.419384</td>\n",
       "    </tr>\n",
       "    <tr>\n",
       "      <th>1</th>\n",
       "      <td>99</td>\n",
       "      <td>106.816134</td>\n",
       "    </tr>\n",
       "    <tr>\n",
       "      <th>2</th>\n",
       "      <td>89</td>\n",
       "      <td>56.136732</td>\n",
       "    </tr>\n",
       "    <tr>\n",
       "      <th>3</th>\n",
       "      <td>14</td>\n",
       "      <td>90.000000</td>\n",
       "    </tr>\n",
       "    <tr>\n",
       "      <th>4</th>\n",
       "      <td>46</td>\n",
       "      <td>94.288088</td>\n",
       "    </tr>\n",
       "    <tr>\n",
       "      <th>...</th>\n",
       "      <td>...</td>\n",
       "      <td>...</td>\n",
       "    </tr>\n",
       "    <tr>\n",
       "      <th>95</th>\n",
       "      <td>12</td>\n",
       "      <td>95.932290</td>\n",
       "    </tr>\n",
       "    <tr>\n",
       "      <th>96</th>\n",
       "      <td>25</td>\n",
       "      <td>109.870901</td>\n",
       "    </tr>\n",
       "    <tr>\n",
       "      <th>97</th>\n",
       "      <td>24</td>\n",
       "      <td>146.808440</td>\n",
       "    </tr>\n",
       "    <tr>\n",
       "      <th>98</th>\n",
       "      <td>53</td>\n",
       "      <td>76.145301</td>\n",
       "    </tr>\n",
       "    <tr>\n",
       "      <th>99</th>\n",
       "      <td>45</td>\n",
       "      <td>124.876373</td>\n",
       "    </tr>\n",
       "  </tbody>\n",
       "</table>\n",
       "<p>100 rows × 2 columns</p>\n",
       "</div>"
      ],
      "text/plain": [
       "    Customer_ID  Purchase_Amount\n",
       "0            68        77.419384\n",
       "1            99       106.816134\n",
       "2            89        56.136732\n",
       "3            14        90.000000\n",
       "4            46        94.288088\n",
       "..          ...              ...\n",
       "95           12        95.932290\n",
       "96           25       109.870901\n",
       "97           24       146.808440\n",
       "98           53        76.145301\n",
       "99           45       124.876373\n",
       "\n",
       "[100 rows x 2 columns]"
      ]
     },
     "execution_count": 15,
     "metadata": {},
     "output_type": "execute_result"
    }
   ],
   "source": [
    "df.iloc[:,[0,2]]#will select all rows and columns index 0 and 2"
   ]
  },
  {
   "cell_type": "code",
   "execution_count": 16,
   "id": "10e8e955-0814-4a4f-883c-b8cc49e857cd",
   "metadata": {},
   "outputs": [
    {
     "data": {
      "text/html": [
       "<div>\n",
       "<style scoped>\n",
       "    .dataframe tbody tr th:only-of-type {\n",
       "        vertical-align: middle;\n",
       "    }\n",
       "\n",
       "    .dataframe tbody tr th {\n",
       "        vertical-align: top;\n",
       "    }\n",
       "\n",
       "    .dataframe thead th {\n",
       "        text-align: right;\n",
       "    }\n",
       "</style>\n",
       "<table border=\"1\" class=\"dataframe\">\n",
       "  <thead>\n",
       "    <tr style=\"text-align: right;\">\n",
       "      <th></th>\n",
       "      <th>Product_ID</th>\n",
       "      <th>Purchase_Amount</th>\n",
       "    </tr>\n",
       "  </thead>\n",
       "  <tbody>\n",
       "    <tr>\n",
       "      <th>0</th>\n",
       "      <td>7</td>\n",
       "      <td>77.419384</td>\n",
       "    </tr>\n",
       "    <tr>\n",
       "      <th>2</th>\n",
       "      <td>14</td>\n",
       "      <td>56.136732</td>\n",
       "    </tr>\n",
       "  </tbody>\n",
       "</table>\n",
       "</div>"
      ],
      "text/plain": [
       "   Product_ID  Purchase_Amount\n",
       "0           7        77.419384\n",
       "2          14        56.136732"
      ]
     },
     "execution_count": 16,
     "metadata": {},
     "output_type": "execute_result"
    }
   ],
   "source": [
    "df.iloc[[0,2],[1,2]]#will select row index 0 and 2, column index 1 and 2"
   ]
  },
  {
   "cell_type": "code",
   "execution_count": 35,
   "id": "f53a7b87-fbb3-41ef-8e95-49dad0f07d26",
   "metadata": {},
   "outputs": [
    {
     "ename": "KeyError",
     "evalue": "\"None of [Index([1, 2], dtype='int32')] are in the [columns]\"",
     "output_type": "error",
     "traceback": [
      "\u001b[1;31m---------------------------------------------------------------------------\u001b[0m",
      "\u001b[1;31mKeyError\u001b[0m                                  Traceback (most recent call last)",
      "Cell \u001b[1;32mIn[35], line 1\u001b[0m\n\u001b[1;32m----> 1\u001b[0m \u001b[43mdf\u001b[49m\u001b[38;5;241;43m.\u001b[39;49m\u001b[43mloc\u001b[49m\u001b[43m[\u001b[49m\u001b[43m[\u001b[49m\u001b[38;5;241;43m0\u001b[39;49m\u001b[43m,\u001b[49m\u001b[38;5;241;43m2\u001b[39;49m\u001b[43m]\u001b[49m\u001b[43m,\u001b[49m\u001b[43m[\u001b[49m\u001b[38;5;241;43m1\u001b[39;49m\u001b[43m,\u001b[49m\u001b[38;5;241;43m2\u001b[39;49m\u001b[43m]\u001b[49m\u001b[43m]\u001b[49m\u001b[38;5;66;03m#will select row index 0 and 2, column index 1 and 2\u001b[39;00m\n",
      "File \u001b[1;32m~\\AppData\\Local\\Programs\\Python\\Python312\\Lib\\site-packages\\pandas\\core\\indexing.py:1147\u001b[0m, in \u001b[0;36m_LocationIndexer.__getitem__\u001b[1;34m(self, key)\u001b[0m\n\u001b[0;32m   1145\u001b[0m     \u001b[38;5;28;01mif\u001b[39;00m \u001b[38;5;28mself\u001b[39m\u001b[38;5;241m.\u001b[39m_is_scalar_access(key):\n\u001b[0;32m   1146\u001b[0m         \u001b[38;5;28;01mreturn\u001b[39;00m \u001b[38;5;28mself\u001b[39m\u001b[38;5;241m.\u001b[39mobj\u001b[38;5;241m.\u001b[39m_get_value(\u001b[38;5;241m*\u001b[39mkey, takeable\u001b[38;5;241m=\u001b[39m\u001b[38;5;28mself\u001b[39m\u001b[38;5;241m.\u001b[39m_takeable)\n\u001b[1;32m-> 1147\u001b[0m     \u001b[38;5;28;01mreturn\u001b[39;00m \u001b[38;5;28;43mself\u001b[39;49m\u001b[38;5;241;43m.\u001b[39;49m\u001b[43m_getitem_tuple\u001b[49m\u001b[43m(\u001b[49m\u001b[43mkey\u001b[49m\u001b[43m)\u001b[49m\n\u001b[0;32m   1148\u001b[0m \u001b[38;5;28;01melse\u001b[39;00m:\n\u001b[0;32m   1149\u001b[0m     \u001b[38;5;66;03m# we by definition only have the 0th axis\u001b[39;00m\n\u001b[0;32m   1150\u001b[0m     axis \u001b[38;5;241m=\u001b[39m \u001b[38;5;28mself\u001b[39m\u001b[38;5;241m.\u001b[39maxis \u001b[38;5;129;01mor\u001b[39;00m \u001b[38;5;241m0\u001b[39m\n",
      "File \u001b[1;32m~\\AppData\\Local\\Programs\\Python\\Python312\\Lib\\site-packages\\pandas\\core\\indexing.py:1337\u001b[0m, in \u001b[0;36m_LocIndexer._getitem_tuple\u001b[1;34m(self, tup)\u001b[0m\n\u001b[0;32m   1335\u001b[0m \u001b[38;5;66;03m# ugly hack for GH #836\u001b[39;00m\n\u001b[0;32m   1336\u001b[0m \u001b[38;5;28;01mif\u001b[39;00m \u001b[38;5;28mself\u001b[39m\u001b[38;5;241m.\u001b[39m_multi_take_opportunity(tup):\n\u001b[1;32m-> 1337\u001b[0m     \u001b[38;5;28;01mreturn\u001b[39;00m \u001b[38;5;28;43mself\u001b[39;49m\u001b[38;5;241;43m.\u001b[39;49m\u001b[43m_multi_take\u001b[49m\u001b[43m(\u001b[49m\u001b[43mtup\u001b[49m\u001b[43m)\u001b[49m\n\u001b[0;32m   1339\u001b[0m \u001b[38;5;28;01mreturn\u001b[39;00m \u001b[38;5;28mself\u001b[39m\u001b[38;5;241m.\u001b[39m_getitem_tuple_same_dim(tup)\n",
      "File \u001b[1;32m~\\AppData\\Local\\Programs\\Python\\Python312\\Lib\\site-packages\\pandas\\core\\indexing.py:1289\u001b[0m, in \u001b[0;36m_LocIndexer._multi_take\u001b[1;34m(self, tup)\u001b[0m\n\u001b[0;32m   1272\u001b[0m \u001b[38;5;250m\u001b[39m\u001b[38;5;124;03m\"\"\"\u001b[39;00m\n\u001b[0;32m   1273\u001b[0m \u001b[38;5;124;03mCreate the indexers for the passed tuple of keys, and\u001b[39;00m\n\u001b[0;32m   1274\u001b[0m \u001b[38;5;124;03mexecutes the take operation. This allows the take operation to be\u001b[39;00m\n\u001b[1;32m   (...)\u001b[0m\n\u001b[0;32m   1285\u001b[0m \u001b[38;5;124;03mvalues: same type as the object being indexed\u001b[39;00m\n\u001b[0;32m   1286\u001b[0m \u001b[38;5;124;03m\"\"\"\u001b[39;00m\n\u001b[0;32m   1287\u001b[0m \u001b[38;5;66;03m# GH 836\u001b[39;00m\n\u001b[0;32m   1288\u001b[0m d \u001b[38;5;241m=\u001b[39m {\n\u001b[1;32m-> 1289\u001b[0m     axis: \u001b[38;5;28;43mself\u001b[39;49m\u001b[38;5;241;43m.\u001b[39;49m\u001b[43m_get_listlike_indexer\u001b[49m\u001b[43m(\u001b[49m\u001b[43mkey\u001b[49m\u001b[43m,\u001b[49m\u001b[43m \u001b[49m\u001b[43maxis\u001b[49m\u001b[43m)\u001b[49m\n\u001b[0;32m   1290\u001b[0m     \u001b[38;5;28;01mfor\u001b[39;00m (key, axis) \u001b[38;5;129;01min\u001b[39;00m \u001b[38;5;28mzip\u001b[39m(tup, \u001b[38;5;28mself\u001b[39m\u001b[38;5;241m.\u001b[39mobj\u001b[38;5;241m.\u001b[39m_AXIS_ORDERS)\n\u001b[0;32m   1291\u001b[0m }\n\u001b[0;32m   1292\u001b[0m \u001b[38;5;28;01mreturn\u001b[39;00m \u001b[38;5;28mself\u001b[39m\u001b[38;5;241m.\u001b[39mobj\u001b[38;5;241m.\u001b[39m_reindex_with_indexers(d, copy\u001b[38;5;241m=\u001b[39m\u001b[38;5;28;01mTrue\u001b[39;00m, allow_dups\u001b[38;5;241m=\u001b[39m\u001b[38;5;28;01mTrue\u001b[39;00m)\n",
      "File \u001b[1;32m~\\AppData\\Local\\Programs\\Python\\Python312\\Lib\\site-packages\\pandas\\core\\indexing.py:1520\u001b[0m, in \u001b[0;36m_LocIndexer._get_listlike_indexer\u001b[1;34m(self, key, axis)\u001b[0m\n\u001b[0;32m   1517\u001b[0m ax \u001b[38;5;241m=\u001b[39m \u001b[38;5;28mself\u001b[39m\u001b[38;5;241m.\u001b[39mobj\u001b[38;5;241m.\u001b[39m_get_axis(axis)\n\u001b[0;32m   1518\u001b[0m axis_name \u001b[38;5;241m=\u001b[39m \u001b[38;5;28mself\u001b[39m\u001b[38;5;241m.\u001b[39mobj\u001b[38;5;241m.\u001b[39m_get_axis_name(axis)\n\u001b[1;32m-> 1520\u001b[0m keyarr, indexer \u001b[38;5;241m=\u001b[39m \u001b[43max\u001b[49m\u001b[38;5;241;43m.\u001b[39;49m\u001b[43m_get_indexer_strict\u001b[49m\u001b[43m(\u001b[49m\u001b[43mkey\u001b[49m\u001b[43m,\u001b[49m\u001b[43m \u001b[49m\u001b[43maxis_name\u001b[49m\u001b[43m)\u001b[49m\n\u001b[0;32m   1522\u001b[0m \u001b[38;5;28;01mreturn\u001b[39;00m keyarr, indexer\n",
      "File \u001b[1;32m~\\AppData\\Local\\Programs\\Python\\Python312\\Lib\\site-packages\\pandas\\core\\indexes\\base.py:6114\u001b[0m, in \u001b[0;36mIndex._get_indexer_strict\u001b[1;34m(self, key, axis_name)\u001b[0m\n\u001b[0;32m   6111\u001b[0m \u001b[38;5;28;01melse\u001b[39;00m:\n\u001b[0;32m   6112\u001b[0m     keyarr, indexer, new_indexer \u001b[38;5;241m=\u001b[39m \u001b[38;5;28mself\u001b[39m\u001b[38;5;241m.\u001b[39m_reindex_non_unique(keyarr)\n\u001b[1;32m-> 6114\u001b[0m \u001b[38;5;28;43mself\u001b[39;49m\u001b[38;5;241;43m.\u001b[39;49m\u001b[43m_raise_if_missing\u001b[49m\u001b[43m(\u001b[49m\u001b[43mkeyarr\u001b[49m\u001b[43m,\u001b[49m\u001b[43m \u001b[49m\u001b[43mindexer\u001b[49m\u001b[43m,\u001b[49m\u001b[43m \u001b[49m\u001b[43maxis_name\u001b[49m\u001b[43m)\u001b[49m\n\u001b[0;32m   6116\u001b[0m keyarr \u001b[38;5;241m=\u001b[39m \u001b[38;5;28mself\u001b[39m\u001b[38;5;241m.\u001b[39mtake(indexer)\n\u001b[0;32m   6117\u001b[0m \u001b[38;5;28;01mif\u001b[39;00m \u001b[38;5;28misinstance\u001b[39m(key, Index):\n\u001b[0;32m   6118\u001b[0m     \u001b[38;5;66;03m# GH 42790 - Preserve name from an Index\u001b[39;00m\n",
      "File \u001b[1;32m~\\AppData\\Local\\Programs\\Python\\Python312\\Lib\\site-packages\\pandas\\core\\indexes\\base.py:6175\u001b[0m, in \u001b[0;36mIndex._raise_if_missing\u001b[1;34m(self, key, indexer, axis_name)\u001b[0m\n\u001b[0;32m   6173\u001b[0m     \u001b[38;5;28;01mif\u001b[39;00m use_interval_msg:\n\u001b[0;32m   6174\u001b[0m         key \u001b[38;5;241m=\u001b[39m \u001b[38;5;28mlist\u001b[39m(key)\n\u001b[1;32m-> 6175\u001b[0m     \u001b[38;5;28;01mraise\u001b[39;00m \u001b[38;5;167;01mKeyError\u001b[39;00m(\u001b[38;5;124mf\u001b[39m\u001b[38;5;124m\"\u001b[39m\u001b[38;5;124mNone of [\u001b[39m\u001b[38;5;132;01m{\u001b[39;00mkey\u001b[38;5;132;01m}\u001b[39;00m\u001b[38;5;124m] are in the [\u001b[39m\u001b[38;5;132;01m{\u001b[39;00maxis_name\u001b[38;5;132;01m}\u001b[39;00m\u001b[38;5;124m]\u001b[39m\u001b[38;5;124m\"\u001b[39m)\n\u001b[0;32m   6177\u001b[0m not_found \u001b[38;5;241m=\u001b[39m \u001b[38;5;28mlist\u001b[39m(ensure_index(key)[missing_mask\u001b[38;5;241m.\u001b[39mnonzero()[\u001b[38;5;241m0\u001b[39m]]\u001b[38;5;241m.\u001b[39munique())\n\u001b[0;32m   6178\u001b[0m \u001b[38;5;28;01mraise\u001b[39;00m \u001b[38;5;167;01mKeyError\u001b[39;00m(\u001b[38;5;124mf\u001b[39m\u001b[38;5;124m\"\u001b[39m\u001b[38;5;132;01m{\u001b[39;00mnot_found\u001b[38;5;132;01m}\u001b[39;00m\u001b[38;5;124m not in index\u001b[39m\u001b[38;5;124m\"\u001b[39m)\n",
      "\u001b[1;31mKeyError\u001b[0m: \"None of [Index([1, 2], dtype='int32')] are in the [columns]\""
     ]
    }
   ],
   "source": [
    "df.loc[[0,2],[1,2]]#will select row index 0 and 2, column index 1 and 2"
   ]
  },
  {
   "cell_type": "code",
   "execution_count": 18,
   "id": "553d5249-4920-4367-a437-8c91484aa9f4",
   "metadata": {},
   "outputs": [
    {
     "name": "stdout",
     "output_type": "stream",
     "text": [
      "Customer_ID         0\n",
      "Product_ID          0\n",
      "Purchase_Amount     6\n",
      "Product_Category    0\n",
      "Date                0\n",
      "dtype: int64\n",
      "\n",
      " after replacing missing values with mean\n",
      "Customer_ID         0\n",
      "Product_ID          0\n",
      "Purchase_Amount     0\n",
      "Product_Category    0\n",
      "Date                0\n",
      "dtype: int64\n"
     ]
    }
   ],
   "source": [
    "#check total no. of missing values in each column\n",
    "print(df.isnull().sum())\n",
    "\n",
    "#Handle missing value \n",
    "#Missing values can be handled by using two ways \n",
    "#- either delete that particular row or column using df.dropna(), or \n",
    "#- fill blank cell with some value using df.fillna()\n",
    "#(better way to fill with mean,median,or mode\n",
    "\n",
    "m = df['Purchase_Amount'].mean()\n",
    "df['Purchase_Amount'].fillna(m,inplace=True)\n",
    "print('\\n after replacing missing values with mean')\n",
    "print(df.isnull().sum())"
   ]
  },
  {
   "cell_type": "code",
   "execution_count": 36,
   "id": "21f7f127-6113-4770-8833-166a4cb9923e",
   "metadata": {},
   "outputs": [
    {
     "name": "stdout",
     "output_type": "stream",
     "text": [
      "Total purchase amount =  10957.99435951064  rupees\n",
      "Average purchase amount =  109.5799435951064  rupees\n",
      "Minimum purchase amount =  13.38472852  rupees\n",
      "Maximum purchase amount =  198.9513541  rupees\n",
      "Standard deviation of purchase amount =  52.335878620168586\n"
     ]
    }
   ],
   "source": [
    "total = df['Purchase_Amount'].sum()\n",
    "avg = df['Purchase_Amount'].mean()\n",
    "max = df['Purchase_Amount'].max()\n",
    "min = df['Purchase_Amount'].min()\n",
    "std_dev = df['Purchase_Amount'].std()\n",
    "\n",
    "print(\"Total purchase amount = \",total,\" rupees\")\n",
    "print(\"Average purchase amount = \",avg,\" rupees\")\n",
    "print(\"Minimum purchase amount = \",min,\" rupees\")\n",
    "print(\"Maximum purchase amount = \",max,\" rupees\")\n",
    "print(\"Standard deviation of purchase amount = \",std_dev)"
   ]
  },
  {
   "cell_type": "code",
   "execution_count": 20,
   "id": "6089f6b3-a342-4fb0-b9e0-fce3c9c37aba",
   "metadata": {},
   "outputs": [
    {
     "name": "stdout",
     "output_type": "stream",
     "text": [
      "average of purchase amount of each Product_Category\n",
      "Electronics            116.390633\n",
      "Grocery                120.394534\n",
      "Male/Female Fashion     93.690589\n",
      "Name: Purchase_Amount, dtype: float64\n"
     ]
    }
   ],
   "source": [
    "print(\"average of purchase amount of each\",df.groupby('Product_Category')['Purchase_Amount'].mean())"
   ]
  },
  {
   "cell_type": "code",
   "execution_count": 21,
   "id": "a787c4f5-d7f9-4efd-9c4f-5ee6cd30e6a4",
   "metadata": {},
   "outputs": [
    {
     "name": "stdout",
     "output_type": "stream",
     "text": [
      "total items purchased in each Product_Category\n",
      "Electronics            30\n",
      "Grocery                34\n",
      "Male/Female Fashion    36\n",
      "Name: Product_ID, dtype: int64\n"
     ]
    }
   ],
   "source": [
    "print(\"total items purchased in each\",df.groupby('Product_Category')['Product_ID'].count())"
   ]
  },
  {
   "cell_type": "code",
   "execution_count": 22,
   "id": "0c9ec182-8e41-4ac4-80fb-4381a488e270",
   "metadata": {},
   "outputs": [
    {
     "name": "stdout",
     "output_type": "stream",
     "text": [
      "minimum purchase amount of each Product_Category\n",
      "Electronics            18.469877\n",
      "Grocery                30.940632\n",
      "Male/Female Fashion    13.384729\n",
      "Name: Purchase_Amount, dtype: float64\n",
      "maximum of purchase amount of each Product_Category\n",
      "Electronics            198.951354\n",
      "Grocery                197.954730\n",
      "Male/Female Fashion    192.921984\n",
      "Name: Purchase_Amount, dtype: float64\n"
     ]
    }
   ],
   "source": [
    "print(\"minimum purchase amount of each\",df.groupby('Product_Category')['Purchase_Amount'].min())\n",
    "print(\"maximum of purchase amount of each\",df.groupby('Product_Category')['Purchase_Amount'].max())"
   ]
  },
  {
   "cell_type": "code",
   "execution_count": 23,
   "id": "89a13acf-3469-4116-ae43-96fe607ae46d",
   "metadata": {},
   "outputs": [
    {
     "name": "stdout",
     "output_type": "stream",
     "text": [
      "first purchase amount of each Product_Category\n",
      "Electronics            90.000000\n",
      "Grocery                56.136732\n",
      "Male/Female Fashion    77.419384\n",
      "Name: Purchase_Amount, dtype: float64\n",
      "last purchase amount of each Product_Category\n",
      "Electronics             95.932290\n",
      "Grocery                124.876373\n",
      "Male/Female Fashion     76.145301\n",
      "Name: Purchase_Amount, dtype: float64\n"
     ]
    }
   ],
   "source": [
    "print(\"first purchase amount of each\",df.groupby('Product_Category')['Purchase_Amount'].first())\n",
    "print(\"last purchase amount of each\",df.groupby('Product_Category')['Purchase_Amount'].last())"
   ]
  },
  {
   "cell_type": "code",
   "execution_count": 24,
   "id": "e04db9b2-ec2d-43e6-9b00-da6cffe1a1e1",
   "metadata": {},
   "outputs": [
    {
     "name": "stdout",
     "output_type": "stream",
     "text": [
      "Product_Category\n",
      "Electronics            3491.718984\n",
      "Grocery                4093.414155\n",
      "Male/Female Fashion    3372.861221\n",
      "Name: Purchase_Amount, dtype: float64\n"
     ]
    }
   ],
   "source": [
    "#Purchase Summary\n",
    "purchase_summary = df.groupby('Product_Category')['Purchase_Amount'].sum()\n",
    "print(purchase_summary)"
   ]
  },
  {
   "cell_type": "code",
   "execution_count": 25,
   "id": "7794809e-fea7-46a9-b29f-8281c98ccaf2",
   "metadata": {},
   "outputs": [
    {
     "data": {
      "text/plain": [
       "Product_Category\n",
       "Electronics            180.481477\n",
       "Grocery                167.014097\n",
       "Male/Female Fashion    179.537255\n",
       "Name: Purchase_Amount, dtype: float64"
      ]
     },
     "execution_count": 25,
     "metadata": {},
     "output_type": "execute_result"
    }
   ],
   "source": [
    "#create custom aggregation function\n",
    "def agg_function(values):\n",
    "    return values.max() - values.min()\n",
    "\n",
    "df.groupby('Product_Category')['Purchase_Amount'].agg(agg_function)"
   ]
  },
  {
   "cell_type": "code",
   "execution_count": 38,
   "id": "61fd4365-9722-4ec7-b899-38ff86eb3721",
   "metadata": {},
   "outputs": [
    {
     "data": {
      "text/html": [
       "<div>\n",
       "<style scoped>\n",
       "    .dataframe tbody tr th:only-of-type {\n",
       "        vertical-align: middle;\n",
       "    }\n",
       "\n",
       "    .dataframe tbody tr th {\n",
       "        vertical-align: top;\n",
       "    }\n",
       "\n",
       "    .dataframe thead th {\n",
       "        text-align: right;\n",
       "    }\n",
       "</style>\n",
       "<table border=\"1\" class=\"dataframe\">\n",
       "  <thead>\n",
       "    <tr style=\"text-align: right;\">\n",
       "      <th></th>\n",
       "      <th>sum</th>\n",
       "      <th>mean</th>\n",
       "      <th>max</th>\n",
       "      <th>first</th>\n",
       "    </tr>\n",
       "    <tr>\n",
       "      <th>Product_Category</th>\n",
       "      <th></th>\n",
       "      <th></th>\n",
       "      <th></th>\n",
       "      <th></th>\n",
       "    </tr>\n",
       "  </thead>\n",
       "  <tbody>\n",
       "    <tr>\n",
       "      <th>Electronics</th>\n",
       "      <td>3491.718984</td>\n",
       "      <td>116.390633</td>\n",
       "      <td>198.951354</td>\n",
       "      <td>90.000000</td>\n",
       "    </tr>\n",
       "    <tr>\n",
       "      <th>Grocery</th>\n",
       "      <td>4093.414155</td>\n",
       "      <td>120.394534</td>\n",
       "      <td>197.954730</td>\n",
       "      <td>56.136732</td>\n",
       "    </tr>\n",
       "    <tr>\n",
       "      <th>Male/Female Fashion</th>\n",
       "      <td>3372.861221</td>\n",
       "      <td>93.690589</td>\n",
       "      <td>192.921984</td>\n",
       "      <td>77.419384</td>\n",
       "    </tr>\n",
       "  </tbody>\n",
       "</table>\n",
       "</div>"
      ],
      "text/plain": [
       "                             sum        mean         max      first\n",
       "Product_Category                                                   \n",
       "Electronics          3491.718984  116.390633  198.951354  90.000000\n",
       "Grocery              4093.414155  120.394534  197.954730  56.136732\n",
       "Male/Female Fashion  3372.861221   93.690589  192.921984  77.419384"
      ]
     },
     "execution_count": 38,
     "metadata": {},
     "output_type": "execute_result"
    }
   ],
   "source": [
    "#df.groupby('Product_Category')['Purchase_Amount'].agg('mean')\n",
    "df.groupby('Product_Category')['Purchase_Amount'].agg(['sum','mean','max','first'])"
   ]
  },
  {
   "cell_type": "code",
   "execution_count": 27,
   "id": "e3686a98-19df-407c-ad13-3303de8fa055",
   "metadata": {},
   "outputs": [
    {
     "data": {
      "text/plain": [
       "Text(0.5, 1.0, 'purchase summary')"
      ]
     },
     "execution_count": 27,
     "metadata": {},
     "output_type": "execute_result"
    },
    {
     "data": {
      "image/png": "[encoded data removed]",
      "text/plain": [
       "<Figure size 500x200 with 1 Axes>"
      ]
     },
     "metadata": {},
     "output_type": "display_data"
    }
   ],
   "source": [
    "#Bar chart for total purchase amount by product category\n",
    "plt.figure(figsize=(5,2))\n",
    "purchase_summary.plot(kind='bar', color='skyblue')\n",
    "plt.xlabel('product category')\n",
    "plt.ylabel('purchase amount')\n",
    "plt.title('purchase summary')"
   ]
  },
  {
   "cell_type": "code",
   "execution_count": 28,
   "id": "281d7679-f966-4b57-93ff-80a65484bc54",
   "metadata": {},
   "outputs": [
    {
     "data": {
      "text/plain": [
       "Text(0.5, 1.0, 'purchase amount distribution')"
      ]
     },
     "execution_count": 28,
     "metadata": {},
     "output_type": "execute_result"
    },
    {
     "data": {
      "image/png": "[encoded data removed]",
      "text/plain": [
       "<Figure size 500x200 with 1 Axes>"
      ]
     },
     "metadata": {},
     "output_type": "display_data"
    }
   ],
   "source": [
    "#Histogram for purchase amount distribution\n",
    "plt.figure(figsize=(5,2))\n",
    "plt.hist(df['Purchase_Amount'])\n",
    "plt.xlabel('purchase amount')\n",
    "plt.ylabel('frequency')\n",
    "plt.title('purchase amount distribution')"
   ]
  },
  {
   "cell_type": "code",
   "execution_count": 29,
   "id": "03902204-80fe-40cc-bfa2-04b7b2bc061d",
   "metadata": {},
   "outputs": [
    {
     "data": {
      "text/plain": [
       "Text(0, 0.5, 'Total Purchase Amount')"
      ]
     },
     "execution_count": 29,
     "metadata": {},
     "output_type": "execute_result"
    },
    {
     "data": {
      "image/png": "[encoded data removed]",
      "text/plain": [
       "<Figure size 700x200 with 1 Axes>"
      ]
     },
     "metadata": {},
     "output_type": "display_data"
    }
   ],
   "source": [
    "#Line chart for purchase trends\n",
    "plt.figure(figsize=(7,2))\n",
    "purchase_trends = df.groupby('Date')['Purchase_Amount'].sum()\n",
    "purchase_trends.plot(kind='line', marker='D', color='red')\n",
    "plt.title('Purchase Trends Over Time')\n",
    "plt.xlabel('Date')\n",
    "plt.ylabel('Total Purchase Amount')"
   ]
  },
  {
   "cell_type": "code",
   "execution_count": 30,
   "id": "03c559d0-5a8a-4efb-bb5c-f5e670111baa",
   "metadata": {},
   "outputs": [
    {
     "data": {
      "text/plain": [
       "Text(0.5, 1.0, 'Product Category Distribution')"
      ]
     },
     "execution_count": 30,
     "metadata": {},
     "output_type": "execute_result"
    },
    {
     "data": {
      "image/png": "[encoded data removed]",
      "text/plain": [
       "<Figure size 500x400 with 1 Axes>"
      ]
     },
     "metadata": {},
     "output_type": "display_data"
    }
   ],
   "source": [
    "#Pie chart for total products purchase for each category\n",
    "plt.figure(figsize=(5,4))\n",
    "cd = df['Product_Category'].value_counts()\n",
    "labels = df['Product_Category'].unique()\n",
    "color = ['red','green','blue']\n",
    "plt.pie(cd,labels=labels,autopct=lambda p: f'{p * sum(cd) / 100:.0f}',colors=color)\n",
    "plt.title('Product Category Distribution')"
   ]
  },
  {
   "cell_type": "code",
   "execution_count": null,
   "id": "882a6cbd-fd3c-45b4-b734-a1fcde5254f8",
   "metadata": {},
   "outputs": [],
   "source": []
  }
 ],
 "metadata": {
  "kernelspec": {
   "display_name": "Python 3 (ipykernel)",
   "language": "python",
   "name": "python3"
  },
  "language_info": {
   "codemirror_mode": {
    "name": "ipython",
    "version": 3
   },
   "file_extension": ".py",
   "mimetype": "text/x-python",
   "name": "python",
   "nbconvert_exporter": "python",
   "pygments_lexer": "ipython3",
   "version": "3.12.0"
  }
 },
 "nbformat": 4,
 "nbformat_minor": 5
}
